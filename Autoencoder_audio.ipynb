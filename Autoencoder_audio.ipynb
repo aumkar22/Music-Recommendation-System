{
  "nbformat": 4,
  "nbformat_minor": 0,
  "metadata": {
    "colab": {
      "name": "Autoencoder_audio.ipynb",
      "version": "0.3.2",
      "provenance": []
    },
    "kernelspec": {
      "name": "python3",
      "display_name": "Python 3"
    },
    "accelerator": "TPU"
  },
  "cells": [
    {
      "metadata": {
        "id": "dqguDB2IGYdU",
        "colab_type": "code",
        "colab": {
          "base_uri": "https://localhost:8080/",
          "height": 34
        },
        "outputId": "12e4d50a-9eb2-43b7-c936-ad27ba859a38"
      },
      "cell_type": "code",
      "source": [
        "import pandas as pd\n",
        "import random\n",
        "import numpy as np\n",
        "import pickle\n",
        "import keras\n",
        "from keras.layers import *\n",
        "from keras import backend as k\n",
        "from keras import optimizers\n",
        "from keras.models import Model\n",
        "from time import time\n",
        "from keras.models import load_model\n",
        "from google.colab import files\n",
        "from sklearn.cluster import KMeans\n",
        "from sklearn.metrics import accuracy_score, normalized_mutual_info_score"
      ],
      "execution_count": 1,
      "outputs": [
        {
          "output_type": "stream",
          "text": [
            "Using TensorFlow backend.\n"
          ],
          "name": "stderr"
        }
      ]
    },
    {
      "metadata": {
        "id": "_Smg9jphG_dN",
        "colab_type": "code",
        "colab": {}
      },
      "cell_type": "code",
      "source": [
        "uploaded = files.upload()"
      ],
      "execution_count": 0,
      "outputs": []
    },
    {
      "metadata": {
        "id": "v-dN7JjuhDgS",
        "colab_type": "code",
        "colab": {}
      },
      "cell_type": "code",
      "source": [
        "mfccs1 = np.load('mfccs1.npy')\n",
        "#mfccs2 = np.load('mfccs2.npy')\n",
        "#mfccs3 = np.load('mfccs3.npy')\n",
        "#mfccs4 = np.load('mfccs4.npy')"
      ],
      "execution_count": 0,
      "outputs": []
    },
    {
      "metadata": {
        "id": "VXawunEPObnp",
        "colab_type": "code",
        "colab": {}
      },
      "cell_type": "code",
      "source": [
        "pitches1 = np.load('pitches1.npy')\n",
        "#pitches2 = np.load('pitches2.npy')\n",
        "#pitches3 = np.load('pitches3.npy')\n",
        "#pitches4 = np.load('pitches4.npy')"
      ],
      "execution_count": 0,
      "outputs": []
    },
    {
      "metadata": {
        "id": "TvMP3pT6QQw0",
        "colab_type": "code",
        "outputId": "1e096a3d-5137-46f9-9258-49d4ce87c388",
        "colab": {
          "base_uri": "https://localhost:8080/",
          "height": 34
        }
      },
      "cell_type": "code",
      "source": [
        "mfccs2.shape"
      ],
      "execution_count": 4,
      "outputs": [
        {
          "output_type": "execute_result",
          "data": {
            "text/plain": [
              "(2004, 1500, 12)"
            ]
          },
          "metadata": {
            "tags": []
          },
          "execution_count": 4
        }
      ]
    },
    {
      "metadata": {
        "id": "jEoPxWlAOy8I",
        "colab_type": "code",
        "colab": {}
      },
      "cell_type": "code",
      "source": [
        "mfccs12 = np.append(mfccs1, mfccs2, axis = 0)\n",
        "mfccs34 = np.append(mfccs3, mfccs4, axis = 0)\n",
        "mfccs = np.append(mfccs12, mfccs34, axis = 0)\n",
        "\n",
        "pitches12 = np.append(pitches1, pitches2, axis = 0)\n",
        "pitches34 = np.append(pitches3, pitches4, axis = 0)\n",
        "pitches = np.append(pitches12, pitches34, axis = 0)"
      ],
      "execution_count": 0,
      "outputs": []
    },
    {
      "metadata": {
        "id": "POKOzARkQZti",
        "colab_type": "code",
        "colab": {}
      },
      "cell_type": "code",
      "source": [
        "loudness_ = np.load('loudness.npy')"
      ],
      "execution_count": 0,
      "outputs": []
    },
    {
      "metadata": {
        "id": "j5smYDn2Yugf",
        "colab_type": "code",
        "colab": {}
      },
      "cell_type": "code",
      "source": [
        "loudness1 = loudness_[:2004]"
      ],
      "execution_count": 0,
      "outputs": []
    },
    {
      "metadata": {
        "id": "vr56LlABQirB",
        "colab_type": "code",
        "colab": {}
      },
      "cell_type": "code",
      "source": [
        "features = np.append(mfccs1, pitches1, axis = 2)\n",
        "features_ = np.append(features, loudness1, axis = 2)"
      ],
      "execution_count": 0,
      "outputs": []
    },
    {
      "metadata": {
        "id": "LJefEpjOY-hW",
        "colab_type": "code",
        "colab": {
          "base_uri": "https://localhost:8080/",
          "height": 34
        },
        "outputId": "b66a1387-af52-4364-8b99-46f5d6aaa2d4"
      },
      "cell_type": "code",
      "source": [
        "features_.shape"
      ],
      "execution_count": 7,
      "outputs": [
        {
          "output_type": "execute_result",
          "data": {
            "text/plain": [
              "(2004, 1500, 25)"
            ]
          },
          "metadata": {
            "tags": []
          },
          "execution_count": 7
        }
      ]
    },
    {
      "metadata": {
        "id": "JocYzPMyuPZ2",
        "colab_type": "code",
        "colab": {}
      },
      "cell_type": "code",
      "source": [
        "features_dim = 1500\n",
        "wide = 25\n",
        "BATCH_SIZE  = 32\n",
        "N1 = 32\n",
        "N2 = 32\n",
        "Nfc = 520\n",
        "L1 = 30\n",
        "L2 = 15"
      ],
      "execution_count": 0,
      "outputs": []
    },
    {
      "metadata": {
        "id": "DYNs_BE7u3QQ",
        "colab_type": "code",
        "colab": {}
      },
      "cell_type": "code",
      "source": [
        "batches = int(len(features_)/BATCH_SIZE)"
      ],
      "execution_count": 0,
      "outputs": []
    },
    {
      "metadata": {
        "id": "cJs18rfNtTXR",
        "colab_type": "code",
        "colab": {}
      },
      "cell_type": "code",
      "source": [
        "def batch_generator():\n",
        "    \n",
        "  while True:\n",
        "    \n",
        "    for batch in range(batches):\n",
        "      x_ = []\n",
        "      \n",
        "      data_ = features_[batch * BATCH_SIZE: (batch + 1) * BATCH_SIZE]\n",
        "      for i in data_:\n",
        "          x_.append(np.reshape(i, (features_dim, wide)))\n",
        "\n",
        "      x = np.asarray(x_)\n",
        "      \n",
        "      yield (x, x)"
      ],
      "execution_count": 0,
      "outputs": []
    },
    {
      "metadata": {
        "id": "JZmB4ayQe6gq",
        "colab_type": "code",
        "colab": {}
      },
      "cell_type": "code",
      "source": [
        "#autoencoder = load_model('model1.h5')"
      ],
      "execution_count": 0,
      "outputs": []
    },
    {
      "metadata": {
        "id": "0kEJwWYguz5S",
        "colab_type": "code",
        "colab": {}
      },
      "cell_type": "code",
      "source": [
        "#ENCODER\n",
        "\n",
        "input1 = Input(shape = (features_dim, wide))\n",
        "\n",
        "encoder = Conv1D(N1, L1, strides = 1, padding = 'SAME', use_bias = True, \n",
        "                 bias_initializer = keras.initializers.Constant(value=0.1), activation = 'relu')(input1)\n",
        "\n",
        "encoder = MaxPooling1D(pool_size = 2, strides = 2)(encoder)\n",
        "\n",
        "encoder = Conv1D(N2, L2, strides = 1, padding = 'SAME', use_bias = True, \n",
        "                 bias_initializer = keras.initializers.Constant(value=0.1), activation = 'relu')(encoder)\n",
        "\n",
        "encoder = MaxPooling1D(pool_size = 2, strides = 2)(encoder)\n",
        "\n",
        "out_shape = list(k.int_shape(encoder))\n",
        "\n",
        "encoder = Flatten()(encoder)\n",
        "\n",
        "encoder = Dense(Nfc, activation = 'relu')(encoder)\n",
        "\n",
        "encoder = Dropout(0.5)(encoder)\n",
        "\n",
        "encoder = Dense(20, activation = 'sigmoid')(encoder)\n",
        "\n",
        "\n",
        "#DECODER\n",
        "\n",
        "decoder = Dense((out_shape[1] * out_shape[2]), activation = 'relu')(encoder)\n",
        "\n",
        "decoder = Dropout(0.5)(decoder)\n",
        "\n",
        "decoder = Reshape((out_shape[1], out_shape[2]))(decoder)\n",
        "\n",
        "decoder = UpSampling1D(size = 2)(decoder)\n",
        "\n",
        "decoder = Conv1D(N2, L2, strides = 1, padding = 'SAME', use_bias = True, \n",
        "                 bias_initializer = keras.initializers.Constant(value=0.1), activation = 'relu')(decoder)\n",
        "\n",
        "decoder = UpSampling1D(size = 2)(decoder)\n",
        "\n",
        "decoder = Conv1D(N1, L1, strides = 1, padding = 'SAME', use_bias = True, \n",
        "                 bias_initializer = keras.initializers.Constant(value=0.1), activation = 'relu')(decoder)\n",
        "\n",
        "out = Conv1D(wide, 1, padding = 'same', activation = 'sigmoid')(decoder)\n",
        "\n",
        "\n",
        "autoencoder = Model(input1, out)"
      ],
      "execution_count": 0,
      "outputs": []
    },
    {
      "metadata": {
        "id": "7ztHaxfj1EJu",
        "colab_type": "code",
        "outputId": "2e11ba01-db8b-4f8a-d3c7-eddd9791c126",
        "colab": {
          "base_uri": "https://localhost:8080/",
          "height": 714
        }
      },
      "cell_type": "code",
      "source": [
        "autoencoder.summary()"
      ],
      "execution_count": 12,
      "outputs": [
        {
          "output_type": "stream",
          "text": [
            "_________________________________________________________________\n",
            "Layer (type)                 Output Shape              Param #   \n",
            "=================================================================\n",
            "input_1 (InputLayer)         (None, 1500, 25)          0         \n",
            "_________________________________________________________________\n",
            "conv1d_1 (Conv1D)            (None, 1500, 32)          24032     \n",
            "_________________________________________________________________\n",
            "max_pooling1d_1 (MaxPooling1 (None, 750, 32)           0         \n",
            "_________________________________________________________________\n",
            "conv1d_2 (Conv1D)            (None, 750, 32)           15392     \n",
            "_________________________________________________________________\n",
            "max_pooling1d_2 (MaxPooling1 (None, 375, 32)           0         \n",
            "_________________________________________________________________\n",
            "flatten_1 (Flatten)          (None, 12000)             0         \n",
            "_________________________________________________________________\n",
            "dense_1 (Dense)              (None, 520)               6240520   \n",
            "_________________________________________________________________\n",
            "dropout_1 (Dropout)          (None, 520)               0         \n",
            "_________________________________________________________________\n",
            "dense_2 (Dense)              (None, 20)                10420     \n",
            "_________________________________________________________________\n",
            "dense_3 (Dense)              (None, 12000)             252000    \n",
            "_________________________________________________________________\n",
            "dropout_2 (Dropout)          (None, 12000)             0         \n",
            "_________________________________________________________________\n",
            "reshape_1 (Reshape)          (None, 375, 32)           0         \n",
            "_________________________________________________________________\n",
            "up_sampling1d_1 (UpSampling1 (None, 750, 32)           0         \n",
            "_________________________________________________________________\n",
            "conv1d_3 (Conv1D)            (None, 750, 32)           15392     \n",
            "_________________________________________________________________\n",
            "up_sampling1d_2 (UpSampling1 (None, 1500, 32)          0         \n",
            "_________________________________________________________________\n",
            "conv1d_4 (Conv1D)            (None, 1500, 32)          30752     \n",
            "_________________________________________________________________\n",
            "conv1d_5 (Conv1D)            (None, 1500, 25)          825       \n",
            "=================================================================\n",
            "Total params: 6,589,333\n",
            "Trainable params: 6,589,333\n",
            "Non-trainable params: 0\n",
            "_________________________________________________________________\n"
          ],
          "name": "stdout"
        }
      ]
    },
    {
      "metadata": {
        "id": "TVNKF0Pe1Xqv",
        "colab_type": "code",
        "colab": {}
      },
      "cell_type": "code",
      "source": [
        "encoder_ = Model(input1, encoder)"
      ],
      "execution_count": 0,
      "outputs": []
    },
    {
      "metadata": {
        "id": "ixZ8G0Zx1ilY",
        "colab_type": "code",
        "outputId": "92beb4c1-d27e-4a1a-978c-4ac35870a271",
        "colab": {
          "base_uri": "https://localhost:8080/",
          "height": 442
        }
      },
      "cell_type": "code",
      "source": [
        "encoder_.summary()"
      ],
      "execution_count": 14,
      "outputs": [
        {
          "output_type": "stream",
          "text": [
            "_________________________________________________________________\n",
            "Layer (type)                 Output Shape              Param #   \n",
            "=================================================================\n",
            "input_1 (InputLayer)         (None, 1500, 25)          0         \n",
            "_________________________________________________________________\n",
            "conv1d_1 (Conv1D)            (None, 1500, 32)          24032     \n",
            "_________________________________________________________________\n",
            "max_pooling1d_1 (MaxPooling1 (None, 750, 32)           0         \n",
            "_________________________________________________________________\n",
            "conv1d_2 (Conv1D)            (None, 750, 32)           15392     \n",
            "_________________________________________________________________\n",
            "max_pooling1d_2 (MaxPooling1 (None, 375, 32)           0         \n",
            "_________________________________________________________________\n",
            "flatten_1 (Flatten)          (None, 12000)             0         \n",
            "_________________________________________________________________\n",
            "dense_1 (Dense)              (None, 520)               6240520   \n",
            "_________________________________________________________________\n",
            "dropout_1 (Dropout)          (None, 520)               0         \n",
            "_________________________________________________________________\n",
            "dense_2 (Dense)              (None, 20)                10420     \n",
            "=================================================================\n",
            "Total params: 6,290,364\n",
            "Trainable params: 6,290,364\n",
            "Non-trainable params: 0\n",
            "_________________________________________________________________\n"
          ],
          "name": "stdout"
        }
      ]
    },
    {
      "metadata": {
        "id": "E6fWBYqt17mW",
        "colab_type": "code",
        "colab": {}
      },
      "cell_type": "code",
      "source": [
        "adam_ = optimizers.Adam(lr = 1e-4, beta_1=0.9, beta_2=0.999, epsilon=1e-8)"
      ],
      "execution_count": 0,
      "outputs": []
    },
    {
      "metadata": {
        "id": "d6iByWdZ2Jtv",
        "colab_type": "code",
        "colab": {}
      },
      "cell_type": "code",
      "source": [
        "autoencoder.compile(loss = 'binary_crossentropy', optimizer = adam_)"
      ],
      "execution_count": 0,
      "outputs": []
    },
    {
      "metadata": {
        "id": "wJOuZF9M2Psf",
        "colab_type": "code",
        "outputId": "19ee0c0b-9456-4009-fd39-777492ac44c1",
        "colab": {
          "base_uri": "https://localhost:8080/",
          "height": 374
        }
      },
      "cell_type": "code",
      "source": [
        "autoencoder.fit_generator(batch_generator(), steps_per_epoch = batches, epochs = 10, shuffle = True)"
      ],
      "execution_count": 17,
      "outputs": [
        {
          "output_type": "stream",
          "text": [
            "Epoch 1/10\n",
            "62/62 [==============================] - 67s 1s/step - loss: -4.6409\n",
            "Epoch 2/10\n",
            "62/62 [==============================] - 64s 1s/step - loss: -38.0008\n",
            "Epoch 3/10\n",
            "62/62 [==============================] - 63s 1s/step - loss: -49.8971\n",
            "Epoch 4/10\n",
            "62/62 [==============================] - 63s 1s/step - loss: -53.5330\n",
            "Epoch 5/10\n",
            "62/62 [==============================] - 63s 1s/step - loss: -58.6253\n",
            "Epoch 6/10\n",
            "62/62 [==============================] - 63s 1s/step - loss: -62.8165\n",
            "Epoch 7/10\n",
            "62/62 [==============================] - 64s 1s/step - loss: -65.0066\n",
            "Epoch 8/10\n",
            "62/62 [==============================] - 63s 1s/step - loss: -66.2867\n",
            "Epoch 9/10\n",
            "62/62 [==============================] - 63s 1s/step - loss: -67.3125\n",
            "Epoch 10/10\n",
            "62/62 [==============================] - 63s 1s/step - loss: -68.1239\n"
          ],
          "name": "stdout"
        },
        {
          "output_type": "execute_result",
          "data": {
            "text/plain": [
              "<keras.callbacks.History at 0x7fe1b9effa20>"
            ]
          },
          "metadata": {
            "tags": []
          },
          "execution_count": 17
        }
      ]
    },
    {
      "metadata": {
        "id": "kbgsEsTJeGq_",
        "colab_type": "code",
        "colab": {}
      },
      "cell_type": "code",
      "source": [
        "autoencoder.save('model2.h5')"
      ],
      "execution_count": 0,
      "outputs": []
    },
    {
      "metadata": {
        "id": "WONQouSSiPcN",
        "colab_type": "code",
        "colab": {}
      },
      "cell_type": "code",
      "source": [
        "files.download('model2.h5')"
      ],
      "execution_count": 0,
      "outputs": []
    },
    {
      "metadata": {
        "id": "AOTizJ6h3WLf",
        "colab_type": "code",
        "colab": {}
      },
      "cell_type": "code",
      "source": [
        "km = KMeans(n_jobs=-1, n_clusters=10, n_init=20)"
      ],
      "execution_count": 0,
      "outputs": []
    },
    {
      "metadata": {
        "id": "mbvQpFpw30aX",
        "colab_type": "code",
        "colab": {}
      },
      "cell_type": "code",
      "source": [
        "encode_pred = encoder_.predict(data)"
      ],
      "execution_count": 0,
      "outputs": []
    },
    {
      "metadata": {
        "id": "Ty6Hm6ZY4IQB",
        "colab_type": "code",
        "colab": {}
      },
      "cell_type": "code",
      "source": [
        ""
      ],
      "execution_count": 0,
      "outputs": []
    }
  ]
}