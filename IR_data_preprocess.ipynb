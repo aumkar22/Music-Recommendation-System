{
  "nbformat": 4,
  "nbformat_minor": 0,
  "metadata": {
    "colab": {
      "name": "GetData.ipynb",
      "version": "0.3.2",
      "provenance": [],
      "collapsed_sections": []
    },
    "kernelspec": {
      "name": "python3",
      "display_name": "Python 3"
    },
    "accelerator": "TPU"
  },
  "cells": [
    {
      "metadata": {
        "id": "view-in-github",
        "colab_type": "text"
      },
      "cell_type": "markdown",
      "source": [
        "<a href=\"https://colab.research.google.com/github/aumkar22/Music-Recommendation-System/blob/master/GetData.ipynb\" target=\"_parent\"><img src=\"https://colab.research.google.com/assets/colab-badge.svg\" alt=\"Open In Colab\"/></a>"
      ]
    },
    {
      "metadata": {
        "id": "7xQ193X9jbqj",
        "colab_type": "text"
      },
      "cell_type": "markdown",
      "source": [
        "#Music-Recommender System"
      ]
    },
    {
      "metadata": {
        "id": "fu04RYkEjofw",
        "colab_type": "code",
        "outputId": "4119df79-1bd5-4b72-aec3-246e6147b8db",
        "colab": {
          "base_uri": "https://localhost:8080/",
          "height": 85
        }
      },
      "cell_type": "code",
      "source": [
        "!pip install tables"
      ],
      "execution_count": 1,
      "outputs": [
        {
          "output_type": "stream",
          "text": [
            "Requirement already satisfied: tables in /usr/local/lib/python3.6/dist-packages (3.4.4)\n",
            "Requirement already satisfied: numpy>=1.8.0 in /usr/local/lib/python3.6/dist-packages (from tables) (1.14.6)\n",
            "Requirement already satisfied: numexpr>=2.5.2 in /usr/local/lib/python3.6/dist-packages (from tables) (2.6.8)\n",
            "Requirement already satisfied: six>=1.9.0 in /usr/local/lib/python3.6/dist-packages (from tables) (1.11.0)\n"
          ],
          "name": "stdout"
        }
      ]
    },
    {
      "metadata": {
        "id": "hMloGVsLjh4j",
        "colab_type": "text"
      },
      "cell_type": "markdown",
      "source": [
        "##Hack to get the data "
      ]
    },
    {
      "metadata": {
        "id": "I7l1qgDfjhLI",
        "colab_type": "code",
        "colab": {}
      },
      "cell_type": "code",
      "source": [
        "import os\n",
        "import sys\n",
        "import time\n",
        "import glob\n",
        "import datetime\n",
        "import sqlite3\n",
        "import pandas as pd\n",
        "import numpy as np\n",
        "import tarfile\n",
        "import tables\n",
        "import numpy as np\n",
        "import pandas as pd\n",
        "from google.colab import drive, files\n",
        "from skimage.transform import resize"
      ],
      "execution_count": 0,
      "outputs": []
    },
    {
      "metadata": {
        "id": "U8wePVe5j7Si",
        "colab_type": "text"
      },
      "cell_type": "markdown",
      "source": [
        "**Local Storage**"
      ]
    },
    {
      "metadata": {
        "id": "XCZwZ-8Oj4gC",
        "colab_type": "code",
        "outputId": "321c4810-7933-4961-8780-62493478d0be",
        "colab": {
          "base_uri": "https://localhost:8080/",
          "height": 34
        }
      },
      "cell_type": "code",
      "source": [
        "drive.mount('/content/drive')"
      ],
      "execution_count": 3,
      "outputs": [
        {
          "output_type": "stream",
          "text": [
            "Drive already mounted at /content/drive; to attempt to forcibly remount, call drive.mount(\"/content/drive\", force_remount=True).\n"
          ],
          "name": "stdout"
        }
      ]
    },
    {
      "metadata": {
        "id": "0H7Q_OM6kYsa",
        "colab_type": "code",
        "outputId": "ece2efd0-82f6-4dc6-a28e-b32c23d9ebb2",
        "colab": {
          "base_uri": "https://localhost:8080/",
          "height": 102
        }
      },
      "cell_type": "code",
      "source": [
        "msd_subset_path=r'/content/drive/My Drive/IR/Dataprocessing/MillionSongSubset'\n",
        "msd_subset_data_path=os.path.join(msd_subset_path,'data')\n",
        "msd_subset_addf_path=os.path.join(msd_subset_path,'AdditionalFiles')\n",
        "smallset = r'/content/drive/My Drive/IR/Dataprocessing/A'\n",
        "msd_code_path=r'/content/drive/My Drive/IR/Dataprocessing'\n",
        "sys.path.append( os.path.join(msd_code_path,'PythonSrc') )\n",
        "sys.path.append( os.path.join(msd_code_path,'PythonSrc') )\n",
        "\n",
        "#Is the given path really a path?\n",
        "print(os.path.isdir(msd_subset_path))\n",
        "print(os.path.exists(msd_subset_path))\n",
        "print(os.path.isdir(msd_code_path))\n",
        "print(os.path.exists(msd_code_path))\n",
        "print(os.path.isdir(smallset))"
      ],
      "execution_count": 4,
      "outputs": [
        {
          "output_type": "stream",
          "text": [
            "True\n",
            "True\n",
            "True\n",
            "True\n",
            "True\n"
          ],
          "name": "stdout"
        }
      ]
    },
    {
      "metadata": {
        "id": "_E9XM46vFLNj",
        "colab_type": "code",
        "colab": {}
      },
      "cell_type": "code",
      "source": [
        "height = 1200\n",
        "width = 12"
      ],
      "execution_count": 0,
      "outputs": []
    },
    {
      "metadata": {
        "id": "H491UsVtjyR6",
        "colab_type": "text"
      },
      "cell_type": "markdown",
      "source": [
        "###HDF5 Getters (imported) and necessary function"
      ]
    },
    {
      "metadata": {
        "id": "YWh0KsSojgPD",
        "colab_type": "code",
        "colab": {}
      },
      "cell_type": "code",
      "source": [
        "\"\"\"\n",
        "Thierry Bertin-Mahieux (2010) Columbia University\n",
        "tb2332@columbia.edu\n",
        "This code contains a set of getters functions to access the fields\n",
        "from an HDF5 song file (regular file with one song or\n",
        "aggregate / summary file with many songs)\n",
        "This is part of the Million Song Dataset project from\n",
        "LabROSA (Columbia University) and The Echo Nest.\n",
        "Copyright 2010, Thierry Bertin-Mahieux\n",
        "This program is free software: you can redistribute it and/or modify\n",
        "it under the terms of the GNU General Public License as published by\n",
        "the Free Software Foundation, either version 3 of the License, or\n",
        "(at your option) any later version.\n",
        "This program is distributed in the hope that it will be useful,\n",
        "but WITHOUT ANY WARRANTY; without even the implied warranty of\n",
        "MERCHANTABILITY or FITNESS FOR A PARTICULAR PURPOSE.  See the\n",
        "GNU General Public License for more details.\n",
        "You should have received a copy of the GNU General Public License\n",
        "along with this program.  If not, see <http://www.gnu.org/licenses/>.\n",
        "\"\"\"\n",
        "\n",
        "\n",
        "def open_h5_file_read(h5filename):\n",
        "    \"\"\"\n",
        "    Open an existing H5 in read mode.\n",
        "    Same function as in hdf5_utils, here so we avoid one import\n",
        "    \"\"\"\n",
        "    return tables.open_file(h5filename, mode='r')\n",
        "\n",
        "\n",
        "def get_num_songs(h5):\n",
        "    \"\"\"\n",
        "    Return the number of songs contained in this h5 file, i.e. the number of rows\n",
        "    for all basic informations like name, artist, ...\n",
        "    \"\"\"\n",
        "    return h5.root.metadata.songs.nrows\n",
        "\n",
        "def get_artist_familiarity(h5,songidx=0):\n",
        "    \"\"\"\n",
        "    Get artist familiarity from a HDF5 song file, by default the first song in it\n",
        "    \"\"\"\n",
        "    return h5.root.metadata.songs.cols.artist_familiarity[songidx]\n",
        "\n",
        "def get_artist_hotttnesss(h5,songidx=0):\n",
        "    \"\"\"\n",
        "    Get artist hotttnesss from a HDF5 song file, by default the first song in it\n",
        "    \"\"\"\n",
        "    return h5.root.metadata.songs.cols.artist_hotttnesss[songidx]\n",
        "\n",
        "def get_artist_id(h5,songidx=0):\n",
        "    \"\"\"\n",
        "    Get artist id from a HDF5 song file, by default the first song in it\n",
        "    \"\"\"\n",
        "    return h5.root.metadata.songs.cols.artist_id[songidx]\n",
        "\n",
        "def get_artist_mbid(h5,songidx=0):\n",
        "    \"\"\"\n",
        "    Get artist musibrainz id from a HDF5 song file, by default the first song in it\n",
        "    \"\"\"\n",
        "    return h5.root.metadata.songs.cols.artist_mbid[songidx]\n",
        "\n",
        "def get_artist_playmeid(h5,songidx=0):\n",
        "    \"\"\"\n",
        "    Get artist playme id from a HDF5 song file, by default the first song in it\n",
        "    \"\"\"\n",
        "    return h5.root.metadata.songs.cols.artist_playmeid[songidx]\n",
        "\n",
        "def get_artist_7digitalid(h5,songidx=0):\n",
        "    \"\"\"\n",
        "    Get artist 7digital id from a HDF5 song file, by default the first song in it\n",
        "    \"\"\"\n",
        "    return h5.root.metadata.songs.cols.artist_7digitalid[songidx]\n",
        "\n",
        "def get_artist_latitude(h5,songidx=0):\n",
        "    \"\"\"\n",
        "    Get artist latitude from a HDF5 song file, by default the first song in it\n",
        "    \"\"\"\n",
        "    return h5.root.metadata.songs.cols.artist_latitude[songidx]\n",
        "\n",
        "def get_artist_longitude(h5,songidx=0):\n",
        "    \"\"\"\n",
        "    Get artist longitude from a HDF5 song file, by default the first song in it\n",
        "    \"\"\"\n",
        "    return h5.root.metadata.songs.cols.artist_longitude[songidx]\n",
        "\n",
        "def get_artist_location(h5,songidx=0):\n",
        "    \"\"\"\n",
        "    Get artist location from a HDF5 song file, by default the first song in it\n",
        "    \"\"\"\n",
        "    return h5.root.metadata.songs.cols.artist_location[songidx]\n",
        "\n",
        "def get_artist_name(h5,songidx=0):\n",
        "    \"\"\"\n",
        "    Get artist name from a HDF5 song file, by default the first song in it\n",
        "    \"\"\"\n",
        "    return h5.root.metadata.songs.cols.artist_name[songidx]\n",
        "\n",
        "def get_release(h5,songidx=0):\n",
        "    \"\"\"\n",
        "    Get release from a HDF5 song file, by default the first song in it\n",
        "    \"\"\"\n",
        "    return h5.root.metadata.songs.cols.release[songidx]\n",
        "\n",
        "def get_release_7digitalid(h5,songidx=0):\n",
        "    \"\"\"\n",
        "    Get release 7digital id from a HDF5 song file, by default the first song in it\n",
        "    \"\"\"\n",
        "    return h5.root.metadata.songs.cols.release_7digitalid[songidx]\n",
        "\n",
        "def get_song_id(h5,songidx=0):\n",
        "    \"\"\"\n",
        "    Get song id from a HDF5 song file, by default the first song in it\n",
        "    \"\"\"\n",
        "    return h5.root.metadata.songs.cols.song_id[songidx]\n",
        "\n",
        "def get_song_hotttnesss(h5,songidx=0):\n",
        "    \"\"\"\n",
        "    Get song hotttnesss from a HDF5 song file, by default the first song in it\n",
        "    \"\"\"\n",
        "    return h5.root.metadata.songs.cols.song_hotttnesss[songidx]\n",
        "\n",
        "def get_title(h5,songidx=0):\n",
        "    \"\"\"\n",
        "    Get title from a HDF5 song file, by default the first song in it\n",
        "    \"\"\"\n",
        "    return h5.root.metadata.songs.cols.title[songidx]\n",
        "\n",
        "def get_track_7digitalid(h5,songidx=0):\n",
        "    \"\"\"\n",
        "    Get track 7digital id from a HDF5 song file, by default the first song in it\n",
        "    \"\"\"\n",
        "    return h5.root.metadata.songs.cols.track_7digitalid[songidx]\n",
        "\n",
        "def get_similar_artists(h5,songidx=0):\n",
        "    \"\"\"\n",
        "    Get similar artists array. Takes care of the proper indexing if we are in aggregate\n",
        "    file. By default, return the array for the first song in the h5 file.\n",
        "    To get a regular numpy ndarray, cast the result to: numpy.array( )\n",
        "    \"\"\"\n",
        "    if h5.root.metadata.songs.nrows == songidx + 1:\n",
        "        return h5.root.metadata.similar_artists[h5.root.metadata.songs.cols.idx_similar_artists[songidx]:]\n",
        "    return h5.root.metadata.similar_artists[h5.root.metadata.songs.cols.idx_similar_artists[songidx]:\n",
        "                                            h5.root.metadata.songs.cols.idx_similar_artists[songidx+1]]\n",
        "\n",
        "def get_artist_terms(h5,songidx=0):\n",
        "    \"\"\"\n",
        "    Get artist terms array. Takes care of the proper indexing if we are in aggregate\n",
        "    file. By default, return the array for the first song in the h5 file.\n",
        "    To get a regular numpy ndarray, cast the result to: numpy.array( )\n",
        "    \"\"\"\n",
        "    if h5.root.metadata.songs.nrows == songidx + 1:\n",
        "        return h5.root.metadata.artist_terms[h5.root.metadata.songs.cols.idx_artist_terms[songidx]:]\n",
        "    return h5.root.metadata.artist_terms[h5.root.metadata.songs.cols.idx_artist_terms[songidx]:\n",
        "                                            h5.root.metadata.songs.cols.idx_artist_terms[songidx+1]]\n",
        "\n",
        "def get_artist_terms_freq(h5,songidx=0):\n",
        "    \"\"\"\n",
        "    Get artist terms array frequencies. Takes care of the proper indexing if we are in aggregate\n",
        "    file. By default, return the array for the first song in the h5 file.\n",
        "    To get a regular numpy ndarray, cast the result to: numpy.array( )\n",
        "    \"\"\"\n",
        "    if h5.root.metadata.songs.nrows == songidx + 1:\n",
        "        return h5.root.metadata.artist_terms_freq[h5.root.metadata.songs.cols.idx_artist_terms[songidx]:]\n",
        "    return h5.root.metadata.artist_terms_freq[h5.root.metadata.songs.cols.idx_artist_terms[songidx]:\n",
        "                                              h5.root.metadata.songs.cols.idx_artist_terms[songidx+1]]\n",
        "\n",
        "def get_artist_terms_weight(h5,songidx=0):\n",
        "    \"\"\"\n",
        "    Get artist terms array frequencies. Takes care of the proper indexing if we are in aggregate\n",
        "    file. By default, return the array for the first song in the h5 file.\n",
        "    To get a regular numpy ndarray, cast the result to: numpy.array( )\n",
        "    \"\"\"\n",
        "    if h5.root.metadata.songs.nrows == songidx + 1:\n",
        "        return h5.root.metadata.artist_terms_weight[h5.root.metadata.songs.cols.idx_artist_terms[songidx]:]\n",
        "    return h5.root.metadata.artist_terms_weight[h5.root.metadata.songs.cols.idx_artist_terms[songidx]:\n",
        "                                                h5.root.metadata.songs.cols.idx_artist_terms[songidx+1]]\n",
        "\n",
        "def get_analysis_sample_rate(h5,songidx=0):\n",
        "    \"\"\"\n",
        "    Get analysis sample rate from a HDF5 song file, by default the first song in it\n",
        "    \"\"\"\n",
        "    return h5.root.analysis.songs.cols.analysis_sample_rate[songidx]\n",
        "\n",
        "def get_audio_md5(h5,songidx=0):\n",
        "    \"\"\"\n",
        "    Get audio MD5 from a HDF5 song file, by default the first song in it\n",
        "    \"\"\"\n",
        "    return h5.root.analysis.songs.cols.audio_md5[songidx]\n",
        "\n",
        "def get_danceability(h5,songidx=0):\n",
        "    \"\"\"\n",
        "    Get danceability from a HDF5 song file, by default the first song in it\n",
        "    \"\"\"\n",
        "    return h5.root.analysis.songs.cols.danceability[songidx]\n",
        "\n",
        "def get_duration(h5,songidx=0):\n",
        "    \"\"\"\n",
        "    Get duration from a HDF5 song file, by default the first song in it\n",
        "    \"\"\"\n",
        "    return h5.root.analysis.songs.cols.duration[songidx]\n",
        "\n",
        "def get_end_of_fade_in(h5,songidx=0):\n",
        "    \"\"\"\n",
        "    Get end of fade in from a HDF5 song file, by default the first song in it\n",
        "    \"\"\"\n",
        "    return h5.root.analysis.songs.cols.end_of_fade_in[songidx]\n",
        "\n",
        "def get_energy(h5,songidx=0):\n",
        "    \"\"\"\n",
        "    Get energy from a HDF5 song file, by default the first song in it\n",
        "    \"\"\"\n",
        "    return h5.root.analysis.songs.cols.energy[songidx]\n",
        "\n",
        "def get_key(h5,songidx=0):\n",
        "    \"\"\"\n",
        "    Get key from a HDF5 song file, by default the first song in it\n",
        "    \"\"\"\n",
        "    return h5.root.analysis.songs.cols.key[songidx]\n",
        "\n",
        "def get_key_confidence(h5,songidx=0):\n",
        "    \"\"\"\n",
        "    Get key confidence from a HDF5 song file, by default the first song in it\n",
        "    \"\"\"\n",
        "    return h5.root.analysis.songs.cols.key_confidence[songidx]\n",
        "\n",
        "def get_loudness(h5,songidx=0):\n",
        "    \"\"\"\n",
        "    Get loudness from a HDF5 song file, by default the first song in it\n",
        "    \"\"\"\n",
        "    return h5.root.analysis.songs.cols.loudness[songidx]\n",
        "\n",
        "def get_mode(h5,songidx=0):\n",
        "    \"\"\"\n",
        "    Get mode from a HDF5 song file, by default the first song in it\n",
        "    \"\"\"\n",
        "    return h5.root.analysis.songs.cols.mode[songidx]\n",
        "\n",
        "def get_mode_confidence(h5,songidx=0):\n",
        "    \"\"\"\n",
        "    Get mode confidence from a HDF5 song file, by default the first song in it\n",
        "    \"\"\"\n",
        "    return h5.root.analysis.songs.cols.mode_confidence[songidx]\n",
        "\n",
        "def get_start_of_fade_out(h5,songidx=0):\n",
        "    \"\"\"\n",
        "    Get start of fade out from a HDF5 song file, by default the first song in it\n",
        "    \"\"\"\n",
        "    return h5.root.analysis.songs.cols.start_of_fade_out[songidx]\n",
        "\n",
        "def get_tempo(h5,songidx=0):\n",
        "    \"\"\"\n",
        "    Get tempo from a HDF5 song file, by default the first song in it\n",
        "    \"\"\"\n",
        "    return h5.root.analysis.songs.cols.tempo[songidx]\n",
        "\n",
        "def get_time_signature(h5,songidx=0):\n",
        "    \"\"\"\n",
        "    Get signature from a HDF5 song file, by default the first song in it\n",
        "    \"\"\"\n",
        "    return h5.root.analysis.songs.cols.time_signature[songidx]\n",
        "\n",
        "def get_time_signature_confidence(h5,songidx=0):\n",
        "    \"\"\"\n",
        "    Get signature confidence from a HDF5 song file, by default the first song in it\n",
        "    \"\"\"\n",
        "    return h5.root.analysis.songs.cols.time_signature_confidence[songidx]\n",
        "\n",
        "def get_track_id(h5,songidx=0):\n",
        "    \"\"\"\n",
        "    Get track id from a HDF5 song file, by default the first song in it\n",
        "    \"\"\"\n",
        "    return h5.root.analysis.songs.cols.track_id[songidx]\n",
        "\n",
        "def get_segments_start(h5,songidx=0):\n",
        "    \"\"\"\n",
        "    Get segments start array. Takes care of the proper indexing if we are in aggregate\n",
        "    file. By default, return the array for the first song in the h5 file.\n",
        "    To get a regular numpy ndarray, cast the result to: numpy.array( )\n",
        "    \"\"\"\n",
        "    h5 = os.path.normpath(h5)\n",
        "    if h5.root.analysis.songs.nrows == songidx + 1:\n",
        "        return h5.root.analysis.segments_start[h5.root.analysis.songs.cols.idx_segments_start[songidx]:]\n",
        "    return h5.root.analysis.segments_start[h5.root.analysis.songs.cols.idx_segments_start[songidx]:\n",
        "                                           h5.root.analysis.songs.cols.idx_segments_start[songidx+1]]\n",
        "    \n",
        "def get_segments_confidence(h5,songidx=0):\n",
        "    \"\"\"\n",
        "    Get segments confidence array. Takes care of the proper indexing if we are in aggregate\n",
        "    file. By default, return the array for the first song in the h5 file.\n",
        "    To get a regular numpy ndarray, cast the result to: numpy.array( )\n",
        "    \"\"\"\n",
        "    if h5.root.analysis.songs.nrows == songidx + 1:\n",
        "        return h5.root.analysis.segments_confidence[h5.root.analysis.songs.cols.idx_segments_confidence[songidx]:]\n",
        "    return h5.root.analysis.segments_confidence[h5.root.analysis.songs.cols.idx_segments_confidence[songidx]:\n",
        "                                                h5.root.analysis.songs.cols.idx_segments_confidence[songidx+1]]\n",
        "\n",
        "def get_segments_pitches(h5,songidx=0):\n",
        "    \"\"\"\n",
        "    Get segments pitches array. Takes care of the proper indexing if we are in aggregate\n",
        "    file. By default, return the array for the first song in the h5 file.\n",
        "    To get a regular numpy ndarray, cast the result to: numpy.array( )\n",
        "    \"\"\"\n",
        "    if h5.root.analysis.songs.nrows == songidx + 1:\n",
        "        return h5.root.analysis.segments_pitches[h5.root.analysis.songs.cols.idx_segments_pitches[songidx]:,:]\n",
        "    return h5.root.analysis.segments_pitches[h5.root.analysis.songs.cols.idx_segments_pitches[songidx]:\n",
        "                                             h5.root.analysis.songs.cols.idx_segments_pitches[songidx+1],:]\n",
        "\n",
        "def get_segments_timbre(h5,songidx=0):\n",
        "    \"\"\"\n",
        "    Get segments timbre array. Takes care of the proper indexing if we are in aggregate\n",
        "    file. By default, return the array for the first song in the h5 file.\n",
        "    To get a regular numpy ndarray, cast the result to: numpy.array( )\n",
        "    \"\"\"\n",
        "    if h5.root.analysis.songs.nrows == songidx + 1:\n",
        "        return h5.root.analysis.segments_timbre[h5.root.analysis.songs.cols.idx_segments_timbre[songidx]:,:]\n",
        "    return h5.root.analysis.segments_timbre[h5.root.analysis.songs.cols.idx_segments_timbre[songidx]:\n",
        "                                            h5.root.analysis.songs.cols.idx_segments_timbre[songidx+1],:]\n",
        "\n",
        "def get_segments_loudness_max(h5,songidx=0):\n",
        "    \"\"\"\n",
        "    Get segments loudness max array. Takes care of the proper indexing if we are in aggregate\n",
        "    file. By default, return the array for the first song in the h5 file.\n",
        "    To get a regular numpy ndarray, cast the result to: numpy.array( )\n",
        "    \"\"\"\n",
        "    if h5.root.analysis.songs.nrows == songidx + 1:\n",
        "        return h5.root.analysis.segments_loudness_max[h5.root.analysis.songs.cols.idx_segments_loudness_max[songidx]:]\n",
        "    return h5.root.analysis.segments_loudness_max[h5.root.analysis.songs.cols.idx_segments_loudness_max[songidx]:\n",
        "                                                  h5.root.analysis.songs.cols.idx_segments_loudness_max[songidx+1]]\n",
        "\n",
        "def get_segments_loudness_max_time(h5,songidx=0):\n",
        "    \"\"\"\n",
        "    Get segments loudness max time array. Takes care of the proper indexing if we are in aggregate\n",
        "    file. By default, return the array for the first song in the h5 file.\n",
        "    To get a regular numpy ndarray, cast the result to: numpy.array( )\n",
        "    \"\"\"\n",
        "    if h5.root.analysis.songs.nrows == songidx + 1:\n",
        "        return h5.root.analysis.segments_loudness_max_time[h5.root.analysis.songs.cols.idx_segments_loudness_max_time[songidx]:]\n",
        "    return h5.root.analysis.segments_loudness_max_time[h5.root.analysis.songs.cols.idx_segments_loudness_max_time[songidx]:\n",
        "                                                       h5.root.analysis.songs.cols.idx_segments_loudness_max_time[songidx+1]]\n",
        "\n",
        "def get_segments_loudness_start(h5,songidx=0):\n",
        "    \"\"\"\n",
        "    Get segments loudness start array. Takes care of the proper indexing if we are in aggregate\n",
        "    file. By default, return the array for the first song in the h5 file.\n",
        "    To get a regular numpy ndarray, cast the result to: numpy.array( )\n",
        "    \"\"\"\n",
        "    if h5.root.analysis.songs.nrows == songidx + 1:\n",
        "        return h5.root.analysis.segments_loudness_start[h5.root.analysis.songs.cols.idx_segments_loudness_start[songidx]:]\n",
        "    return h5.root.analysis.segments_loudness_start[h5.root.analysis.songs.cols.idx_segments_loudness_start[songidx]:\n",
        "                                                    h5.root.analysis.songs.cols.idx_segments_loudness_start[songidx+1]]\n",
        "\n",
        "def get_sections_start(h5,songidx=0):\n",
        "    \"\"\"\n",
        "    Get sections start array. Takes care of the proper indexing if we are in aggregate\n",
        "    file. By default, return the array for the first song in the h5 file.\n",
        "    To get a regular numpy ndarray, cast the result to: numpy.array( )\n",
        "    \"\"\"\n",
        "    if h5.root.analysis.songs.nrows == songidx + 1:\n",
        "        return h5.root.analysis.sections_start[h5.root.analysis.songs.cols.idx_sections_start[songidx]:]\n",
        "    return h5.root.analysis.sections_start[h5.root.analysis.songs.cols.idx_sections_start[songidx]:\n",
        "                                           h5.root.analysis.songs.cols.idx_sections_start[songidx+1]]\n",
        "\n",
        "def get_sections_confidence(h5,songidx=0):\n",
        "    \"\"\"\n",
        "    Get sections confidence array. Takes care of the proper indexing if we are in aggregate\n",
        "    file. By default, return the array for the first song in the h5 file.\n",
        "    To get a regular numpy ndarray, cast the result to: numpy.array( )\n",
        "    \"\"\"\n",
        "    if h5.root.analysis.songs.nrows == songidx + 1:\n",
        "        return h5.root.analysis.sections_confidence[h5.root.analysis.songs.cols.idx_sections_confidence[songidx]:]\n",
        "    return h5.root.analysis.sections_confidence[h5.root.analysis.songs.cols.idx_sections_confidence[songidx]:\n",
        "                                                h5.root.analysis.songs.cols.idx_sections_confidence[songidx+1]]\n",
        "\n",
        "def get_beats_start(h5,songidx=0):\n",
        "    \"\"\"\n",
        "    Get beats start array. Takes care of the proper indexing if we are in aggregate\n",
        "    file. By default, return the array for the first song in the h5 file.\n",
        "    To get a regular numpy ndarray, cast the result to: numpy.array( )\n",
        "    \"\"\"\n",
        "    if h5.root.analysis.songs.nrows == songidx + 1:\n",
        "        return h5.root.analysis.beats_start[h5.root.analysis.songs.cols.idx_beats_start[songidx]:]\n",
        "    return h5.root.analysis.beats_start[h5.root.analysis.songs.cols.idx_beats_start[songidx]:\n",
        "                                        h5.root.analysis.songs.cols.idx_beats_start[songidx+1]]\n",
        "\n",
        "def get_beats_confidence(h5,songidx=0):\n",
        "    \"\"\"\n",
        "    Get beats confidence array. Takes care of the proper indexing if we are in aggregate\n",
        "    file. By default, return the array for the first song in the h5 file.\n",
        "    To get a regular numpy ndarray, cast the result to: numpy.array( )\n",
        "    \"\"\"\n",
        "    if h5.root.analysis.songs.nrows == songidx + 1:\n",
        "        return h5.root.analysis.beats_confidence[h5.root.analysis.songs.cols.idx_beats_confidence[songidx]:]\n",
        "    return h5.root.analysis.beats_confidence[h5.root.analysis.songs.cols.idx_beats_confidence[songidx]:\n",
        "                                             h5.root.analysis.songs.cols.idx_beats_confidence[songidx+1]]\n",
        "\n",
        "def get_bars_start(h5,songidx=0):\n",
        "    \"\"\"\n",
        "    Get bars start array. Takes care of the proper indexing if we are in aggregate\n",
        "    file. By default, return the array for the first song in the h5 file.\n",
        "    To get a regular numpy ndarray, cast the result to: numpy.array( )\n",
        "    \"\"\"\n",
        "    if h5.root.analysis.songs.nrows == songidx + 1:\n",
        "        return h5.root.analysis.bars_start[h5.root.analysis.songs.cols.idx_bars_start[songidx]:]\n",
        "    return h5.root.analysis.bars_start[h5.root.analysis.songs.cols.idx_bars_start[songidx]:\n",
        "                                       h5.root.analysis.songs.cols.idx_bars_start[songidx+1]]\n",
        "\n",
        "def get_bars_confidence(h5,songidx=0):\n",
        "    \"\"\"\n",
        "    Get bars start array. Takes care of the proper indexing if we are in aggregate\n",
        "    file. By default, return the array for the first song in the h5 file.\n",
        "    To get a regular numpy ndarray, cast the result to: numpy.array( )\n",
        "    \"\"\"\n",
        "    if h5.root.analysis.songs.nrows == songidx + 1:\n",
        "        return h5.root.analysis.bars_confidence[h5.root.analysis.songs.cols.idx_bars_confidence[songidx]:]\n",
        "    return h5.root.analysis.bars_confidence[h5.root.analysis.songs.cols.idx_bars_confidence[songidx]:\n",
        "                                            h5.root.analysis.songs.cols.idx_bars_confidence[songidx+1]]\n",
        "\n",
        "def get_tatums_start(h5,songidx=0):\n",
        "    \"\"\"\n",
        "    Get tatums start array. Takes care of the proper indexing if we are in aggregate\n",
        "    file. By default, return the array for the first song in the h5 file.\n",
        "    To get a regular numpy ndarray, cast the result to: numpy.array( )\n",
        "    \"\"\"\n",
        "    if h5.root.analysis.songs.nrows == songidx + 1:\n",
        "        return h5.root.analysis.tatums_start[h5.root.analysis.songs.cols.idx_tatums_start[songidx]:]\n",
        "    return h5.root.analysis.tatums_start[h5.root.analysis.songs.cols.idx_tatums_start[songidx]:\n",
        "                                         h5.root.analysis.songs.cols.idx_tatums_start[songidx+1]]\n",
        "\n",
        "def get_tatums_confidence(h5,songidx=0):\n",
        "    \"\"\"\n",
        "    Get tatums confidence array. Takes care of the proper indexing if we are in aggregate\n",
        "    file. By default, return the array for the first song in the h5 file.\n",
        "    To get a regular numpy ndarray, cast the result to: numpy.array( )\n",
        "    \"\"\"\n",
        "    if h5.root.analysis.songs.nrows == songidx + 1:\n",
        "        return h5.root.analysis.tatums_confidence[h5.root.analysis.songs.cols.idx_tatums_confidence[songidx]:]\n",
        "    return h5.root.analysis.tatums_confidence[h5.root.analysis.songs.cols.idx_tatums_confidence[songidx]:\n",
        "                                              h5.root.analysis.songs.cols.idx_tatums_confidence[songidx+1]]\n",
        "\n",
        "def get_artist_mbtags(h5,songidx=0):\n",
        "    \"\"\"\n",
        "    Get artist musicbrainz tag array. Takes care of the proper indexing if we are in aggregate\n",
        "    file. By default, return the array for the first song in the h5 file.\n",
        "    To get a regular numpy ndarray, cast the result to: numpy.array( )\n",
        "    \"\"\"\n",
        "    if h5.root.musicbrainz.songs.nrows == songidx + 1:\n",
        "        return h5.root.musicbrainz.artist_mbtags[h5.root.musicbrainz.songs.cols.idx_artist_mbtags[songidx]:]\n",
        "    return h5.root.musicbrainz.artist_mbtags[h5.root.metadata.songs.cols.idx_artist_mbtags[songidx]:\n",
        "                                             h5.root.metadata.songs.cols.idx_artist_mbtags[songidx+1]]\n",
        "\n",
        "def get_artist_mbtags_count(h5,songidx=0):\n",
        "    \"\"\"\n",
        "    Get artist musicbrainz tag count array. Takes care of the proper indexing if we are in aggregate\n",
        "    file. By default, return the array for the first song in the h5 file.\n",
        "    To get a regular numpy ndarray, cast the result to: numpy.array( )\n",
        "    \"\"\"\n",
        "    if h5.root.musicbrainz.songs.nrows == songidx + 1:\n",
        "        return h5.root.musicbrainz.artist_mbtags_count[h5.root.musicbrainz.songs.cols.idx_artist_mbtags[songidx]:]\n",
        "    return h5.root.musicbrainz.artist_mbtags_count[h5.root.metadata.songs.cols.idx_artist_mbtags[songidx]:\n",
        "                                                   h5.root.metadata.songs.cols.idx_artist_mbtags[songidx+1]]\n",
        "\n",
        "def get_year(h5,songidx=0):\n",
        "    \"\"\"\n",
        "    Get release year from a HDF5 song file, by default the first song in it\n",
        "    \"\"\"\n",
        "    return h5.root.musicbrainz.songs.cols.year[songidx]\n",
        " \n"
      ],
      "execution_count": 0,
      "outputs": []
    },
    {
      "metadata": {
        "id": "mT8lSCgUklPt",
        "colab_type": "code",
        "colab": {}
      },
      "cell_type": "code",
      "source": [
        "def apply_to_all_files(basedir,func=lambda x: x,ext='.h5'):\n",
        "    \"\"\"\n",
        "    From a base directory, go through all subdirectories,\n",
        "    find all files with the given extension, apply the\n",
        "    given function 'func' to all of them.\n",
        "    If no 'func' is passed, we do nothing except counting.\n",
        "    INPUT\n",
        "       basedir  - base directory of the dataset\n",
        "       func     - function to apply to all filenames\n",
        "       ext      - extension, .h5 by default\n",
        "    RETURN\n",
        "       number of files\n",
        "    \"\"\"\n",
        "    cnt = 0\n",
        "    # iterate over all files in all subdirectories\n",
        "    for root, dirs, files in os.walk(basedir):\n",
        "        files = glob.glob(os.path.join(root,'*'+ext))\n",
        "        # count files\n",
        "        cnt += len(files)\n",
        "        # apply function to all files\n",
        "        for f in files :\n",
        "            func(f)       \n",
        "    return cnt"
      ],
      "execution_count": 0,
      "outputs": []
    },
    {
      "metadata": {
        "id": "jSV7nIXGkopk",
        "colab_type": "code",
        "colab": {}
      },
      "cell_type": "code",
      "source": [
        "def strtimedelta(starttime,stoptime):\n",
        "    return str(datetime.timedelta(seconds=stoptime-starttime))"
      ],
      "execution_count": 0,
      "outputs": []
    },
    {
      "metadata": {
        "id": "nispdxVmkr6V",
        "colab_type": "text"
      },
      "cell_type": "markdown",
      "source": [
        "###Extract Audio"
      ]
    },
    {
      "metadata": {
        "id": "oJbjbUvIkt-P",
        "colab_type": "code",
        "colab": {}
      },
      "cell_type": "code",
      "source": [
        "all_analysis_sample_rate = []\n",
        "all_tempo = []\n",
        "all_time_signature = []\n",
        "all_segments_pitches= []\n",
        "all_segments_timbre= []\n",
        "all_segments_loudness_max= []\n",
        "all_song_id = []\n",
        "\n",
        "def extractAudio(filename): \n",
        "  \n",
        "  h5 = open_h5_file_read(filename)\n",
        "  tmp = get_song_id(h5)\n",
        "  all_song_id.append(tmp)\n",
        "  tmp = get_analysis_sample_rate(h5)\n",
        "  all_analysis_sample_rate.append(tmp)\n",
        "  tmp = get_time_signature(h5)\n",
        "  all_time_signature.append(tmp)\n",
        "  tmp = get_tempo(h5)\n",
        "  all_tempo.append(tmp)\n",
        "  tmp = get_segments_pitches(h5)\n",
        "  all_segments_pitches.append(tmp)\n",
        "  tmp = get_segments_timbre(h5) \n",
        "  all_segments_timbre.append(tmp)\n",
        "  tmp = get_segments_loudness_max(h5)\n",
        "  all_segments_loudness_max.append(tmp)\n",
        "  h5.close()    "
      ],
      "execution_count": 0,
      "outputs": []
    },
    {
      "metadata": {
        "id": "qQ9sGBRcnp2j",
        "colab_type": "text"
      },
      "cell_type": "markdown",
      "source": [
        "run for a small subset"
      ]
    },
    {
      "metadata": {
        "id": "3P_VGbFgnDBc",
        "colab_type": "code",
        "colab": {}
      },
      "cell_type": "code",
      "source": [
        "t1 = time.time()\n",
        "apply_to_all_files(smallset,func=extractAudio)\n",
        "t2 = time.time()"
      ],
      "execution_count": 0,
      "outputs": []
    },
    {
      "metadata": {
        "id": "seeGM_y9nsLj",
        "colab_type": "text"
      },
      "cell_type": "markdown",
      "source": [
        "run for the whole subset"
      ]
    },
    {
      "metadata": {
        "id": "VL-iTZSNnuix",
        "colab_type": "code",
        "colab": {}
      },
      "cell_type": "code",
      "source": [
        "t1 = time.time()\n",
        "apply_to_all_files(msd_subset_data_path,func=extractAudio)\n",
        "t2 = time.time()"
      ],
      "execution_count": 0,
      "outputs": []
    },
    {
      "metadata": {
        "id": "bsCMMN9XmTFS",
        "colab_type": "text"
      },
      "cell_type": "markdown",
      "source": [
        "Extracting the features"
      ]
    },
    {
      "metadata": {
        "id": "Q2V2Gm8rlxzw",
        "colab_type": "code",
        "colab": {}
      },
      "cell_type": "code",
      "source": [
        "Audio = [\n",
        "    all_analysis_sample_rate,\n",
        "    all_time_signature,\n",
        "    all_tempo,\n",
        "    all_segments_pitches,\n",
        "    all_segments_timbre, #pure mfcc\n",
        "    all_segments_loudness_max\n",
        "]\n",
        "AudioLabels = [\n",
        "    'analysis_sample_rate',\n",
        "    'time_signature',\n",
        "    'tempo',\n",
        "    'segments_pitches',\n",
        "    'segments_timbre', #pure mfcc\n",
        "    'segments_loudness_max'\n",
        "]"
      ],
      "execution_count": 0,
      "outputs": []
    },
    {
      "metadata": {
        "id": "9uEcpkcO2Df_",
        "colab_type": "code",
        "colab": {}
      },
      "cell_type": "code",
      "source": [
        "loudness_list = Audio[-1]\n",
        "mfcc_list = Audio[-2]\n",
        "pitch_list = Audio[-3]"
      ],
      "execution_count": 0,
      "outputs": []
    },
    {
      "metadata": {
        "id": "QCIoFIF0yfc9",
        "colab_type": "code",
        "colab": {
          "base_uri": "https://localhost:8080/",
          "height": 34
        },
        "outputId": "63a3a68c-384c-4174-c84e-7e80bf9f568c"
      },
      "cell_type": "code",
      "source": [
        "len(mfcc_list)"
      ],
      "execution_count": 13,
      "outputs": [
        {
          "output_type": "execute_result",
          "data": {
            "text/plain": [
              "10008"
            ]
          },
          "metadata": {
            "tags": []
          },
          "execution_count": 13
        }
      ]
    },
    {
      "metadata": {
        "id": "eidfcN68mpQ-",
        "colab_type": "code",
        "colab": {}
      },
      "cell_type": "code",
      "source": [
        "dataAudio = pd.DataFrame(Audio,index = AudioLabels, columns = all_song_id)\n",
        "audioData = dataAudio.transpose()"
      ],
      "execution_count": 0,
      "outputs": []
    },
    {
      "metadata": {
        "id": "ABRgoGHm4Bym",
        "colab_type": "code",
        "colab": {}
      },
      "cell_type": "code",
      "source": [
        "def feature_shape(arr):\n",
        "  return arr.shape"
      ],
      "execution_count": 0,
      "outputs": []
    },
    {
      "metadata": {
        "id": "UfNB80tv35hp",
        "colab_type": "code",
        "colab": {}
      },
      "cell_type": "code",
      "source": [
        "def resize_features_mfcc_pitch(features):\n",
        "  return resize(features, (height, width))"
      ],
      "execution_count": 0,
      "outputs": []
    },
    {
      "metadata": {
        "id": "vSRwCTN0HQDh",
        "colab_type": "code",
        "colab": {}
      },
      "cell_type": "code",
      "source": [
        "def resize_loudness(features):\n",
        "  return np.resize(features, (height,))"
      ],
      "execution_count": 0,
      "outputs": []
    },
    {
      "metadata": {
        "id": "CTPSCGn9Hk8Q",
        "colab_type": "code",
        "outputId": "8f76e42f-8abe-4b39-ea27-f72e62b2f239",
        "colab": {
          "base_uri": "https://localhost:8080/",
          "height": 71
        }
      },
      "cell_type": "code",
      "source": [
        "audioData['mfcc_input'] = audioData['segments_timbre'].apply(resize_features_mfcc_pitch)"
      ],
      "execution_count": 17,
      "outputs": [
        {
          "output_type": "stream",
          "text": [
            "/usr/local/lib/python3.6/dist-packages/skimage/transform/_warps.py:84: UserWarning: The default mode, 'constant', will be changed to 'reflect' in skimage 0.15.\n",
            "  warn(\"The default mode, 'constant', will be changed to 'reflect' in \"\n"
          ],
          "name": "stderr"
        }
      ]
    },
    {
      "metadata": {
        "id": "WjhbAua6H1Yx",
        "colab_type": "code",
        "outputId": "ea5022cc-4de1-4439-efb5-69d94fae19b8",
        "colab": {
          "base_uri": "https://localhost:8080/",
          "height": 71
        }
      },
      "cell_type": "code",
      "source": [
        "audioData['pitches_input'] = audioData['segments_pitches'].apply(resize_features_mfcc_pitch)"
      ],
      "execution_count": 18,
      "outputs": [
        {
          "output_type": "stream",
          "text": [
            "/usr/local/lib/python3.6/dist-packages/skimage/transform/_warps.py:84: UserWarning: The default mode, 'constant', will be changed to 'reflect' in skimage 0.15.\n",
            "  warn(\"The default mode, 'constant', will be changed to 'reflect' in \"\n"
          ],
          "name": "stderr"
        }
      ]
    },
    {
      "metadata": {
        "id": "gowFrnSuIDyZ",
        "colab_type": "code",
        "colab": {}
      },
      "cell_type": "code",
      "source": [
        "audioData['loudness_input'] = audioData['segments_loudness_max'].apply(resize_loudness)"
      ],
      "execution_count": 0,
      "outputs": []
    },
    {
      "metadata": {
        "id": "_1oRukRc2R6H",
        "colab_type": "code",
        "colab": {}
      },
      "cell_type": "code",
      "source": [
        "audioData.drop(['analysis_sample_rate', 'time_signature', 'tempo', 'segments_pitches', 'segments_timbre', 'segments_loudness_max'], axis = 1, inplace = True)"
      ],
      "execution_count": 0,
      "outputs": []
    },
    {
      "metadata": {
        "id": "3IL0sHfl4NX1",
        "colab_type": "code",
        "colab": {}
      },
      "cell_type": "code",
      "source": [
        "#audioData['mfcc_shape'] = audioData['mfcc_input'].apply(feature_shape)"
      ],
      "execution_count": 0,
      "outputs": []
    },
    {
      "metadata": {
        "id": "9NG9ZEaGF1__",
        "colab_type": "code",
        "colab": {}
      },
      "cell_type": "code",
      "source": [
        "#audioData['pitch_shape'] = audioData['pitches_input'].apply(feature_shape)"
      ],
      "execution_count": 0,
      "outputs": []
    },
    {
      "metadata": {
        "id": "B9AJ76kfGamX",
        "colab_type": "code",
        "colab": {}
      },
      "cell_type": "code",
      "source": [
        "#audioData['loudness_shape'] = audioData['loudness_input'].apply(feature_shape)"
      ],
      "execution_count": 0,
      "outputs": []
    },
    {
      "metadata": {
        "id": "zo6craCDIPz3",
        "colab_type": "code",
        "outputId": "8c350d4b-53c5-4ec1-9f05-bfb6c8b67229",
        "colab": {
          "base_uri": "https://localhost:8080/",
          "height": 204
        }
      },
      "cell_type": "code",
      "source": [
        "audioData.head()"
      ],
      "execution_count": 21,
      "outputs": [
        {
          "output_type": "execute_result",
          "data": {
            "text/html": [
              "<div>\n",
              "<style scoped>\n",
              "    .dataframe tbody tr th:only-of-type {\n",
              "        vertical-align: middle;\n",
              "    }\n",
              "\n",
              "    .dataframe tbody tr th {\n",
              "        vertical-align: top;\n",
              "    }\n",
              "\n",
              "    .dataframe thead th {\n",
              "        text-align: right;\n",
              "    }\n",
              "</style>\n",
              "<table border=\"1\" class=\"dataframe\">\n",
              "  <thead>\n",
              "    <tr style=\"text-align: right;\">\n",
              "      <th></th>\n",
              "      <th>mfcc_input</th>\n",
              "      <th>pitches_input</th>\n",
              "      <th>loudness_input</th>\n",
              "    </tr>\n",
              "  </thead>\n",
              "  <tbody>\n",
              "    <tr>\n",
              "      <th>b'SOCIWDW12A8C13D406'</th>\n",
              "      <td>[[4.089587835045337e-11, 124.78229166669115, 6...</td>\n",
              "      <td>[[0.7291666666670267, 0.7291666666670285, 0.72...</td>\n",
              "      <td>[-60.0, -14.269, -10.165, -18.098, -19.136, -1...</td>\n",
              "    </tr>\n",
              "    <tr>\n",
              "      <th>b'SOMJBYD12A6D4F8557'</th>\n",
              "      <td>[[1.8988295833321773, 123.68727958325742, 11.8...</td>\n",
              "      <td>[[0.7004166666662403, 0.6086620833330666, 0.48...</td>\n",
              "      <td>[-55.508, -10.928, -27.764, -14.137, -14.675, ...</td>\n",
              "    </tr>\n",
              "    <tr>\n",
              "      <th>b'SONHOTT12A8C13493C'</th>\n",
              "      <td>[[20.999032083329435, 31.548652083328676, 149....</td>\n",
              "      <td>[[0.5481962499998982, 0.49851333333326797, 0.5...</td>\n",
              "      <td>[-18.682, -9.55, -9.709, -8.633, -7.434, -11.7...</td>\n",
              "    </tr>\n",
              "    <tr>\n",
              "      <th>b'SOXVLOJ12AB0189215'</th>\n",
              "      <td>[[0.0, 125.63353666660957, 6.944482500047926, ...</td>\n",
              "      <td>[[0.7341666666663419, 0.6688258333333201, 0.13...</td>\n",
              "      <td>[-59.895, -11.914, -10.344, -9.678, -9.22, -8....</td>\n",
              "    </tr>\n",
              "    <tr>\n",
              "      <th>b'SOMZWCG12A8C13C480'</th>\n",
              "      <td>[[0.0, 154.80134583337653, 8.565499583370393, ...</td>\n",
              "      <td>[[0.8557358333335836, 0.6187350000003595, 0.61...</td>\n",
              "      <td>[-60.0, -31.646, -34.565, -38.407, -34.696, -2...</td>\n",
              "    </tr>\n",
              "  </tbody>\n",
              "</table>\n",
              "</div>"
            ],
            "text/plain": [
              "                                                              mfcc_input  \\\n",
              "b'SOCIWDW12A8C13D406'  [[4.089587835045337e-11, 124.78229166669115, 6...   \n",
              "b'SOMJBYD12A6D4F8557'  [[1.8988295833321773, 123.68727958325742, 11.8...   \n",
              "b'SONHOTT12A8C13493C'  [[20.999032083329435, 31.548652083328676, 149....   \n",
              "b'SOXVLOJ12AB0189215'  [[0.0, 125.63353666660957, 6.944482500047926, ...   \n",
              "b'SOMZWCG12A8C13C480'  [[0.0, 154.80134583337653, 8.565499583370393, ...   \n",
              "\n",
              "                                                           pitches_input  \\\n",
              "b'SOCIWDW12A8C13D406'  [[0.7291666666670267, 0.7291666666670285, 0.72...   \n",
              "b'SOMJBYD12A6D4F8557'  [[0.7004166666662403, 0.6086620833330666, 0.48...   \n",
              "b'SONHOTT12A8C13493C'  [[0.5481962499998982, 0.49851333333326797, 0.5...   \n",
              "b'SOXVLOJ12AB0189215'  [[0.7341666666663419, 0.6688258333333201, 0.13...   \n",
              "b'SOMZWCG12A8C13C480'  [[0.8557358333335836, 0.6187350000003595, 0.61...   \n",
              "\n",
              "                                                          loudness_input  \n",
              "b'SOCIWDW12A8C13D406'  [-60.0, -14.269, -10.165, -18.098, -19.136, -1...  \n",
              "b'SOMJBYD12A6D4F8557'  [-55.508, -10.928, -27.764, -14.137, -14.675, ...  \n",
              "b'SONHOTT12A8C13493C'  [-18.682, -9.55, -9.709, -8.633, -7.434, -11.7...  \n",
              "b'SOXVLOJ12AB0189215'  [-59.895, -11.914, -10.344, -9.678, -9.22, -8....  \n",
              "b'SOMZWCG12A8C13C480'  [-60.0, -31.646, -34.565, -38.407, -34.696, -2...  "
            ]
          },
          "metadata": {
            "tags": []
          },
          "execution_count": 21
        }
      ]
    },
    {
      "metadata": {
        "id": "Js_O5l2pMGY-",
        "colab_type": "code",
        "colab": {}
      },
      "cell_type": "code",
      "source": [
        "mfcc_features = audioData['mfcc_input'].tolist()\n",
        "pitch_features = audioData['pitches_input'].tolist()\n",
        "loudness_features = audioData['loudness_input'].tolist()"
      ],
      "execution_count": 0,
      "outputs": []
    },
    {
      "metadata": {
        "id": "YtVO0eVmbJJW",
        "colab_type": "code",
        "colab": {}
      },
      "cell_type": "code",
      "source": [
        "ts_features = audioData['time_signature'].tolist()\n",
        "tempo_features = audioData['tempo'].tolist()"
      ],
      "execution_count": 0,
      "outputs": []
    },
    {
      "metadata": {
        "id": "sM-HwUFXRqkh",
        "colab_type": "code",
        "outputId": "729525d4-4c62-4d12-c931-9c4c3e59f867",
        "colab": {
          "base_uri": "https://localhost:8080/",
          "height": 34
        }
      },
      "cell_type": "code",
      "source": [
        "type(mfcc_features)"
      ],
      "execution_count": 0,
      "outputs": [
        {
          "output_type": "execute_result",
          "data": {
            "text/plain": [
              "list"
            ]
          },
          "metadata": {
            "tags": []
          },
          "execution_count": 25
        }
      ]
    },
    {
      "metadata": {
        "id": "g-3LOII_RuVt",
        "colab_type": "code",
        "colab": {}
      },
      "cell_type": "code",
      "source": [
        "mfccs = np.asarray(mfcc_features)\n",
        "pitches = np.asarray(pitch_features)\n",
        "loudness = np.asarray(loudness_features)"
      ],
      "execution_count": 0,
      "outputs": []
    },
    {
      "metadata": {
        "id": "du0tNyas0q9F",
        "colab_type": "code",
        "colab": {}
      },
      "cell_type": "code",
      "source": [
        "mfccs4 = mfccs[7506:]\n",
        "pitches4 = pitches[7506:]\n",
        "loudness4 = loudness[7506:]"
      ],
      "execution_count": 0,
      "outputs": []
    },
    {
      "metadata": {
        "id": "ExXRSwws11PD",
        "colab_type": "code",
        "colab": {}
      },
      "cell_type": "code",
      "source": [
        "loudness_4 = np.reshape(loudness4, (loudness4.shape[0], loudness4.shape[1], 1))"
      ],
      "execution_count": 0,
      "outputs": []
    },
    {
      "metadata": {
        "id": "fc-7TFng2Ahk",
        "colab_type": "code",
        "colab": {}
      },
      "cell_type": "code",
      "source": [
        "features4 = np.append(mfccs4, pitches4, axis = 2)\n",
        "features_4 = np.append(features4, loudness_4, axis = 2)"
      ],
      "execution_count": 0,
      "outputs": []
    },
    {
      "metadata": {
        "id": "fTQkMlFm2WkT",
        "colab_type": "code",
        "colab": {}
      },
      "cell_type": "code",
      "source": [
        "features_4.dump('IR_data_full_4.dat')"
      ],
      "execution_count": 0,
      "outputs": []
    },
    {
      "metadata": {
        "id": "A0wWaVUl2ecf",
        "colab_type": "code",
        "colab": {
          "base_uri": "https://localhost:8080/",
          "height": 442
        },
        "outputId": "a8ae01e0-ca15-4fe5-90fe-15f9b808b152"
      },
      "cell_type": "code",
      "source": [
        "files.download('IR_data_full_4.dat')"
      ],
      "execution_count": 34,
      "outputs": [
        {
          "output_type": "stream",
          "text": [
            "----------------------------------------\n",
            "Exception happened during processing of request from ('::ffff:127.0.0.1', 57362, 0, 0)\n",
            "Traceback (most recent call last):\n",
            "  File \"/usr/lib/python3.6/socketserver.py\", line 317, in _handle_request_noblock\n",
            "    self.process_request(request, client_address)\n",
            "  File \"/usr/lib/python3.6/socketserver.py\", line 348, in process_request\n",
            "    self.finish_request(request, client_address)\n",
            "  File \"/usr/lib/python3.6/socketserver.py\", line 361, in finish_request\n",
            "    self.RequestHandlerClass(request, client_address, self)\n",
            "  File \"/usr/lib/python3.6/socketserver.py\", line 721, in __init__\n",
            "    self.handle()\n",
            "  File \"/usr/lib/python3.6/http/server.py\", line 418, in handle\n",
            "    self.handle_one_request()\n",
            "  File \"/usr/lib/python3.6/http/server.py\", line 406, in handle_one_request\n",
            "    method()\n",
            "  File \"/usr/lib/python3.6/http/server.py\", line 639, in do_GET\n",
            "    self.copyfile(f, self.wfile)\n",
            "  File \"/usr/lib/python3.6/http/server.py\", line 800, in copyfile\n",
            "    shutil.copyfileobj(source, outputfile)\n",
            "  File \"/usr/lib/python3.6/shutil.py\", line 82, in copyfileobj\n",
            "    fdst.write(buf)\n",
            "  File \"/usr/lib/python3.6/socketserver.py\", line 800, in write\n",
            "    self._sock.sendall(b)\n",
            "ConnectionResetError: [Errno 104] Connection reset by peer\n",
            "----------------------------------------\n"
          ],
          "name": "stderr"
        }
      ]
    },
    {
      "metadata": {
        "id": "A6EStM7GcNR8",
        "colab_type": "code",
        "colab": {}
      },
      "cell_type": "code",
      "source": [
        "time_sig = np.asarray(ts_features)\n",
        "tempo = np.asarray(tempo_features)"
      ],
      "execution_count": 0,
      "outputs": []
    },
    {
      "metadata": {
        "id": "BFqMA-AXTFeC",
        "colab_type": "code",
        "outputId": "e29ed147-d93b-400e-c26a-ffaae3ab5d21",
        "colab": {
          "base_uri": "https://localhost:8080/",
          "height": 34
        }
      },
      "cell_type": "code",
      "source": [
        "loudness.shape"
      ],
      "execution_count": 27,
      "outputs": [
        {
          "output_type": "execute_result",
          "data": {
            "text/plain": [
              "(10008, 1200)"
            ]
          },
          "metadata": {
            "tags": []
          },
          "execution_count": 27
        }
      ]
    },
    {
      "metadata": {
        "id": "z6vnYk-Hch_o",
        "colab_type": "code",
        "outputId": "3a5eff17-2702-41fd-8365-106ff3923766",
        "colab": {
          "base_uri": "https://localhost:8080/",
          "height": 34
        }
      },
      "cell_type": "code",
      "source": [
        "time_sig.shape"
      ],
      "execution_count": 0,
      "outputs": [
        {
          "output_type": "execute_result",
          "data": {
            "text/plain": [
              "(10008,)"
            ]
          },
          "metadata": {
            "tags": []
          },
          "execution_count": 29
        }
      ]
    },
    {
      "metadata": {
        "id": "UVHWICgTcic9",
        "colab_type": "code",
        "outputId": "4a457083-0d97-4d5d-8001-7d72bc4c93f3",
        "colab": {
          "base_uri": "https://localhost:8080/",
          "height": 34
        }
      },
      "cell_type": "code",
      "source": [
        "tempo.shape"
      ],
      "execution_count": 0,
      "outputs": [
        {
          "output_type": "execute_result",
          "data": {
            "text/plain": [
              "(10008,)"
            ]
          },
          "metadata": {
            "tags": []
          },
          "execution_count": 30
        }
      ]
    },
    {
      "metadata": {
        "id": "AoHGLkyiTPq2",
        "colab_type": "code",
        "colab": {}
      },
      "cell_type": "code",
      "source": [
        "loudness_ = np.reshape(loudness, (loudness.shape[0], loudness.shape[1], 1))"
      ],
      "execution_count": 0,
      "outputs": []
    },
    {
      "metadata": {
        "id": "piuVbd_ScrXe",
        "colab_type": "code",
        "colab": {}
      },
      "cell_type": "code",
      "source": [
        "time_sig_ = np.reshape(time_sig, (time_sig.shape[0], 1, 1))\n",
        "tempo_ = np.reshape(tempo, (tempo.shape[0], 1, 1))"
      ],
      "execution_count": 0,
      "outputs": []
    },
    {
      "metadata": {
        "id": "DfIcOM7aTaww",
        "colab_type": "code",
        "outputId": "bbaf5fc6-923a-4d8c-c8c0-470a7d53e2bd",
        "colab": {
          "base_uri": "https://localhost:8080/",
          "height": 34
        }
      },
      "cell_type": "code",
      "source": [
        "loudness_.shape"
      ],
      "execution_count": 29,
      "outputs": [
        {
          "output_type": "execute_result",
          "data": {
            "text/plain": [
              "(10008, 1200, 1)"
            ]
          },
          "metadata": {
            "tags": []
          },
          "execution_count": 29
        }
      ]
    },
    {
      "metadata": {
        "id": "ijZHpZCDR-Xr",
        "colab_type": "code",
        "outputId": "fc16f02c-53aa-47ee-a64d-a45d5bd09361",
        "colab": {
          "base_uri": "https://localhost:8080/",
          "height": 34
        }
      },
      "cell_type": "code",
      "source": [
        "mfccs.shape"
      ],
      "execution_count": 30,
      "outputs": [
        {
          "output_type": "execute_result",
          "data": {
            "text/plain": [
              "(10008, 1200, 12)"
            ]
          },
          "metadata": {
            "tags": []
          },
          "execution_count": 30
        }
      ]
    },
    {
      "metadata": {
        "id": "dy6KW49RdDsy",
        "colab_type": "code",
        "outputId": "3da701e9-76cc-49a5-af19-58aae80b7e11",
        "colab": {
          "base_uri": "https://localhost:8080/",
          "height": 34
        }
      },
      "cell_type": "code",
      "source": [
        "time_sig_.shape"
      ],
      "execution_count": 0,
      "outputs": [
        {
          "output_type": "execute_result",
          "data": {
            "text/plain": [
              "(10008, 1, 1)"
            ]
          },
          "metadata": {
            "tags": []
          },
          "execution_count": 35
        }
      ]
    },
    {
      "metadata": {
        "id": "vSthX1YbdG3q",
        "colab_type": "code",
        "outputId": "704d03b6-6c88-4cdb-c720-8355d7582a10",
        "colab": {
          "base_uri": "https://localhost:8080/",
          "height": 34
        }
      },
      "cell_type": "code",
      "source": [
        "tempo_.shape"
      ],
      "execution_count": 0,
      "outputs": [
        {
          "output_type": "execute_result",
          "data": {
            "text/plain": [
              "(10008, 1, 1)"
            ]
          },
          "metadata": {
            "tags": []
          },
          "execution_count": 36
        }
      ]
    },
    {
      "metadata": {
        "id": "88M5WCJ7SwYP",
        "colab_type": "code",
        "colab": {}
      },
      "cell_type": "code",
      "source": [
        "features = np.append(mfccs, pitches, axis = 2)"
      ],
      "execution_count": 0,
      "outputs": []
    },
    {
      "metadata": {
        "id": "9dJnwPt7S6Xx",
        "colab_type": "code",
        "colab": {}
      },
      "cell_type": "code",
      "source": [
        "features_ = np.append(features, loudness_, axis = 2)"
      ],
      "execution_count": 0,
      "outputs": []
    },
    {
      "metadata": {
        "id": "x5nstMuUdQtU",
        "colab_type": "code",
        "outputId": "1835fef9-604a-49a4-ce79-13e9f8eefded",
        "colab": {
          "base_uri": "https://localhost:8080/",
          "height": 253
        }
      },
      "cell_type": "code",
      "source": [
        "features_ = np.append(features, time_sig, axis = 1)"
      ],
      "execution_count": 0,
      "outputs": [
        {
          "output_type": "error",
          "ename": "ValueError",
          "evalue": "ignored",
          "traceback": [
            "\u001b[0;31m---------------------------------------------------------------------------\u001b[0m",
            "\u001b[0;31mValueError\u001b[0m                                Traceback (most recent call last)",
            "\u001b[0;32m<ipython-input-92-dd292235c723>\u001b[0m in \u001b[0;36m<module>\u001b[0;34m()\u001b[0m\n\u001b[0;32m----> 1\u001b[0;31m \u001b[0mfeatures_\u001b[0m \u001b[0;34m=\u001b[0m \u001b[0mnp\u001b[0m\u001b[0;34m.\u001b[0m\u001b[0mappend\u001b[0m\u001b[0;34m(\u001b[0m\u001b[0mfeatures\u001b[0m\u001b[0;34m,\u001b[0m \u001b[0mtime_sig\u001b[0m\u001b[0;34m,\u001b[0m \u001b[0maxis\u001b[0m \u001b[0;34m=\u001b[0m \u001b[0;36m1\u001b[0m\u001b[0;34m)\u001b[0m\u001b[0;34m\u001b[0m\u001b[0;34m\u001b[0m\u001b[0m\n\u001b[0m",
            "\u001b[0;32m/usr/local/lib/python3.6/dist-packages/numpy/lib/function_base.py\u001b[0m in \u001b[0;36mappend\u001b[0;34m(arr, values, axis)\u001b[0m\n\u001b[1;32m   5164\u001b[0m         \u001b[0mvalues\u001b[0m \u001b[0;34m=\u001b[0m \u001b[0mravel\u001b[0m\u001b[0;34m(\u001b[0m\u001b[0mvalues\u001b[0m\u001b[0;34m)\u001b[0m\u001b[0;34m\u001b[0m\u001b[0;34m\u001b[0m\u001b[0m\n\u001b[1;32m   5165\u001b[0m         \u001b[0maxis\u001b[0m \u001b[0;34m=\u001b[0m \u001b[0marr\u001b[0m\u001b[0;34m.\u001b[0m\u001b[0mndim\u001b[0m\u001b[0;34m-\u001b[0m\u001b[0;36m1\u001b[0m\u001b[0;34m\u001b[0m\u001b[0;34m\u001b[0m\u001b[0m\n\u001b[0;32m-> 5166\u001b[0;31m     \u001b[0;32mreturn\u001b[0m \u001b[0mconcatenate\u001b[0m\u001b[0;34m(\u001b[0m\u001b[0;34m(\u001b[0m\u001b[0marr\u001b[0m\u001b[0;34m,\u001b[0m \u001b[0mvalues\u001b[0m\u001b[0;34m)\u001b[0m\u001b[0;34m,\u001b[0m \u001b[0maxis\u001b[0m\u001b[0;34m=\u001b[0m\u001b[0maxis\u001b[0m\u001b[0;34m)\u001b[0m\u001b[0;34m\u001b[0m\u001b[0;34m\u001b[0m\u001b[0m\n\u001b[0m",
            "\u001b[0;31mValueError\u001b[0m: all the input arrays must have same number of dimensions"
          ]
        }
      ]
    },
    {
      "metadata": {
        "id": "da1fPzE4c_K8",
        "colab_type": "code",
        "colab": {}
      },
      "cell_type": "code",
      "source": [
        "features_ = np.append(features, tempo_, axis = 1)"
      ],
      "execution_count": 0,
      "outputs": []
    },
    {
      "metadata": {
        "id": "43vwLWj7Tnqj",
        "colab_type": "code",
        "colab": {}
      },
      "cell_type": "code",
      "source": [
        "features_.shape"
      ],
      "execution_count": 0,
      "outputs": []
    },
    {
      "metadata": {
        "id": "O7sg_S6MUEJj",
        "colab_type": "code",
        "colab": {}
      },
      "cell_type": "code",
      "source": [
        "features_.dump('IR_data_full.dat')"
      ],
      "execution_count": 0,
      "outputs": []
    },
    {
      "metadata": {
        "id": "8wNbtJ7kWCsW",
        "colab_type": "code",
        "colab": {}
      },
      "cell_type": "code",
      "source": [
        "files.download('IR_data_full.dat')"
      ],
      "execution_count": 0,
      "outputs": []
    },
    {
      "metadata": {
        "id": "UZ5Al0ysWbe2",
        "colab_type": "code",
        "colab": {}
      },
      "cell_type": "code",
      "source": [
        ""
      ],
      "execution_count": 0,
      "outputs": []
    }
  ]
}