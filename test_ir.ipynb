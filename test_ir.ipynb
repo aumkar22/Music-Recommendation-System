{
  "nbformat": 4,
  "nbformat_minor": 0,
  "metadata": {
    "colab": {
      "name": "test_ir.ipynb",
      "version": "0.3.2",
      "provenance": []
    },
    "kernelspec": {
      "name": "python3",
      "display_name": "Python 3"
    },
    "accelerator": "TPU"
  },
  "cells": [
    {
      "metadata": {
        "id": "9r1flYl6_rwz",
        "colab_type": "code",
        "colab": {}
      },
      "cell_type": "code",
      "source": [
        "import os\n",
        "import sys\n",
        "import time\n",
        "import glob\n",
        "import datetime\n",
        "import sqlite3\n",
        "import pandas as pd\n",
        "import numpy as np\n",
        "import tarfile\n",
        "import tables\n",
        "import numpy as np\n",
        "import pandas as pd\n",
        "from google.colab import drive, files\n",
        "from skimage.transform import resize\n",
        "import pdb"
      ],
      "execution_count": 0,
      "outputs": []
    },
    {
      "metadata": {
        "id": "m4otFsO5_5lG",
        "colab_type": "code",
        "colab": {
          "base_uri": "https://localhost:8080/",
          "height": 34
        },
        "outputId": "953d458b-338e-4e1e-be14-c8118e642136"
      },
      "cell_type": "code",
      "source": [
        "drive.mount('/content/drive')"
      ],
      "execution_count": 2,
      "outputs": [
        {
          "output_type": "stream",
          "text": [
            "Drive already mounted at /content/drive; to attempt to forcibly remount, call drive.mount(\"/content/drive\", force_remount=True).\n"
          ],
          "name": "stdout"
        }
      ]
    },
    {
      "metadata": {
        "id": "_9aIqS-fACya",
        "colab_type": "code",
        "colab": {
          "resources": {
            "http://localhost:8080/nbextensions/google.colab/files.js": {
              "data": "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",
              "ok": true,
              "headers": [
                [
                  "content-type",
                  "application/javascript"
                ]
              ],
              "status": 200,
              "status_text": ""
            }
          },
          "base_uri": "https://localhost:8080/",
          "height": 72
        },
        "outputId": "c940eb2e-0300-4b0c-bffd-5089cde71bfa"
      },
      "cell_type": "code",
      "source": [
        "uploaded = files.upload()"
      ],
      "execution_count": 3,
      "outputs": [
        {
          "output_type": "display_data",
          "data": {
            "text/html": [
              "\n",
              "     <input type=\"file\" id=\"files-758addad-59f7-47b8-957e-1fa5df12666b\" name=\"files[]\" multiple disabled />\n",
              "     <output id=\"result-758addad-59f7-47b8-957e-1fa5df12666b\">\n",
              "      Upload widget is only available when the cell has been executed in the\n",
              "      current browser session. Please rerun this cell to enable.\n",
              "      </output>\n",
              "      <script src=\"/nbextensions/google.colab/files.js\"></script> "
            ],
            "text/plain": [
              "<IPython.core.display.HTML object>"
            ]
          },
          "metadata": {
            "tags": []
          }
        },
        {
          "output_type": "stream",
          "text": [
            "Saving TestIndices.npy to TestIndices (1).npy\n"
          ],
          "name": "stdout"
        }
      ]
    },
    {
      "metadata": {
        "id": "TZAmCvLaLiEL",
        "colab_type": "code",
        "colab": {}
      },
      "cell_type": "code",
      "source": [
        "height = 1500\n",
        "width = 12"
      ],
      "execution_count": 0,
      "outputs": []
    },
    {
      "metadata": {
        "id": "_pSyjuTlAFvq",
        "colab_type": "code",
        "colab": {
          "base_uri": "https://localhost:8080/",
          "height": 102
        },
        "outputId": "606afc6e-5b8e-44bb-d263-4a456f8b0473"
      },
      "cell_type": "code",
      "source": [
        "msd_subset_path=r'/content/drive/My Drive/IR/Dataprocessing/MillionSongSubset'\n",
        "msd_subset_data_path=os.path.join(msd_subset_path,'data')\n",
        "msd_subset_addf_path=os.path.join(msd_subset_path,'AdditionalFiles')\n",
        "smallset = r'/content/drive/My Drive/IR/Dataprocessing/A'\n",
        "msd_code_path=r'/content/drive/My Drive/IR/Dataprocessing'\n",
        "sys.path.append( os.path.join(msd_code_path,'PythonSrc') )\n",
        "sys.path.append( os.path.join(msd_code_path,'PythonSrc') )\n",
        "\n",
        "#Is the given path really a path?\n",
        "print(os.path.isdir(msd_subset_path))\n",
        "print(os.path.exists(msd_subset_path))\n",
        "print(os.path.isdir(msd_code_path))\n",
        "print(os.path.exists(msd_code_path))\n",
        "print(os.path.isdir(smallset))"
      ],
      "execution_count": 4,
      "outputs": [
        {
          "output_type": "stream",
          "text": [
            "True\n",
            "True\n",
            "True\n",
            "True\n",
            "True\n"
          ],
          "name": "stdout"
        }
      ]
    },
    {
      "metadata": {
        "id": "1-3OGRbkALSz",
        "colab_type": "code",
        "colab": {}
      },
      "cell_type": "code",
      "source": [
        "test_index = np.load('TestIndices.npy')"
      ],
      "execution_count": 0,
      "outputs": []
    },
    {
      "metadata": {
        "id": "iyaUlNxFAS4R",
        "colab_type": "code",
        "colab": {
          "base_uri": "https://localhost:8080/",
          "height": 34
        },
        "outputId": "8465d137-7c5d-4d2b-947e-015d003350c4"
      },
      "cell_type": "code",
      "source": [
        "test_index.shape"
      ],
      "execution_count": 6,
      "outputs": [
        {
          "output_type": "execute_result",
          "data": {
            "text/plain": [
              "(2002,)"
            ]
          },
          "metadata": {
            "tags": []
          },
          "execution_count": 6
        }
      ]
    },
    {
      "metadata": {
        "id": "S9HGgf-PAXA6",
        "colab_type": "code",
        "colab": {}
      },
      "cell_type": "code",
      "source": [
        "\"\"\"\n",
        "Thierry Bertin-Mahieux (2010) Columbia University\n",
        "tb2332@columbia.edu\n",
        "This code contains a set of getters functions to access the fields\n",
        "from an HDF5 song file (regular file with one song or\n",
        "aggregate / summary file with many songs)\n",
        "This is part of the Million Song Dataset project from\n",
        "LabROSA (Columbia University) and The Echo Nest.\n",
        "Copyright 2010, Thierry Bertin-Mahieux\n",
        "This program is free software: you can redistribute it and/or modify\n",
        "it under the terms of the GNU General Public License as published by\n",
        "the Free Software Foundation, either version 3 of the License, or\n",
        "(at your option) any later version.\n",
        "This program is distributed in the hope that it will be useful,\n",
        "but WITHOUT ANY WARRANTY; without even the implied warranty of\n",
        "MERCHANTABILITY or FITNESS FOR A PARTICULAR PURPOSE.  See the\n",
        "GNU General Public License for more details.\n",
        "You should have received a copy of the GNU General Public License\n",
        "along with this program.  If not, see <http://www.gnu.org/licenses/>.\n",
        "\"\"\"\n",
        "\n",
        "\n",
        "def open_h5_file_read(h5filename):\n",
        "    \"\"\"\n",
        "    Open an existing H5 in read mode.\n",
        "    Same function as in hdf5_utils, here so we avoid one import\n",
        "    \"\"\"\n",
        "    return tables.open_file(h5filename, mode='r')\n",
        "\n",
        "\n",
        "def get_num_songs(h5):\n",
        "    \"\"\"\n",
        "    Return the number of songs contained in this h5 file, i.e. the number of rows\n",
        "    for all basic informations like name, artist, ...\n",
        "    \"\"\"\n",
        "    return h5.root.metadata.songs.nrows\n",
        "\n",
        "def get_artist_familiarity(h5,songidx=0):\n",
        "    \"\"\"\n",
        "    Get artist familiarity from a HDF5 song file, by default the first song in it\n",
        "    \"\"\"\n",
        "    return h5.root.metadata.songs.cols.artist_familiarity[songidx]\n",
        "\n",
        "def get_artist_hotttnesss(h5,songidx=0):\n",
        "    \"\"\"\n",
        "    Get artist hotttnesss from a HDF5 song file, by default the first song in it\n",
        "    \"\"\"\n",
        "    return h5.root.metadata.songs.cols.artist_hotttnesss[songidx]\n",
        "\n",
        "def get_artist_id(h5,songidx=0):\n",
        "    \"\"\"\n",
        "    Get artist id from a HDF5 song file, by default the first song in it\n",
        "    \"\"\"\n",
        "    return h5.root.metadata.songs.cols.artist_id[songidx]\n",
        "\n",
        "def get_artist_mbid(h5,songidx=0):\n",
        "    \"\"\"\n",
        "    Get artist musibrainz id from a HDF5 song file, by default the first song in it\n",
        "    \"\"\"\n",
        "    return h5.root.metadata.songs.cols.artist_mbid[songidx]\n",
        "\n",
        "def get_artist_playmeid(h5,songidx=0):\n",
        "    \"\"\"\n",
        "    Get artist playme id from a HDF5 song file, by default the first song in it\n",
        "    \"\"\"\n",
        "    return h5.root.metadata.songs.cols.artist_playmeid[songidx]\n",
        "\n",
        "def get_artist_7digitalid(h5,songidx=0):\n",
        "    \"\"\"\n",
        "    Get artist 7digital id from a HDF5 song file, by default the first song in it\n",
        "    \"\"\"\n",
        "    return h5.root.metadata.songs.cols.artist_7digitalid[songidx]\n",
        "\n",
        "def get_artist_latitude(h5,songidx=0):\n",
        "    \"\"\"\n",
        "    Get artist latitude from a HDF5 song file, by default the first song in it\n",
        "    \"\"\"\n",
        "    return h5.root.metadata.songs.cols.artist_latitude[songidx]\n",
        "\n",
        "def get_artist_longitude(h5,songidx=0):\n",
        "    \"\"\"\n",
        "    Get artist longitude from a HDF5 song file, by default the first song in it\n",
        "    \"\"\"\n",
        "    return h5.root.metadata.songs.cols.artist_longitude[songidx]\n",
        "\n",
        "def get_artist_location(h5,songidx=0):\n",
        "    \"\"\"\n",
        "    Get artist location from a HDF5 song file, by default the first song in it\n",
        "    \"\"\"\n",
        "    return h5.root.metadata.songs.cols.artist_location[songidx]\n",
        "\n",
        "def get_artist_name(h5,songidx=0):\n",
        "    \"\"\"\n",
        "    Get artist name from a HDF5 song file, by default the first song in it\n",
        "    \"\"\"\n",
        "    return h5.root.metadata.songs.cols.artist_name[songidx]\n",
        "\n",
        "def get_release(h5,songidx=0):\n",
        "    \"\"\"\n",
        "    Get release from a HDF5 song file, by default the first song in it\n",
        "    \"\"\"\n",
        "    return h5.root.metadata.songs.cols.release[songidx]\n",
        "\n",
        "def get_release_7digitalid(h5,songidx=0):\n",
        "    \"\"\"\n",
        "    Get release 7digital id from a HDF5 song file, by default the first song in it\n",
        "    \"\"\"\n",
        "    return h5.root.metadata.songs.cols.release_7digitalid[songidx]\n",
        "\n",
        "def get_song_id(h5,songidx=0):\n",
        "    \"\"\"\n",
        "    Get song id from a HDF5 song file, by default the first song in it\n",
        "    \"\"\"\n",
        "    return h5.root.metadata.songs.cols.song_id[songidx]\n",
        "\n",
        "def get_song_hotttnesss(h5,songidx=0):\n",
        "    \"\"\"\n",
        "    Get song hotttnesss from a HDF5 song file, by default the first song in it\n",
        "    \"\"\"\n",
        "    return h5.root.metadata.songs.cols.song_hotttnesss[songidx]\n",
        "\n",
        "def get_title(h5,songidx=0):\n",
        "    \"\"\"\n",
        "    Get title from a HDF5 song file, by default the first song in it\n",
        "    \"\"\"\n",
        "    return h5.root.metadata.songs.cols.title[songidx]\n",
        "\n",
        "def get_track_7digitalid(h5,songidx=0):\n",
        "    \"\"\"\n",
        "    Get track 7digital id from a HDF5 song file, by default the first song in it\n",
        "    \"\"\"\n",
        "    return h5.root.metadata.songs.cols.track_7digitalid[songidx]\n",
        "\n",
        "def get_similar_artists(h5,songidx=0):\n",
        "    \"\"\"\n",
        "    Get similar artists array. Takes care of the proper indexing if we are in aggregate\n",
        "    file. By default, return the array for the first song in the h5 file.\n",
        "    To get a regular numpy ndarray, cast the result to: numpy.array( )\n",
        "    \"\"\"\n",
        "    if h5.root.metadata.songs.nrows == songidx + 1:\n",
        "        return h5.root.metadata.similar_artists[h5.root.metadata.songs.cols.idx_similar_artists[songidx]:]\n",
        "    return h5.root.metadata.similar_artists[h5.root.metadata.songs.cols.idx_similar_artists[songidx]:\n",
        "                                            h5.root.metadata.songs.cols.idx_similar_artists[songidx+1]]\n",
        "\n",
        "def get_artist_terms(h5,songidx=0):\n",
        "    \"\"\"\n",
        "    Get artist terms array. Takes care of the proper indexing if we are in aggregate\n",
        "    file. By default, return the array for the first song in the h5 file.\n",
        "    To get a regular numpy ndarray, cast the result to: numpy.array( )\n",
        "    \"\"\"\n",
        "    if h5.root.metadata.songs.nrows == songidx + 1:\n",
        "        return h5.root.metadata.artist_terms[h5.root.metadata.songs.cols.idx_artist_terms[songidx]:]\n",
        "    return h5.root.metadata.artist_terms[h5.root.metadata.songs.cols.idx_artist_terms[songidx]:\n",
        "                                            h5.root.metadata.songs.cols.idx_artist_terms[songidx+1]]\n",
        "\n",
        "def get_artist_terms_freq(h5,songidx=0):\n",
        "    \"\"\"\n",
        "    Get artist terms array frequencies. Takes care of the proper indexing if we are in aggregate\n",
        "    file. By default, return the array for the first song in the h5 file.\n",
        "    To get a regular numpy ndarray, cast the result to: numpy.array( )\n",
        "    \"\"\"\n",
        "    if h5.root.metadata.songs.nrows == songidx + 1:\n",
        "        return h5.root.metadata.artist_terms_freq[h5.root.metadata.songs.cols.idx_artist_terms[songidx]:]\n",
        "    return h5.root.metadata.artist_terms_freq[h5.root.metadata.songs.cols.idx_artist_terms[songidx]:\n",
        "                                              h5.root.metadata.songs.cols.idx_artist_terms[songidx+1]]\n",
        "\n",
        "def get_artist_terms_weight(h5,songidx=0):\n",
        "    \"\"\"\n",
        "    Get artist terms array frequencies. Takes care of the proper indexing if we are in aggregate\n",
        "    file. By default, return the array for the first song in the h5 file.\n",
        "    To get a regular numpy ndarray, cast the result to: numpy.array( )\n",
        "    \"\"\"\n",
        "    if h5.root.metadata.songs.nrows == songidx + 1:\n",
        "        return h5.root.metadata.artist_terms_weight[h5.root.metadata.songs.cols.idx_artist_terms[songidx]:]\n",
        "    return h5.root.metadata.artist_terms_weight[h5.root.metadata.songs.cols.idx_artist_terms[songidx]:\n",
        "                                                h5.root.metadata.songs.cols.idx_artist_terms[songidx+1]]\n",
        "\n",
        "def get_analysis_sample_rate(h5,songidx=0):\n",
        "    \"\"\"\n",
        "    Get analysis sample rate from a HDF5 song file, by default the first song in it\n",
        "    \"\"\"\n",
        "    return h5.root.analysis.songs.cols.analysis_sample_rate[songidx]\n",
        "\n",
        "def get_audio_md5(h5,songidx=0):\n",
        "    \"\"\"\n",
        "    Get audio MD5 from a HDF5 song file, by default the first song in it\n",
        "    \"\"\"\n",
        "    return h5.root.analysis.songs.cols.audio_md5[songidx]\n",
        "\n",
        "def get_danceability(h5,songidx=0):\n",
        "    \"\"\"\n",
        "    Get danceability from a HDF5 song file, by default the first song in it\n",
        "    \"\"\"\n",
        "    return h5.root.analysis.songs.cols.danceability[songidx]\n",
        "\n",
        "def get_duration(h5,songidx=0):\n",
        "    \"\"\"\n",
        "    Get duration from a HDF5 song file, by default the first song in it\n",
        "    \"\"\"\n",
        "    return h5.root.analysis.songs.cols.duration[songidx]\n",
        "\n",
        "def get_end_of_fade_in(h5,songidx=0):\n",
        "    \"\"\"\n",
        "    Get end of fade in from a HDF5 song file, by default the first song in it\n",
        "    \"\"\"\n",
        "    return h5.root.analysis.songs.cols.end_of_fade_in[songidx]\n",
        "\n",
        "def get_energy(h5,songidx=0):\n",
        "    \"\"\"\n",
        "    Get energy from a HDF5 song file, by default the first song in it\n",
        "    \"\"\"\n",
        "    return h5.root.analysis.songs.cols.energy[songidx]\n",
        "\n",
        "def get_key(h5,songidx=0):\n",
        "    \"\"\"\n",
        "    Get key from a HDF5 song file, by default the first song in it\n",
        "    \"\"\"\n",
        "    return h5.root.analysis.songs.cols.key[songidx]\n",
        "\n",
        "def get_key_confidence(h5,songidx=0):\n",
        "    \"\"\"\n",
        "    Get key confidence from a HDF5 song file, by default the first song in it\n",
        "    \"\"\"\n",
        "    return h5.root.analysis.songs.cols.key_confidence[songidx]\n",
        "\n",
        "def get_loudness(h5,songidx=0):\n",
        "    \"\"\"\n",
        "    Get loudness from a HDF5 song file, by default the first song in it\n",
        "    \"\"\"\n",
        "    return h5.root.analysis.songs.cols.loudness[songidx]\n",
        "\n",
        "def get_mode(h5,songidx=0):\n",
        "    \"\"\"\n",
        "    Get mode from a HDF5 song file, by default the first song in it\n",
        "    \"\"\"\n",
        "    return h5.root.analysis.songs.cols.mode[songidx]\n",
        "\n",
        "def get_mode_confidence(h5,songidx=0):\n",
        "    \"\"\"\n",
        "    Get mode confidence from a HDF5 song file, by default the first song in it\n",
        "    \"\"\"\n",
        "    return h5.root.analysis.songs.cols.mode_confidence[songidx]\n",
        "\n",
        "def get_start_of_fade_out(h5,songidx=0):\n",
        "    \"\"\"\n",
        "    Get start of fade out from a HDF5 song file, by default the first song in it\n",
        "    \"\"\"\n",
        "    return h5.root.analysis.songs.cols.start_of_fade_out[songidx]\n",
        "\n",
        "def get_tempo(h5,songidx=0):\n",
        "    \"\"\"\n",
        "    Get tempo from a HDF5 song file, by default the first song in it\n",
        "    \"\"\"\n",
        "    return h5.root.analysis.songs.cols.tempo[songidx]\n",
        "\n",
        "def get_time_signature(h5,songidx=0):\n",
        "    \"\"\"\n",
        "    Get signature from a HDF5 song file, by default the first song in it\n",
        "    \"\"\"\n",
        "    return h5.root.analysis.songs.cols.time_signature[songidx]\n",
        "\n",
        "def get_time_signature_confidence(h5,songidx=0):\n",
        "    \"\"\"\n",
        "    Get signature confidence from a HDF5 song file, by default the first song in it\n",
        "    \"\"\"\n",
        "    return h5.root.analysis.songs.cols.time_signature_confidence[songidx]\n",
        "\n",
        "def get_track_id(h5,songidx=0):\n",
        "    \"\"\"\n",
        "    Get track id from a HDF5 song file, by default the first song in it\n",
        "    \"\"\"\n",
        "    return h5.root.analysis.songs.cols.track_id[songidx]\n",
        "\n",
        "def get_segments_start(h5,songidx=0):\n",
        "    \"\"\"\n",
        "    Get segments start array. Takes care of the proper indexing if we are in aggregate\n",
        "    file. By default, return the array for the first song in the h5 file.\n",
        "    To get a regular numpy ndarray, cast the result to: numpy.array( )\n",
        "    \"\"\"\n",
        "    h5 = os.path.normpath(h5)\n",
        "    if h5.root.analysis.songs.nrows == songidx + 1:\n",
        "        return h5.root.analysis.segments_start[h5.root.analysis.songs.cols.idx_segments_start[songidx]:]\n",
        "    return h5.root.analysis.segments_start[h5.root.analysis.songs.cols.idx_segments_start[songidx]:\n",
        "                                           h5.root.analysis.songs.cols.idx_segments_start[songidx+1]]\n",
        "    \n",
        "def get_segments_confidence(h5,songidx=0):\n",
        "    \"\"\"\n",
        "    Get segments confidence array. Takes care of the proper indexing if we are in aggregate\n",
        "    file. By default, return the array for the first song in the h5 file.\n",
        "    To get a regular numpy ndarray, cast the result to: numpy.array( )\n",
        "    \"\"\"\n",
        "    if h5.root.analysis.songs.nrows == songidx + 1:\n",
        "        return h5.root.analysis.segments_confidence[h5.root.analysis.songs.cols.idx_segments_confidence[songidx]:]\n",
        "    return h5.root.analysis.segments_confidence[h5.root.analysis.songs.cols.idx_segments_confidence[songidx]:\n",
        "                                                h5.root.analysis.songs.cols.idx_segments_confidence[songidx+1]]\n",
        "\n",
        "def get_segments_pitches(h5,songidx=0):\n",
        "    \"\"\"\n",
        "    Get segments pitches array. Takes care of the proper indexing if we are in aggregate\n",
        "    file. By default, return the array for the first song in the h5 file.\n",
        "    To get a regular numpy ndarray, cast the result to: numpy.array( )\n",
        "    \"\"\"\n",
        "    if h5.root.analysis.songs.nrows == songidx + 1:\n",
        "        return h5.root.analysis.segments_pitches[h5.root.analysis.songs.cols.idx_segments_pitches[songidx]:,:]\n",
        "    return h5.root.analysis.segments_pitches[h5.root.analysis.songs.cols.idx_segments_pitches[songidx]:\n",
        "                                             h5.root.analysis.songs.cols.idx_segments_pitches[songidx+1],:]\n",
        "\n",
        "def get_segments_timbre(h5,songidx=0):\n",
        "    \"\"\"\n",
        "    Get segments timbre array. Takes care of the proper indexing if we are in aggregate\n",
        "    file. By default, return the array for the first song in the h5 file.\n",
        "    To get a regular numpy ndarray, cast the result to: numpy.array( )\n",
        "    \"\"\"\n",
        "    if h5.root.analysis.songs.nrows == songidx + 1:\n",
        "        return h5.root.analysis.segments_timbre[h5.root.analysis.songs.cols.idx_segments_timbre[songidx]:,:]\n",
        "    return h5.root.analysis.segments_timbre[h5.root.analysis.songs.cols.idx_segments_timbre[songidx]:\n",
        "                                            h5.root.analysis.songs.cols.idx_segments_timbre[songidx+1],:]\n",
        "\n",
        "def get_segments_loudness_max(h5,songidx=0):\n",
        "    \"\"\"\n",
        "    Get segments loudness max array. Takes care of the proper indexing if we are in aggregate\n",
        "    file. By default, return the array for the first song in the h5 file.\n",
        "    To get a regular numpy ndarray, cast the result to: numpy.array( )\n",
        "    \"\"\"\n",
        "    if h5.root.analysis.songs.nrows == songidx + 1:\n",
        "        return h5.root.analysis.segments_loudness_max[h5.root.analysis.songs.cols.idx_segments_loudness_max[songidx]:]\n",
        "    return h5.root.analysis.segments_loudness_max[h5.root.analysis.songs.cols.idx_segments_loudness_max[songidx]:\n",
        "                                                  h5.root.analysis.songs.cols.idx_segments_loudness_max[songidx+1]]\n",
        "\n",
        "def get_segments_loudness_max_time(h5,songidx=0):\n",
        "    \"\"\"\n",
        "    Get segments loudness max time array. Takes care of the proper indexing if we are in aggregate\n",
        "    file. By default, return the array for the first song in the h5 file.\n",
        "    To get a regular numpy ndarray, cast the result to: numpy.array( )\n",
        "    \"\"\"\n",
        "    if h5.root.analysis.songs.nrows == songidx + 1:\n",
        "        return h5.root.analysis.segments_loudness_max_time[h5.root.analysis.songs.cols.idx_segments_loudness_max_time[songidx]:]\n",
        "    return h5.root.analysis.segments_loudness_max_time[h5.root.analysis.songs.cols.idx_segments_loudness_max_time[songidx]:\n",
        "                                                       h5.root.analysis.songs.cols.idx_segments_loudness_max_time[songidx+1]]\n",
        "\n",
        "def get_segments_loudness_start(h5,songidx=0):\n",
        "    \"\"\"\n",
        "    Get segments loudness start array. Takes care of the proper indexing if we are in aggregate\n",
        "    file. By default, return the array for the first song in the h5 file.\n",
        "    To get a regular numpy ndarray, cast the result to: numpy.array( )\n",
        "    \"\"\"\n",
        "    if h5.root.analysis.songs.nrows == songidx + 1:\n",
        "        return h5.root.analysis.segments_loudness_start[h5.root.analysis.songs.cols.idx_segments_loudness_start[songidx]:]\n",
        "    return h5.root.analysis.segments_loudness_start[h5.root.analysis.songs.cols.idx_segments_loudness_start[songidx]:\n",
        "                                                    h5.root.analysis.songs.cols.idx_segments_loudness_start[songidx+1]]\n",
        "\n",
        "def get_sections_start(h5,songidx=0):\n",
        "    \"\"\"\n",
        "    Get sections start array. Takes care of the proper indexing if we are in aggregate\n",
        "    file. By default, return the array for the first song in the h5 file.\n",
        "    To get a regular numpy ndarray, cast the result to: numpy.array( )\n",
        "    \"\"\"\n",
        "    if h5.root.analysis.songs.nrows == songidx + 1:\n",
        "        return h5.root.analysis.sections_start[h5.root.analysis.songs.cols.idx_sections_start[songidx]:]\n",
        "    return h5.root.analysis.sections_start[h5.root.analysis.songs.cols.idx_sections_start[songidx]:\n",
        "                                           h5.root.analysis.songs.cols.idx_sections_start[songidx+1]]\n",
        "\n",
        "def get_sections_confidence(h5,songidx=0):\n",
        "    \"\"\"\n",
        "    Get sections confidence array. Takes care of the proper indexing if we are in aggregate\n",
        "    file. By default, return the array for the first song in the h5 file.\n",
        "    To get a regular numpy ndarray, cast the result to: numpy.array( )\n",
        "    \"\"\"\n",
        "    if h5.root.analysis.songs.nrows == songidx + 1:\n",
        "        return h5.root.analysis.sections_confidence[h5.root.analysis.songs.cols.idx_sections_confidence[songidx]:]\n",
        "    return h5.root.analysis.sections_confidence[h5.root.analysis.songs.cols.idx_sections_confidence[songidx]:\n",
        "                                                h5.root.analysis.songs.cols.idx_sections_confidence[songidx+1]]\n",
        "\n",
        "def get_beats_start(h5,songidx=0):\n",
        "    \"\"\"\n",
        "    Get beats start array. Takes care of the proper indexing if we are in aggregate\n",
        "    file. By default, return the array for the first song in the h5 file.\n",
        "    To get a regular numpy ndarray, cast the result to: numpy.array( )\n",
        "    \"\"\"\n",
        "    if h5.root.analysis.songs.nrows == songidx + 1:\n",
        "        return h5.root.analysis.beats_start[h5.root.analysis.songs.cols.idx_beats_start[songidx]:]\n",
        "    return h5.root.analysis.beats_start[h5.root.analysis.songs.cols.idx_beats_start[songidx]:\n",
        "                                        h5.root.analysis.songs.cols.idx_beats_start[songidx+1]]\n",
        "\n",
        "def get_beats_confidence(h5,songidx=0):\n",
        "    \"\"\"\n",
        "    Get beats confidence array. Takes care of the proper indexing if we are in aggregate\n",
        "    file. By default, return the array for the first song in the h5 file.\n",
        "    To get a regular numpy ndarray, cast the result to: numpy.array( )\n",
        "    \"\"\"\n",
        "    if h5.root.analysis.songs.nrows == songidx + 1:\n",
        "        return h5.root.analysis.beats_confidence[h5.root.analysis.songs.cols.idx_beats_confidence[songidx]:]\n",
        "    return h5.root.analysis.beats_confidence[h5.root.analysis.songs.cols.idx_beats_confidence[songidx]:\n",
        "                                             h5.root.analysis.songs.cols.idx_beats_confidence[songidx+1]]\n",
        "\n",
        "def get_bars_start(h5,songidx=0):\n",
        "    \"\"\"\n",
        "    Get bars start array. Takes care of the proper indexing if we are in aggregate\n",
        "    file. By default, return the array for the first song in the h5 file.\n",
        "    To get a regular numpy ndarray, cast the result to: numpy.array( )\n",
        "    \"\"\"\n",
        "    if h5.root.analysis.songs.nrows == songidx + 1:\n",
        "        return h5.root.analysis.bars_start[h5.root.analysis.songs.cols.idx_bars_start[songidx]:]\n",
        "    return h5.root.analysis.bars_start[h5.root.analysis.songs.cols.idx_bars_start[songidx]:\n",
        "                                       h5.root.analysis.songs.cols.idx_bars_start[songidx+1]]\n",
        "\n",
        "def get_bars_confidence(h5,songidx=0):\n",
        "    \"\"\"\n",
        "    Get bars start array. Takes care of the proper indexing if we are in aggregate\n",
        "    file. By default, return the array for the first song in the h5 file.\n",
        "    To get a regular numpy ndarray, cast the result to: numpy.array( )\n",
        "    \"\"\"\n",
        "    if h5.root.analysis.songs.nrows == songidx + 1:\n",
        "        return h5.root.analysis.bars_confidence[h5.root.analysis.songs.cols.idx_bars_confidence[songidx]:]\n",
        "    return h5.root.analysis.bars_confidence[h5.root.analysis.songs.cols.idx_bars_confidence[songidx]:\n",
        "                                            h5.root.analysis.songs.cols.idx_bars_confidence[songidx+1]]\n",
        "\n",
        "def get_tatums_start(h5,songidx=0):\n",
        "    \"\"\"\n",
        "    Get tatums start array. Takes care of the proper indexing if we are in aggregate\n",
        "    file. By default, return the array for the first song in the h5 file.\n",
        "    To get a regular numpy ndarray, cast the result to: numpy.array( )\n",
        "    \"\"\"\n",
        "    if h5.root.analysis.songs.nrows == songidx + 1:\n",
        "        return h5.root.analysis.tatums_start[h5.root.analysis.songs.cols.idx_tatums_start[songidx]:]\n",
        "    return h5.root.analysis.tatums_start[h5.root.analysis.songs.cols.idx_tatums_start[songidx]:\n",
        "                                         h5.root.analysis.songs.cols.idx_tatums_start[songidx+1]]\n",
        "\n",
        "def get_tatums_confidence(h5,songidx=0):\n",
        "    \"\"\"\n",
        "    Get tatums confidence array. Takes care of the proper indexing if we are in aggregate\n",
        "    file. By default, return the array for the first song in the h5 file.\n",
        "    To get a regular numpy ndarray, cast the result to: numpy.array( )\n",
        "    \"\"\"\n",
        "    if h5.root.analysis.songs.nrows == songidx + 1:\n",
        "        return h5.root.analysis.tatums_confidence[h5.root.analysis.songs.cols.idx_tatums_confidence[songidx]:]\n",
        "    return h5.root.analysis.tatums_confidence[h5.root.analysis.songs.cols.idx_tatums_confidence[songidx]:\n",
        "                                              h5.root.analysis.songs.cols.idx_tatums_confidence[songidx+1]]\n",
        "\n",
        "def get_artist_mbtags(h5,songidx=0):\n",
        "    \"\"\"\n",
        "    Get artist musicbrainz tag array. Takes care of the proper indexing if we are in aggregate\n",
        "    file. By default, return the array for the first song in the h5 file.\n",
        "    To get a regular numpy ndarray, cast the result to: numpy.array( )\n",
        "    \"\"\"\n",
        "    if h5.root.musicbrainz.songs.nrows == songidx + 1:\n",
        "        return h5.root.musicbrainz.artist_mbtags[h5.root.musicbrainz.songs.cols.idx_artist_mbtags[songidx]:]\n",
        "    return h5.root.musicbrainz.artist_mbtags[h5.root.metadata.songs.cols.idx_artist_mbtags[songidx]:\n",
        "                                             h5.root.metadata.songs.cols.idx_artist_mbtags[songidx+1]]\n",
        "\n",
        "def get_artist_mbtags_count(h5,songidx=0):\n",
        "    \"\"\"\n",
        "    Get artist musicbrainz tag count array. Takes care of the proper indexing if we are in aggregate\n",
        "    file. By default, return the array for the first song in the h5 file.\n",
        "    To get a regular numpy ndarray, cast the result to: numpy.array( )\n",
        "    \"\"\"\n",
        "    if h5.root.musicbrainz.songs.nrows == songidx + 1:\n",
        "        return h5.root.musicbrainz.artist_mbtags_count[h5.root.musicbrainz.songs.cols.idx_artist_mbtags[songidx]:]\n",
        "    return h5.root.musicbrainz.artist_mbtags_count[h5.root.metadata.songs.cols.idx_artist_mbtags[songidx]:\n",
        "                                                   h5.root.metadata.songs.cols.idx_artist_mbtags[songidx+1]]\n",
        "\n",
        "def get_year(h5,songidx=0):\n",
        "    \"\"\"\n",
        "    Get release year from a HDF5 song file, by default the first song in it\n",
        "    \"\"\"\n",
        "    return h5.root.musicbrainz.songs.cols.year[songidx]\n",
        " \n"
      ],
      "execution_count": 0,
      "outputs": []
    },
    {
      "metadata": {
        "id": "IaIO23kbAZfq",
        "colab_type": "code",
        "colab": {}
      },
      "cell_type": "code",
      "source": [
        "def apply_to_all_files(basedir,func=lambda x: x,ext='.h5'):\n",
        "    \"\"\"\n",
        "    From a base directory, go through all subdirectories,\n",
        "    find all files with the given extension, apply the\n",
        "    given function 'func' to all of them.\n",
        "    If no 'func' is passed, we do nothing except counting.\n",
        "    INPUT\n",
        "       basedir  - base directory of the dataset\n",
        "       func     - function to apply to all filenames\n",
        "       ext      - extension, .h5 by default\n",
        "    RETURN\n",
        "       number of files\n",
        "    \"\"\"\n",
        "    cnt = 0\n",
        "    # iterate over all files in all subdirectories\n",
        "    for root, dirs, files in os.walk(basedir):\n",
        "        files = glob.glob(os.path.join(root,'*'+ext))\n",
        "        # count files\n",
        "        cnt += len(files)\n",
        "        # apply function to all files\n",
        "        for f in files :\n",
        "            func(f)       \n",
        "    return cnt"
      ],
      "execution_count": 0,
      "outputs": []
    },
    {
      "metadata": {
        "id": "5Lvd7ikEAedb",
        "colab_type": "code",
        "colab": {}
      },
      "cell_type": "code",
      "source": [
        "def strtimedelta(starttime,stoptime):\n",
        "    return str(datetime.timedelta(seconds=stoptime-starttime))"
      ],
      "execution_count": 0,
      "outputs": []
    },
    {
      "metadata": {
        "id": "SbGjkDFmAhXa",
        "colab_type": "code",
        "colab": {}
      },
      "cell_type": "code",
      "source": [
        "#all_analysis_sample_rate = []\n",
        "#all_tempo = []\n",
        "#all_time_signature = []\n",
        "all_segments_pitches= []\n",
        "all_segments_timbre= []\n",
        "all_segments_loudness_max= []\n",
        "all_song_id = []\n",
        "\n",
        "def extractAudio(filename): \n",
        "  \n",
        "  h5 = open_h5_file_read(filename)\n",
        "  tmp = get_song_id(h5)\n",
        "  all_song_id.append(tmp)\n",
        "  #tmp = get_analysis_sample_rate(h5)\n",
        "  #all_analysis_sample_rate.append(tmp)\n",
        "  #tmp = get_time_signature(h5)\n",
        "  #all_time_signature.append(tmp)\n",
        "  #tmp = get_tempo(h5)\n",
        "  #all_tempo.append(tmp)\n",
        "  tmp = get_segments_pitches(h5)\n",
        "  all_segments_pitches.append(tmp)\n",
        "  tmp = get_segments_timbre(h5) \n",
        "  all_segments_timbre.append(tmp)\n",
        "  tmp = get_segments_loudness_max(h5)\n",
        "  all_segments_loudness_max.append(tmp)\n",
        "  h5.close()    "
      ],
      "execution_count": 0,
      "outputs": []
    },
    {
      "metadata": {
        "id": "pKbVFZVoArhi",
        "colab_type": "code",
        "colab": {}
      },
      "cell_type": "code",
      "source": [
        "t1 = time.time()\n",
        "apply_to_all_files(msd_subset_data_path,func=extractAudio)\n",
        "t2 = time.time()"
      ],
      "execution_count": 0,
      "outputs": []
    },
    {
      "metadata": {
        "id": "JTuPnhCTAumE",
        "colab_type": "code",
        "colab": {}
      },
      "cell_type": "code",
      "source": [
        "Audio = [\n",
        "    all_segments_pitches,\n",
        "    all_segments_timbre, #pure mfcc\n",
        "    all_segments_loudness_max\n",
        "]\n",
        "AudioLabels = [\n",
        "    'segments_pitches',\n",
        "    'segments_timbre', #pure mfcc\n",
        "    'segments_loudness_max'\n",
        "]"
      ],
      "execution_count": 0,
      "outputs": []
    },
    {
      "metadata": {
        "id": "j0o1P4CmAw1W",
        "colab_type": "code",
        "colab": {}
      },
      "cell_type": "code",
      "source": [
        "dataAudio = pd.DataFrame(Audio,index = AudioLabels, columns = all_song_id)\n",
        "audioData = dataAudio.transpose()"
      ],
      "execution_count": 0,
      "outputs": []
    },
    {
      "metadata": {
        "id": "HLO3F6J0Azjm",
        "colab_type": "code",
        "colab": {}
      },
      "cell_type": "code",
      "source": [
        "test_data = audioData.loc[test_index]"
      ],
      "execution_count": 0,
      "outputs": []
    },
    {
      "metadata": {
        "id": "pkGhkMXyA5uX",
        "colab_type": "code",
        "colab": {}
      },
      "cell_type": "code",
      "source": [
        "audioData.drop(['segments_pitches', 'segments_timbre', 'segments_loudness_max'], axis = 1, inplace = True)"
      ],
      "execution_count": 0,
      "outputs": []
    },
    {
      "metadata": {
        "id": "UAf-TxflA8qB",
        "colab_type": "code",
        "colab": {}
      },
      "cell_type": "code",
      "source": [
        "def resize_features_mfcc_pitch(features):\n",
        "  return resize(features, (height, width))"
      ],
      "execution_count": 0,
      "outputs": []
    },
    {
      "metadata": {
        "id": "YdsgB5p_A_6n",
        "colab_type": "code",
        "colab": {}
      },
      "cell_type": "code",
      "source": [
        "def resize_loudness(features):\n",
        "  return np.resize(features, (height,))"
      ],
      "execution_count": 0,
      "outputs": []
    },
    {
      "metadata": {
        "id": "XNBukKISBCKP",
        "colab_type": "code",
        "colab": {
          "base_uri": "https://localhost:8080/",
          "height": 173
        },
        "outputId": "cb78cece-f0e5-472f-9c07-112e358c5f85"
      },
      "cell_type": "code",
      "source": [
        "test_data['mfcc_input'] = test_data['segments_timbre'].apply(resize_features_mfcc_pitch)"
      ],
      "execution_count": 20,
      "outputs": [
        {
          "output_type": "stream",
          "text": [
            "/usr/local/lib/python3.6/dist-packages/skimage/transform/_warps.py:84: UserWarning: The default mode, 'constant', will be changed to 'reflect' in skimage 0.15.\n",
            "  warn(\"The default mode, 'constant', will be changed to 'reflect' in \"\n",
            "/usr/local/lib/python3.6/dist-packages/ipykernel_launcher.py:1: SettingWithCopyWarning: \n",
            "A value is trying to be set on a copy of a slice from a DataFrame.\n",
            "Try using .loc[row_indexer,col_indexer] = value instead\n",
            "\n",
            "See the caveats in the documentation: http://pandas.pydata.org/pandas-docs/stable/indexing.html#indexing-view-versus-copy\n",
            "  \"\"\"Entry point for launching an IPython kernel.\n"
          ],
          "name": "stderr"
        }
      ]
    },
    {
      "metadata": {
        "id": "IFHKNQN-BHyc",
        "colab_type": "code",
        "colab": {
          "base_uri": "https://localhost:8080/",
          "height": 173
        },
        "outputId": "10012628-669d-4e5d-994a-23316d346133"
      },
      "cell_type": "code",
      "source": [
        "test_data['pitches_input'] = test_data['segments_pitches'].apply(resize_features_mfcc_pitch)"
      ],
      "execution_count": 21,
      "outputs": [
        {
          "output_type": "stream",
          "text": [
            "/usr/local/lib/python3.6/dist-packages/skimage/transform/_warps.py:84: UserWarning: The default mode, 'constant', will be changed to 'reflect' in skimage 0.15.\n",
            "  warn(\"The default mode, 'constant', will be changed to 'reflect' in \"\n",
            "/usr/local/lib/python3.6/dist-packages/ipykernel_launcher.py:1: SettingWithCopyWarning: \n",
            "A value is trying to be set on a copy of a slice from a DataFrame.\n",
            "Try using .loc[row_indexer,col_indexer] = value instead\n",
            "\n",
            "See the caveats in the documentation: http://pandas.pydata.org/pandas-docs/stable/indexing.html#indexing-view-versus-copy\n",
            "  \"\"\"Entry point for launching an IPython kernel.\n"
          ],
          "name": "stderr"
        }
      ]
    },
    {
      "metadata": {
        "id": "G8tu5I_0BNQa",
        "colab_type": "code",
        "colab": {
          "base_uri": "https://localhost:8080/",
          "height": 119
        },
        "outputId": "11008a11-f3eb-4066-ee24-eb82d86818ca"
      },
      "cell_type": "code",
      "source": [
        "test_data['loudness_input'] = test_data['segments_loudness_max'].apply(resize_loudness)"
      ],
      "execution_count": 22,
      "outputs": [
        {
          "output_type": "stream",
          "text": [
            "/usr/local/lib/python3.6/dist-packages/ipykernel_launcher.py:1: SettingWithCopyWarning: \n",
            "A value is trying to be set on a copy of a slice from a DataFrame.\n",
            "Try using .loc[row_indexer,col_indexer] = value instead\n",
            "\n",
            "See the caveats in the documentation: http://pandas.pydata.org/pandas-docs/stable/indexing.html#indexing-view-versus-copy\n",
            "  \"\"\"Entry point for launching an IPython kernel.\n"
          ],
          "name": "stderr"
        }
      ]
    },
    {
      "metadata": {
        "id": "FcBhdvZeBW_v",
        "colab_type": "code",
        "colab": {
          "base_uri": "https://localhost:8080/",
          "height": 102
        },
        "outputId": "047e7c83-24f4-4734-956e-ce68fd53a9d8"
      },
      "cell_type": "code",
      "source": [
        "test_data.drop(['segments_pitches', 'segments_timbre', 'segments_loudness_max'], axis = 1, inplace = True)"
      ],
      "execution_count": 23,
      "outputs": [
        {
          "output_type": "stream",
          "text": [
            "/usr/local/lib/python3.6/dist-packages/ipykernel_launcher.py:1: SettingWithCopyWarning: \n",
            "A value is trying to be set on a copy of a slice from a DataFrame\n",
            "\n",
            "See the caveats in the documentation: http://pandas.pydata.org/pandas-docs/stable/indexing.html#indexing-view-versus-copy\n",
            "  \"\"\"Entry point for launching an IPython kernel.\n"
          ],
          "name": "stderr"
        }
      ]
    },
    {
      "metadata": {
        "id": "r7M4lUMVMjQo",
        "colab_type": "code",
        "colab": {
          "base_uri": "https://localhost:8080/",
          "height": 34
        },
        "outputId": "5c91c6f6-2713-4c96-b9be-8ac29c03e938"
      },
      "cell_type": "code",
      "source": [
        "len(test_data)"
      ],
      "execution_count": 33,
      "outputs": [
        {
          "output_type": "execute_result",
          "data": {
            "text/plain": [
              "2006"
            ]
          },
          "metadata": {
            "tags": []
          },
          "execution_count": 33
        }
      ]
    },
    {
      "metadata": {
        "id": "GTFt_CxFMmtx",
        "colab_type": "code",
        "colab": {
          "base_uri": "https://localhost:8080/",
          "height": 204
        },
        "outputId": "7ce97a81-eb3a-45a4-fe55-843be997a700"
      },
      "cell_type": "code",
      "source": [
        "test_data.head()"
      ],
      "execution_count": 34,
      "outputs": [
        {
          "output_type": "execute_result",
          "data": {
            "text/html": [
              "<div>\n",
              "<style scoped>\n",
              "    .dataframe tbody tr th:only-of-type {\n",
              "        vertical-align: middle;\n",
              "    }\n",
              "\n",
              "    .dataframe tbody tr th {\n",
              "        vertical-align: top;\n",
              "    }\n",
              "\n",
              "    .dataframe thead th {\n",
              "        text-align: right;\n",
              "    }\n",
              "</style>\n",
              "<table border=\"1\" class=\"dataframe\">\n",
              "  <thead>\n",
              "    <tr style=\"text-align: right;\">\n",
              "      <th></th>\n",
              "      <th>mfcc_input</th>\n",
              "      <th>pitches_input</th>\n",
              "      <th>loudness_input</th>\n",
              "    </tr>\n",
              "  </thead>\n",
              "  <tbody>\n",
              "    <tr>\n",
              "      <th>b'SOJXRWG12AC9E15691'</th>\n",
              "      <td>[[0.0, 87.84673333334636, 4.860753333342383, -...</td>\n",
              "      <td>[[0.10420666666668171, 0.03644666666668267, 0....</td>\n",
              "      <td>[-59.988, -51.012, -8.805, -12.675, -16.712, -...</td>\n",
              "    </tr>\n",
              "    <tr>\n",
              "      <th>b'SONBWQQ12A58A7BF65'</th>\n",
              "      <td>[[0.004330000000003069, 148.1284340001062, 8.0...</td>\n",
              "      <td>[[0.8660000000006137, 0.5516420000004439, 0.33...</td>\n",
              "      <td>[-59.928, -18.903, -18.85, -24.436, -15.602, -...</td>\n",
              "    </tr>\n",
              "    <tr>\n",
              "      <th>b'SOUMERL12AC9070EF9'</th>\n",
              "      <td>[[0.03958666669032298, 168.4679876667253, 8.23...</td>\n",
              "      <td>[[0.29294133333351297, 0.4978023333335741, 0.4...</td>\n",
              "      <td>[-59.677, -29.136, -33.0, -29.091, -30.797, -3...</td>\n",
              "    </tr>\n",
              "    <tr>\n",
              "      <th>b'SOKCJCW12A8C141987'</th>\n",
              "      <td>[[13.98213799998439, -27.868686999977637, 28.2...</td>\n",
              "      <td>[[0.4093169999999348, 0.373368999999893, 0.203...</td>\n",
              "      <td>[-37.571, -38.28, -33.081, -29.425, -34.343, -...</td>\n",
              "    </tr>\n",
              "    <tr>\n",
              "      <th>b'SOBBJRO12AB01892B8'</th>\n",
              "      <td>[[0.5706899999999305, 93.74733333332256, -3.45...</td>\n",
              "      <td>[[0.6092333333332591, 0.6216666666668347, 0.11...</td>\n",
              "      <td>[-53.697, -25.408, -25.406, -27.708, -24.679, ...</td>\n",
              "    </tr>\n",
              "  </tbody>\n",
              "</table>\n",
              "</div>"
            ],
            "text/plain": [
              "                                                              mfcc_input  \\\n",
              "b'SOJXRWG12AC9E15691'  [[0.0, 87.84673333334636, 4.860753333342383, -...   \n",
              "b'SONBWQQ12A58A7BF65'  [[0.004330000000003069, 148.1284340001062, 8.0...   \n",
              "b'SOUMERL12AC9070EF9'  [[0.03958666669032298, 168.4679876667253, 8.23...   \n",
              "b'SOKCJCW12A8C141987'  [[13.98213799998439, -27.868686999977637, 28.2...   \n",
              "b'SOBBJRO12AB01892B8'  [[0.5706899999999305, 93.74733333332256, -3.45...   \n",
              "\n",
              "                                                           pitches_input  \\\n",
              "b'SOJXRWG12AC9E15691'  [[0.10420666666668171, 0.03644666666668267, 0....   \n",
              "b'SONBWQQ12A58A7BF65'  [[0.8660000000006137, 0.5516420000004439, 0.33...   \n",
              "b'SOUMERL12AC9070EF9'  [[0.29294133333351297, 0.4978023333335741, 0.4...   \n",
              "b'SOKCJCW12A8C141987'  [[0.4093169999999348, 0.373368999999893, 0.203...   \n",
              "b'SOBBJRO12AB01892B8'  [[0.6092333333332591, 0.6216666666668347, 0.11...   \n",
              "\n",
              "                                                          loudness_input  \n",
              "b'SOJXRWG12AC9E15691'  [-59.988, -51.012, -8.805, -12.675, -16.712, -...  \n",
              "b'SONBWQQ12A58A7BF65'  [-59.928, -18.903, -18.85, -24.436, -15.602, -...  \n",
              "b'SOUMERL12AC9070EF9'  [-59.677, -29.136, -33.0, -29.091, -30.797, -3...  \n",
              "b'SOKCJCW12A8C141987'  [-37.571, -38.28, -33.081, -29.425, -34.343, -...  \n",
              "b'SOBBJRO12AB01892B8'  [-53.697, -25.408, -25.406, -27.708, -24.679, ...  "
            ]
          },
          "metadata": {
            "tags": []
          },
          "execution_count": 34
        }
      ]
    },
    {
      "metadata": {
        "id": "S_yli-chBbHM",
        "colab_type": "code",
        "colab": {}
      },
      "cell_type": "code",
      "source": [
        "mfcc_features = test_data['mfcc_input'].tolist()\n",
        "pitch_features = test_data['pitches_input'].tolist()\n",
        "loudness_features = test_data['loudness_input'].tolist()"
      ],
      "execution_count": 0,
      "outputs": []
    },
    {
      "metadata": {
        "id": "Mv6HjnerBi5g",
        "colab_type": "code",
        "colab": {}
      },
      "cell_type": "code",
      "source": [
        "mfccs = np.asarray(mfcc_features)\n",
        "pitches = np.asarray(pitch_features)\n",
        "loudness = np.asarray(loudness_features)"
      ],
      "execution_count": 0,
      "outputs": []
    },
    {
      "metadata": {
        "id": "jg8LEe41Bm2Z",
        "colab_type": "code",
        "colab": {}
      },
      "cell_type": "code",
      "source": [
        "mfccs.dump('test_mfccs.npy')"
      ],
      "execution_count": 0,
      "outputs": []
    },
    {
      "metadata": {
        "id": "w2awpWm5BtBG",
        "colab_type": "code",
        "colab": {}
      },
      "cell_type": "code",
      "source": [
        "pitches.dump('test_pitches.npy')"
      ],
      "execution_count": 0,
      "outputs": []
    },
    {
      "metadata": {
        "id": "vn3ICyjDBxVf",
        "colab_type": "code",
        "colab": {}
      },
      "cell_type": "code",
      "source": [
        "loudness_ = np.reshape(loudness, (loudness.shape[0], loudness.shape[1], 1))"
      ],
      "execution_count": 0,
      "outputs": []
    },
    {
      "metadata": {
        "id": "vZpuQxZYB2s-",
        "colab_type": "code",
        "colab": {}
      },
      "cell_type": "code",
      "source": [
        "loudness_.dump('test_loudness.npy')"
      ],
      "execution_count": 0,
      "outputs": []
    },
    {
      "metadata": {
        "id": "FTfSc__gB6FZ",
        "colab_type": "code",
        "colab": {}
      },
      "cell_type": "code",
      "source": [
        "files.download('test_mfccs.npy')"
      ],
      "execution_count": 0,
      "outputs": []
    },
    {
      "metadata": {
        "id": "CN7aHj4XB9uK",
        "colab_type": "code",
        "colab": {}
      },
      "cell_type": "code",
      "source": [
        "files.download('test_pitches.npy')"
      ],
      "execution_count": 0,
      "outputs": []
    },
    {
      "metadata": {
        "id": "PEgqFDseCB8a",
        "colab_type": "code",
        "colab": {}
      },
      "cell_type": "code",
      "source": [
        "files.download('test_loudness.npy')"
      ],
      "execution_count": 0,
      "outputs": []
    },
    {
      "metadata": {
        "id": "lVo3bnnpM8Kb",
        "colab_type": "code",
        "colab": {}
      },
      "cell_type": "code",
      "source": [
        ""
      ],
      "execution_count": 0,
      "outputs": []
    }
  ]
}