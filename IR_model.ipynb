{
  "nbformat": 4,
  "nbformat_minor": 0,
  "metadata": {
    "colab": {
      "name": "GetData.ipynb",
      "version": "0.3.2",
      "provenance": [],
      "collapsed_sections": []
    },
    "kernelspec": {
      "name": "python3",
      "display_name": "Python 3"
    },
    "accelerator": "TPU"
  },
  "cells": [
    {
      "metadata": {
        "id": "view-in-github",
        "colab_type": "text"
      },
      "cell_type": "markdown",
      "source": [
        "<a href=\"https://colab.research.google.com/github/aumkar22/Music-Recommendation-System/blob/master/GetData.ipynb\" target=\"_parent\"><img src=\"https://colab.research.google.com/assets/colab-badge.svg\" alt=\"Open In Colab\"/></a>"
      ]
    },
    {
      "metadata": {
        "id": "7xQ193X9jbqj",
        "colab_type": "text"
      },
      "cell_type": "markdown",
      "source": [
        "#Music-Recommender System"
      ]
    },
    {
      "metadata": {
        "id": "fu04RYkEjofw",
        "colab_type": "code",
        "outputId": "f4d2683a-1beb-43c1-e38c-ef52b34769f0",
        "colab": {
          "base_uri": "https://localhost:8080/",
          "height": 87
        }
      },
      "cell_type": "code",
      "source": [
        "!pip install tables"
      ],
      "execution_count": 1,
      "outputs": [
        {
          "output_type": "stream",
          "text": [
            "Requirement already satisfied: tables in /usr/local/lib/python3.6/dist-packages (3.4.4)\n",
            "Requirement already satisfied: numpy>=1.8.0 in /usr/local/lib/python3.6/dist-packages (from tables) (1.14.6)\n",
            "Requirement already satisfied: six>=1.9.0 in /usr/local/lib/python3.6/dist-packages (from tables) (1.11.0)\n",
            "Requirement already satisfied: numexpr>=2.5.2 in /usr/local/lib/python3.6/dist-packages (from tables) (2.6.8)\n"
          ],
          "name": "stdout"
        }
      ]
    },
    {
      "metadata": {
        "id": "hMloGVsLjh4j",
        "colab_type": "text"
      },
      "cell_type": "markdown",
      "source": [
        "##Hack to get the data "
      ]
    },
    {
      "metadata": {
        "id": "I7l1qgDfjhLI",
        "colab_type": "code",
        "colab": {}
      },
      "cell_type": "code",
      "source": [
        "import os\n",
        "import sys\n",
        "import time\n",
        "import glob\n",
        "import datetime\n",
        "import sqlite3\n",
        "import pandas as pd\n",
        "import numpy as np\n",
        "import tarfile\n",
        "import tables\n",
        "import numpy as np\n",
        "import pandas as pd\n",
        "from google.colab import drive\n",
        "from skimage.transform import resize"
      ],
      "execution_count": 0,
      "outputs": []
    },
    {
      "metadata": {
        "id": "U8wePVe5j7Si",
        "colab_type": "text"
      },
      "cell_type": "markdown",
      "source": [
        "**Local Storage**"
      ]
    },
    {
      "metadata": {
        "id": "XCZwZ-8Oj4gC",
        "colab_type": "code",
        "outputId": "e8fcbb79-33ef-4387-c5b7-13a75ac26ec4",
        "colab": {
          "base_uri": "https://localhost:8080/",
          "height": 35
        }
      },
      "cell_type": "code",
      "source": [
        "drive.mount('/content/drive')"
      ],
      "execution_count": 3,
      "outputs": [
        {
          "output_type": "stream",
          "text": [
            "Drive already mounted at /content/drive; to attempt to forcibly remount, call drive.mount(\"/content/drive\", force_remount=True).\n"
          ],
          "name": "stdout"
        }
      ]
    },
    {
      "metadata": {
        "id": "0H7Q_OM6kYsa",
        "colab_type": "code",
        "outputId": "2ea62cea-3048-4905-8e3e-9769283d1ee8",
        "colab": {
          "base_uri": "https://localhost:8080/",
          "height": 104
        }
      },
      "cell_type": "code",
      "source": [
        "msd_subset_path=r'/content/drive/My Drive/IR/Dataprocessing/MillionSongSubset'\n",
        "msd_subset_data_path=os.path.join(msd_subset_path,'data')\n",
        "msd_subset_addf_path=os.path.join(msd_subset_path,'AdditionalFiles')\n",
        "smallset = r'/content/drive/My Drive/IR/Dataprocessing/A'\n",
        "msd_code_path=r'/content/drive/My Drive/IR/Dataprocessing'\n",
        "sys.path.append( os.path.join(msd_code_path,'PythonSrc') )\n",
        "sys.path.append( os.path.join(msd_code_path,'PythonSrc') )\n",
        "\n",
        "#Is the given path really a path?\n",
        "print(os.path.isdir(msd_subset_path))\n",
        "print(os.path.exists(msd_subset_path))\n",
        "print(os.path.isdir(msd_code_path))\n",
        "print(os.path.exists(msd_code_path))\n",
        "print(os.path.isdir(smallset))"
      ],
      "execution_count": 4,
      "outputs": [
        {
          "output_type": "stream",
          "text": [
            "True\n",
            "True\n",
            "True\n",
            "True\n",
            "True\n"
          ],
          "name": "stdout"
        }
      ]
    },
    {
      "metadata": {
        "id": "_E9XM46vFLNj",
        "colab_type": "code",
        "colab": {}
      },
      "cell_type": "code",
      "source": [
        "height = 1500\n",
        "width = 12"
      ],
      "execution_count": 0,
      "outputs": []
    },
    {
      "metadata": {
        "id": "H491UsVtjyR6",
        "colab_type": "text"
      },
      "cell_type": "markdown",
      "source": [
        "###HDF5 Getters (imported) and necessary function"
      ]
    },
    {
      "metadata": {
        "id": "YWh0KsSojgPD",
        "colab_type": "code",
        "colab": {}
      },
      "cell_type": "code",
      "source": [
        "\"\"\"\n",
        "Thierry Bertin-Mahieux (2010) Columbia University\n",
        "tb2332@columbia.edu\n",
        "This code contains a set of getters functions to access the fields\n",
        "from an HDF5 song file (regular file with one song or\n",
        "aggregate / summary file with many songs)\n",
        "This is part of the Million Song Dataset project from\n",
        "LabROSA (Columbia University) and The Echo Nest.\n",
        "Copyright 2010, Thierry Bertin-Mahieux\n",
        "This program is free software: you can redistribute it and/or modify\n",
        "it under the terms of the GNU General Public License as published by\n",
        "the Free Software Foundation, either version 3 of the License, or\n",
        "(at your option) any later version.\n",
        "This program is distributed in the hope that it will be useful,\n",
        "but WITHOUT ANY WARRANTY; without even the implied warranty of\n",
        "MERCHANTABILITY or FITNESS FOR A PARTICULAR PURPOSE.  See the\n",
        "GNU General Public License for more details.\n",
        "You should have received a copy of the GNU General Public License\n",
        "along with this program.  If not, see <http://www.gnu.org/licenses/>.\n",
        "\"\"\"\n",
        "\n",
        "\n",
        "def open_h5_file_read(h5filename):\n",
        "    \"\"\"\n",
        "    Open an existing H5 in read mode.\n",
        "    Same function as in hdf5_utils, here so we avoid one import\n",
        "    \"\"\"\n",
        "    return tables.open_file(h5filename, mode='r')\n",
        "\n",
        "\n",
        "def get_num_songs(h5):\n",
        "    \"\"\"\n",
        "    Return the number of songs contained in this h5 file, i.e. the number of rows\n",
        "    for all basic informations like name, artist, ...\n",
        "    \"\"\"\n",
        "    return h5.root.metadata.songs.nrows\n",
        "\n",
        "def get_artist_familiarity(h5,songidx=0):\n",
        "    \"\"\"\n",
        "    Get artist familiarity from a HDF5 song file, by default the first song in it\n",
        "    \"\"\"\n",
        "    return h5.root.metadata.songs.cols.artist_familiarity[songidx]\n",
        "\n",
        "def get_artist_hotttnesss(h5,songidx=0):\n",
        "    \"\"\"\n",
        "    Get artist hotttnesss from a HDF5 song file, by default the first song in it\n",
        "    \"\"\"\n",
        "    return h5.root.metadata.songs.cols.artist_hotttnesss[songidx]\n",
        "\n",
        "def get_artist_id(h5,songidx=0):\n",
        "    \"\"\"\n",
        "    Get artist id from a HDF5 song file, by default the first song in it\n",
        "    \"\"\"\n",
        "    return h5.root.metadata.songs.cols.artist_id[songidx]\n",
        "\n",
        "def get_artist_mbid(h5,songidx=0):\n",
        "    \"\"\"\n",
        "    Get artist musibrainz id from a HDF5 song file, by default the first song in it\n",
        "    \"\"\"\n",
        "    return h5.root.metadata.songs.cols.artist_mbid[songidx]\n",
        "\n",
        "def get_artist_playmeid(h5,songidx=0):\n",
        "    \"\"\"\n",
        "    Get artist playme id from a HDF5 song file, by default the first song in it\n",
        "    \"\"\"\n",
        "    return h5.root.metadata.songs.cols.artist_playmeid[songidx]\n",
        "\n",
        "def get_artist_7digitalid(h5,songidx=0):\n",
        "    \"\"\"\n",
        "    Get artist 7digital id from a HDF5 song file, by default the first song in it\n",
        "    \"\"\"\n",
        "    return h5.root.metadata.songs.cols.artist_7digitalid[songidx]\n",
        "\n",
        "def get_artist_latitude(h5,songidx=0):\n",
        "    \"\"\"\n",
        "    Get artist latitude from a HDF5 song file, by default the first song in it\n",
        "    \"\"\"\n",
        "    return h5.root.metadata.songs.cols.artist_latitude[songidx]\n",
        "\n",
        "def get_artist_longitude(h5,songidx=0):\n",
        "    \"\"\"\n",
        "    Get artist longitude from a HDF5 song file, by default the first song in it\n",
        "    \"\"\"\n",
        "    return h5.root.metadata.songs.cols.artist_longitude[songidx]\n",
        "\n",
        "def get_artist_location(h5,songidx=0):\n",
        "    \"\"\"\n",
        "    Get artist location from a HDF5 song file, by default the first song in it\n",
        "    \"\"\"\n",
        "    return h5.root.metadata.songs.cols.artist_location[songidx]\n",
        "\n",
        "def get_artist_name(h5,songidx=0):\n",
        "    \"\"\"\n",
        "    Get artist name from a HDF5 song file, by default the first song in it\n",
        "    \"\"\"\n",
        "    return h5.root.metadata.songs.cols.artist_name[songidx]\n",
        "\n",
        "def get_release(h5,songidx=0):\n",
        "    \"\"\"\n",
        "    Get release from a HDF5 song file, by default the first song in it\n",
        "    \"\"\"\n",
        "    return h5.root.metadata.songs.cols.release[songidx]\n",
        "\n",
        "def get_release_7digitalid(h5,songidx=0):\n",
        "    \"\"\"\n",
        "    Get release 7digital id from a HDF5 song file, by default the first song in it\n",
        "    \"\"\"\n",
        "    return h5.root.metadata.songs.cols.release_7digitalid[songidx]\n",
        "\n",
        "def get_song_id(h5,songidx=0):\n",
        "    \"\"\"\n",
        "    Get song id from a HDF5 song file, by default the first song in it\n",
        "    \"\"\"\n",
        "    return h5.root.metadata.songs.cols.song_id[songidx]\n",
        "\n",
        "def get_song_hotttnesss(h5,songidx=0):\n",
        "    \"\"\"\n",
        "    Get song hotttnesss from a HDF5 song file, by default the first song in it\n",
        "    \"\"\"\n",
        "    return h5.root.metadata.songs.cols.song_hotttnesss[songidx]\n",
        "\n",
        "def get_title(h5,songidx=0):\n",
        "    \"\"\"\n",
        "    Get title from a HDF5 song file, by default the first song in it\n",
        "    \"\"\"\n",
        "    return h5.root.metadata.songs.cols.title[songidx]\n",
        "\n",
        "def get_track_7digitalid(h5,songidx=0):\n",
        "    \"\"\"\n",
        "    Get track 7digital id from a HDF5 song file, by default the first song in it\n",
        "    \"\"\"\n",
        "    return h5.root.metadata.songs.cols.track_7digitalid[songidx]\n",
        "\n",
        "def get_similar_artists(h5,songidx=0):\n",
        "    \"\"\"\n",
        "    Get similar artists array. Takes care of the proper indexing if we are in aggregate\n",
        "    file. By default, return the array for the first song in the h5 file.\n",
        "    To get a regular numpy ndarray, cast the result to: numpy.array( )\n",
        "    \"\"\"\n",
        "    if h5.root.metadata.songs.nrows == songidx + 1:\n",
        "        return h5.root.metadata.similar_artists[h5.root.metadata.songs.cols.idx_similar_artists[songidx]:]\n",
        "    return h5.root.metadata.similar_artists[h5.root.metadata.songs.cols.idx_similar_artists[songidx]:\n",
        "                                            h5.root.metadata.songs.cols.idx_similar_artists[songidx+1]]\n",
        "\n",
        "def get_artist_terms(h5,songidx=0):\n",
        "    \"\"\"\n",
        "    Get artist terms array. Takes care of the proper indexing if we are in aggregate\n",
        "    file. By default, return the array for the first song in the h5 file.\n",
        "    To get a regular numpy ndarray, cast the result to: numpy.array( )\n",
        "    \"\"\"\n",
        "    if h5.root.metadata.songs.nrows == songidx + 1:\n",
        "        return h5.root.metadata.artist_terms[h5.root.metadata.songs.cols.idx_artist_terms[songidx]:]\n",
        "    return h5.root.metadata.artist_terms[h5.root.metadata.songs.cols.idx_artist_terms[songidx]:\n",
        "                                            h5.root.metadata.songs.cols.idx_artist_terms[songidx+1]]\n",
        "\n",
        "def get_artist_terms_freq(h5,songidx=0):\n",
        "    \"\"\"\n",
        "    Get artist terms array frequencies. Takes care of the proper indexing if we are in aggregate\n",
        "    file. By default, return the array for the first song in the h5 file.\n",
        "    To get a regular numpy ndarray, cast the result to: numpy.array( )\n",
        "    \"\"\"\n",
        "    if h5.root.metadata.songs.nrows == songidx + 1:\n",
        "        return h5.root.metadata.artist_terms_freq[h5.root.metadata.songs.cols.idx_artist_terms[songidx]:]\n",
        "    return h5.root.metadata.artist_terms_freq[h5.root.metadata.songs.cols.idx_artist_terms[songidx]:\n",
        "                                              h5.root.metadata.songs.cols.idx_artist_terms[songidx+1]]\n",
        "\n",
        "def get_artist_terms_weight(h5,songidx=0):\n",
        "    \"\"\"\n",
        "    Get artist terms array frequencies. Takes care of the proper indexing if we are in aggregate\n",
        "    file. By default, return the array for the first song in the h5 file.\n",
        "    To get a regular numpy ndarray, cast the result to: numpy.array( )\n",
        "    \"\"\"\n",
        "    if h5.root.metadata.songs.nrows == songidx + 1:\n",
        "        return h5.root.metadata.artist_terms_weight[h5.root.metadata.songs.cols.idx_artist_terms[songidx]:]\n",
        "    return h5.root.metadata.artist_terms_weight[h5.root.metadata.songs.cols.idx_artist_terms[songidx]:\n",
        "                                                h5.root.metadata.songs.cols.idx_artist_terms[songidx+1]]\n",
        "\n",
        "def get_analysis_sample_rate(h5,songidx=0):\n",
        "    \"\"\"\n",
        "    Get analysis sample rate from a HDF5 song file, by default the first song in it\n",
        "    \"\"\"\n",
        "    return h5.root.analysis.songs.cols.analysis_sample_rate[songidx]\n",
        "\n",
        "def get_audio_md5(h5,songidx=0):\n",
        "    \"\"\"\n",
        "    Get audio MD5 from a HDF5 song file, by default the first song in it\n",
        "    \"\"\"\n",
        "    return h5.root.analysis.songs.cols.audio_md5[songidx]\n",
        "\n",
        "def get_danceability(h5,songidx=0):\n",
        "    \"\"\"\n",
        "    Get danceability from a HDF5 song file, by default the first song in it\n",
        "    \"\"\"\n",
        "    return h5.root.analysis.songs.cols.danceability[songidx]\n",
        "\n",
        "def get_duration(h5,songidx=0):\n",
        "    \"\"\"\n",
        "    Get duration from a HDF5 song file, by default the first song in it\n",
        "    \"\"\"\n",
        "    return h5.root.analysis.songs.cols.duration[songidx]\n",
        "\n",
        "def get_end_of_fade_in(h5,songidx=0):\n",
        "    \"\"\"\n",
        "    Get end of fade in from a HDF5 song file, by default the first song in it\n",
        "    \"\"\"\n",
        "    return h5.root.analysis.songs.cols.end_of_fade_in[songidx]\n",
        "\n",
        "def get_energy(h5,songidx=0):\n",
        "    \"\"\"\n",
        "    Get energy from a HDF5 song file, by default the first song in it\n",
        "    \"\"\"\n",
        "    return h5.root.analysis.songs.cols.energy[songidx]\n",
        "\n",
        "def get_key(h5,songidx=0):\n",
        "    \"\"\"\n",
        "    Get key from a HDF5 song file, by default the first song in it\n",
        "    \"\"\"\n",
        "    return h5.root.analysis.songs.cols.key[songidx]\n",
        "\n",
        "def get_key_confidence(h5,songidx=0):\n",
        "    \"\"\"\n",
        "    Get key confidence from a HDF5 song file, by default the first song in it\n",
        "    \"\"\"\n",
        "    return h5.root.analysis.songs.cols.key_confidence[songidx]\n",
        "\n",
        "def get_loudness(h5,songidx=0):\n",
        "    \"\"\"\n",
        "    Get loudness from a HDF5 song file, by default the first song in it\n",
        "    \"\"\"\n",
        "    return h5.root.analysis.songs.cols.loudness[songidx]\n",
        "\n",
        "def get_mode(h5,songidx=0):\n",
        "    \"\"\"\n",
        "    Get mode from a HDF5 song file, by default the first song in it\n",
        "    \"\"\"\n",
        "    return h5.root.analysis.songs.cols.mode[songidx]\n",
        "\n",
        "def get_mode_confidence(h5,songidx=0):\n",
        "    \"\"\"\n",
        "    Get mode confidence from a HDF5 song file, by default the first song in it\n",
        "    \"\"\"\n",
        "    return h5.root.analysis.songs.cols.mode_confidence[songidx]\n",
        "\n",
        "def get_start_of_fade_out(h5,songidx=0):\n",
        "    \"\"\"\n",
        "    Get start of fade out from a HDF5 song file, by default the first song in it\n",
        "    \"\"\"\n",
        "    return h5.root.analysis.songs.cols.start_of_fade_out[songidx]\n",
        "\n",
        "def get_tempo(h5,songidx=0):\n",
        "    \"\"\"\n",
        "    Get tempo from a HDF5 song file, by default the first song in it\n",
        "    \"\"\"\n",
        "    return h5.root.analysis.songs.cols.tempo[songidx]\n",
        "\n",
        "def get_time_signature(h5,songidx=0):\n",
        "    \"\"\"\n",
        "    Get signature from a HDF5 song file, by default the first song in it\n",
        "    \"\"\"\n",
        "    return h5.root.analysis.songs.cols.time_signature[songidx]\n",
        "\n",
        "def get_time_signature_confidence(h5,songidx=0):\n",
        "    \"\"\"\n",
        "    Get signature confidence from a HDF5 song file, by default the first song in it\n",
        "    \"\"\"\n",
        "    return h5.root.analysis.songs.cols.time_signature_confidence[songidx]\n",
        "\n",
        "def get_track_id(h5,songidx=0):\n",
        "    \"\"\"\n",
        "    Get track id from a HDF5 song file, by default the first song in it\n",
        "    \"\"\"\n",
        "    return h5.root.analysis.songs.cols.track_id[songidx]\n",
        "\n",
        "def get_segments_start(h5,songidx=0):\n",
        "    \"\"\"\n",
        "    Get segments start array. Takes care of the proper indexing if we are in aggregate\n",
        "    file. By default, return the array for the first song in the h5 file.\n",
        "    To get a regular numpy ndarray, cast the result to: numpy.array( )\n",
        "    \"\"\"\n",
        "    h5 = os.path.normpath(h5)\n",
        "    if h5.root.analysis.songs.nrows == songidx + 1:\n",
        "        return h5.root.analysis.segments_start[h5.root.analysis.songs.cols.idx_segments_start[songidx]:]\n",
        "    return h5.root.analysis.segments_start[h5.root.analysis.songs.cols.idx_segments_start[songidx]:\n",
        "                                           h5.root.analysis.songs.cols.idx_segments_start[songidx+1]]\n",
        "    \n",
        "def get_segments_confidence(h5,songidx=0):\n",
        "    \"\"\"\n",
        "    Get segments confidence array. Takes care of the proper indexing if we are in aggregate\n",
        "    file. By default, return the array for the first song in the h5 file.\n",
        "    To get a regular numpy ndarray, cast the result to: numpy.array( )\n",
        "    \"\"\"\n",
        "    if h5.root.analysis.songs.nrows == songidx + 1:\n",
        "        return h5.root.analysis.segments_confidence[h5.root.analysis.songs.cols.idx_segments_confidence[songidx]:]\n",
        "    return h5.root.analysis.segments_confidence[h5.root.analysis.songs.cols.idx_segments_confidence[songidx]:\n",
        "                                                h5.root.analysis.songs.cols.idx_segments_confidence[songidx+1]]\n",
        "\n",
        "def get_segments_pitches(h5,songidx=0):\n",
        "    \"\"\"\n",
        "    Get segments pitches array. Takes care of the proper indexing if we are in aggregate\n",
        "    file. By default, return the array for the first song in the h5 file.\n",
        "    To get a regular numpy ndarray, cast the result to: numpy.array( )\n",
        "    \"\"\"\n",
        "    if h5.root.analysis.songs.nrows == songidx + 1:\n",
        "        return h5.root.analysis.segments_pitches[h5.root.analysis.songs.cols.idx_segments_pitches[songidx]:,:]\n",
        "    return h5.root.analysis.segments_pitches[h5.root.analysis.songs.cols.idx_segments_pitches[songidx]:\n",
        "                                             h5.root.analysis.songs.cols.idx_segments_pitches[songidx+1],:]\n",
        "\n",
        "def get_segments_timbre(h5,songidx=0):\n",
        "    \"\"\"\n",
        "    Get segments timbre array. Takes care of the proper indexing if we are in aggregate\n",
        "    file. By default, return the array for the first song in the h5 file.\n",
        "    To get a regular numpy ndarray, cast the result to: numpy.array( )\n",
        "    \"\"\"\n",
        "    if h5.root.analysis.songs.nrows == songidx + 1:\n",
        "        return h5.root.analysis.segments_timbre[h5.root.analysis.songs.cols.idx_segments_timbre[songidx]:,:]\n",
        "    return h5.root.analysis.segments_timbre[h5.root.analysis.songs.cols.idx_segments_timbre[songidx]:\n",
        "                                            h5.root.analysis.songs.cols.idx_segments_timbre[songidx+1],:]\n",
        "\n",
        "def get_segments_loudness_max(h5,songidx=0):\n",
        "    \"\"\"\n",
        "    Get segments loudness max array. Takes care of the proper indexing if we are in aggregate\n",
        "    file. By default, return the array for the first song in the h5 file.\n",
        "    To get a regular numpy ndarray, cast the result to: numpy.array( )\n",
        "    \"\"\"\n",
        "    if h5.root.analysis.songs.nrows == songidx + 1:\n",
        "        return h5.root.analysis.segments_loudness_max[h5.root.analysis.songs.cols.idx_segments_loudness_max[songidx]:]\n",
        "    return h5.root.analysis.segments_loudness_max[h5.root.analysis.songs.cols.idx_segments_loudness_max[songidx]:\n",
        "                                                  h5.root.analysis.songs.cols.idx_segments_loudness_max[songidx+1]]\n",
        "\n",
        "def get_segments_loudness_max_time(h5,songidx=0):\n",
        "    \"\"\"\n",
        "    Get segments loudness max time array. Takes care of the proper indexing if we are in aggregate\n",
        "    file. By default, return the array for the first song in the h5 file.\n",
        "    To get a regular numpy ndarray, cast the result to: numpy.array( )\n",
        "    \"\"\"\n",
        "    if h5.root.analysis.songs.nrows == songidx + 1:\n",
        "        return h5.root.analysis.segments_loudness_max_time[h5.root.analysis.songs.cols.idx_segments_loudness_max_time[songidx]:]\n",
        "    return h5.root.analysis.segments_loudness_max_time[h5.root.analysis.songs.cols.idx_segments_loudness_max_time[songidx]:\n",
        "                                                       h5.root.analysis.songs.cols.idx_segments_loudness_max_time[songidx+1]]\n",
        "\n",
        "def get_segments_loudness_start(h5,songidx=0):\n",
        "    \"\"\"\n",
        "    Get segments loudness start array. Takes care of the proper indexing if we are in aggregate\n",
        "    file. By default, return the array for the first song in the h5 file.\n",
        "    To get a regular numpy ndarray, cast the result to: numpy.array( )\n",
        "    \"\"\"\n",
        "    if h5.root.analysis.songs.nrows == songidx + 1:\n",
        "        return h5.root.analysis.segments_loudness_start[h5.root.analysis.songs.cols.idx_segments_loudness_start[songidx]:]\n",
        "    return h5.root.analysis.segments_loudness_start[h5.root.analysis.songs.cols.idx_segments_loudness_start[songidx]:\n",
        "                                                    h5.root.analysis.songs.cols.idx_segments_loudness_start[songidx+1]]\n",
        "\n",
        "def get_sections_start(h5,songidx=0):\n",
        "    \"\"\"\n",
        "    Get sections start array. Takes care of the proper indexing if we are in aggregate\n",
        "    file. By default, return the array for the first song in the h5 file.\n",
        "    To get a regular numpy ndarray, cast the result to: numpy.array( )\n",
        "    \"\"\"\n",
        "    if h5.root.analysis.songs.nrows == songidx + 1:\n",
        "        return h5.root.analysis.sections_start[h5.root.analysis.songs.cols.idx_sections_start[songidx]:]\n",
        "    return h5.root.analysis.sections_start[h5.root.analysis.songs.cols.idx_sections_start[songidx]:\n",
        "                                           h5.root.analysis.songs.cols.idx_sections_start[songidx+1]]\n",
        "\n",
        "def get_sections_confidence(h5,songidx=0):\n",
        "    \"\"\"\n",
        "    Get sections confidence array. Takes care of the proper indexing if we are in aggregate\n",
        "    file. By default, return the array for the first song in the h5 file.\n",
        "    To get a regular numpy ndarray, cast the result to: numpy.array( )\n",
        "    \"\"\"\n",
        "    if h5.root.analysis.songs.nrows == songidx + 1:\n",
        "        return h5.root.analysis.sections_confidence[h5.root.analysis.songs.cols.idx_sections_confidence[songidx]:]\n",
        "    return h5.root.analysis.sections_confidence[h5.root.analysis.songs.cols.idx_sections_confidence[songidx]:\n",
        "                                                h5.root.analysis.songs.cols.idx_sections_confidence[songidx+1]]\n",
        "\n",
        "def get_beats_start(h5,songidx=0):\n",
        "    \"\"\"\n",
        "    Get beats start array. Takes care of the proper indexing if we are in aggregate\n",
        "    file. By default, return the array for the first song in the h5 file.\n",
        "    To get a regular numpy ndarray, cast the result to: numpy.array( )\n",
        "    \"\"\"\n",
        "    if h5.root.analysis.songs.nrows == songidx + 1:\n",
        "        return h5.root.analysis.beats_start[h5.root.analysis.songs.cols.idx_beats_start[songidx]:]\n",
        "    return h5.root.analysis.beats_start[h5.root.analysis.songs.cols.idx_beats_start[songidx]:\n",
        "                                        h5.root.analysis.songs.cols.idx_beats_start[songidx+1]]\n",
        "\n",
        "def get_beats_confidence(h5,songidx=0):\n",
        "    \"\"\"\n",
        "    Get beats confidence array. Takes care of the proper indexing if we are in aggregate\n",
        "    file. By default, return the array for the first song in the h5 file.\n",
        "    To get a regular numpy ndarray, cast the result to: numpy.array( )\n",
        "    \"\"\"\n",
        "    if h5.root.analysis.songs.nrows == songidx + 1:\n",
        "        return h5.root.analysis.beats_confidence[h5.root.analysis.songs.cols.idx_beats_confidence[songidx]:]\n",
        "    return h5.root.analysis.beats_confidence[h5.root.analysis.songs.cols.idx_beats_confidence[songidx]:\n",
        "                                             h5.root.analysis.songs.cols.idx_beats_confidence[songidx+1]]\n",
        "\n",
        "def get_bars_start(h5,songidx=0):\n",
        "    \"\"\"\n",
        "    Get bars start array. Takes care of the proper indexing if we are in aggregate\n",
        "    file. By default, return the array for the first song in the h5 file.\n",
        "    To get a regular numpy ndarray, cast the result to: numpy.array( )\n",
        "    \"\"\"\n",
        "    if h5.root.analysis.songs.nrows == songidx + 1:\n",
        "        return h5.root.analysis.bars_start[h5.root.analysis.songs.cols.idx_bars_start[songidx]:]\n",
        "    return h5.root.analysis.bars_start[h5.root.analysis.songs.cols.idx_bars_start[songidx]:\n",
        "                                       h5.root.analysis.songs.cols.idx_bars_start[songidx+1]]\n",
        "\n",
        "def get_bars_confidence(h5,songidx=0):\n",
        "    \"\"\"\n",
        "    Get bars start array. Takes care of the proper indexing if we are in aggregate\n",
        "    file. By default, return the array for the first song in the h5 file.\n",
        "    To get a regular numpy ndarray, cast the result to: numpy.array( )\n",
        "    \"\"\"\n",
        "    if h5.root.analysis.songs.nrows == songidx + 1:\n",
        "        return h5.root.analysis.bars_confidence[h5.root.analysis.songs.cols.idx_bars_confidence[songidx]:]\n",
        "    return h5.root.analysis.bars_confidence[h5.root.analysis.songs.cols.idx_bars_confidence[songidx]:\n",
        "                                            h5.root.analysis.songs.cols.idx_bars_confidence[songidx+1]]\n",
        "\n",
        "def get_tatums_start(h5,songidx=0):\n",
        "    \"\"\"\n",
        "    Get tatums start array. Takes care of the proper indexing if we are in aggregate\n",
        "    file. By default, return the array for the first song in the h5 file.\n",
        "    To get a regular numpy ndarray, cast the result to: numpy.array( )\n",
        "    \"\"\"\n",
        "    if h5.root.analysis.songs.nrows == songidx + 1:\n",
        "        return h5.root.analysis.tatums_start[h5.root.analysis.songs.cols.idx_tatums_start[songidx]:]\n",
        "    return h5.root.analysis.tatums_start[h5.root.analysis.songs.cols.idx_tatums_start[songidx]:\n",
        "                                         h5.root.analysis.songs.cols.idx_tatums_start[songidx+1]]\n",
        "\n",
        "def get_tatums_confidence(h5,songidx=0):\n",
        "    \"\"\"\n",
        "    Get tatums confidence array. Takes care of the proper indexing if we are in aggregate\n",
        "    file. By default, return the array for the first song in the h5 file.\n",
        "    To get a regular numpy ndarray, cast the result to: numpy.array( )\n",
        "    \"\"\"\n",
        "    if h5.root.analysis.songs.nrows == songidx + 1:\n",
        "        return h5.root.analysis.tatums_confidence[h5.root.analysis.songs.cols.idx_tatums_confidence[songidx]:]\n",
        "    return h5.root.analysis.tatums_confidence[h5.root.analysis.songs.cols.idx_tatums_confidence[songidx]:\n",
        "                                              h5.root.analysis.songs.cols.idx_tatums_confidence[songidx+1]]\n",
        "\n",
        "def get_artist_mbtags(h5,songidx=0):\n",
        "    \"\"\"\n",
        "    Get artist musicbrainz tag array. Takes care of the proper indexing if we are in aggregate\n",
        "    file. By default, return the array for the first song in the h5 file.\n",
        "    To get a regular numpy ndarray, cast the result to: numpy.array( )\n",
        "    \"\"\"\n",
        "    if h5.root.musicbrainz.songs.nrows == songidx + 1:\n",
        "        return h5.root.musicbrainz.artist_mbtags[h5.root.musicbrainz.songs.cols.idx_artist_mbtags[songidx]:]\n",
        "    return h5.root.musicbrainz.artist_mbtags[h5.root.metadata.songs.cols.idx_artist_mbtags[songidx]:\n",
        "                                             h5.root.metadata.songs.cols.idx_artist_mbtags[songidx+1]]\n",
        "\n",
        "def get_artist_mbtags_count(h5,songidx=0):\n",
        "    \"\"\"\n",
        "    Get artist musicbrainz tag count array. Takes care of the proper indexing if we are in aggregate\n",
        "    file. By default, return the array for the first song in the h5 file.\n",
        "    To get a regular numpy ndarray, cast the result to: numpy.array( )\n",
        "    \"\"\"\n",
        "    if h5.root.musicbrainz.songs.nrows == songidx + 1:\n",
        "        return h5.root.musicbrainz.artist_mbtags_count[h5.root.musicbrainz.songs.cols.idx_artist_mbtags[songidx]:]\n",
        "    return h5.root.musicbrainz.artist_mbtags_count[h5.root.metadata.songs.cols.idx_artist_mbtags[songidx]:\n",
        "                                                   h5.root.metadata.songs.cols.idx_artist_mbtags[songidx+1]]\n",
        "\n",
        "def get_year(h5,songidx=0):\n",
        "    \"\"\"\n",
        "    Get release year from a HDF5 song file, by default the first song in it\n",
        "    \"\"\"\n",
        "    return h5.root.musicbrainz.songs.cols.year[songidx]\n",
        " \n"
      ],
      "execution_count": 0,
      "outputs": []
    },
    {
      "metadata": {
        "id": "mT8lSCgUklPt",
        "colab_type": "code",
        "colab": {}
      },
      "cell_type": "code",
      "source": [
        "def apply_to_all_files(basedir,func=lambda x: x,ext='.h5'):\n",
        "    \"\"\"\n",
        "    From a base directory, go through all subdirectories,\n",
        "    find all files with the given extension, apply the\n",
        "    given function 'func' to all of them.\n",
        "    If no 'func' is passed, we do nothing except counting.\n",
        "    INPUT\n",
        "       basedir  - base directory of the dataset\n",
        "       func     - function to apply to all filenames\n",
        "       ext      - extension, .h5 by default\n",
        "    RETURN\n",
        "       number of files\n",
        "    \"\"\"\n",
        "    cnt = 0\n",
        "    # iterate over all files in all subdirectories\n",
        "    for root, dirs, files in os.walk(basedir):\n",
        "        files = glob.glob(os.path.join(root,'*'+ext))\n",
        "        # count files\n",
        "        cnt += len(files)\n",
        "        # apply function to all files\n",
        "        for f in files :\n",
        "            func(f)       \n",
        "    return cnt"
      ],
      "execution_count": 0,
      "outputs": []
    },
    {
      "metadata": {
        "id": "jSV7nIXGkopk",
        "colab_type": "code",
        "colab": {}
      },
      "cell_type": "code",
      "source": [
        "def strtimedelta(starttime,stoptime):\n",
        "    return str(datetime.timedelta(seconds=stoptime-starttime))"
      ],
      "execution_count": 0,
      "outputs": []
    },
    {
      "metadata": {
        "id": "nispdxVmkr6V",
        "colab_type": "text"
      },
      "cell_type": "markdown",
      "source": [
        "###Extract Audio"
      ]
    },
    {
      "metadata": {
        "id": "oJbjbUvIkt-P",
        "colab_type": "code",
        "colab": {}
      },
      "cell_type": "code",
      "source": [
        "all_analysis_sample_rate = []\n",
        "all_tempo = []\n",
        "all_time_signature = []\n",
        "all_segments_pitches= []\n",
        "all_segments_timbre= []\n",
        "all_segments_loudness_max= []\n",
        "all_song_id = []\n",
        "\n",
        "def extractAudio(filename): \n",
        "  \n",
        "  h5 = open_h5_file_read(filename)\n",
        "  tmp = get_song_id(h5)\n",
        "  all_song_id.append(tmp)\n",
        "  tmp = get_analysis_sample_rate(h5)\n",
        "  all_analysis_sample_rate.append(tmp)\n",
        "  tmp = get_time_signature(h5)\n",
        "  all_time_signature.append(tmp)\n",
        "  tmp = get_tempo(h5)\n",
        "  all_tempo.append(tmp)\n",
        "  tmp = get_segments_pitches(h5)\n",
        "  all_segments_pitches.append(tmp)\n",
        "  tmp = get_segments_timbre(h5) \n",
        "  all_segments_timbre.append(tmp)\n",
        "  tmp = get_segments_loudness_max(h5)\n",
        "  all_segments_loudness_max.append(tmp)\n",
        "  h5.close()    "
      ],
      "execution_count": 0,
      "outputs": []
    },
    {
      "metadata": {
        "id": "qQ9sGBRcnp2j",
        "colab_type": "text"
      },
      "cell_type": "markdown",
      "source": [
        "run for a small subset"
      ]
    },
    {
      "metadata": {
        "id": "3P_VGbFgnDBc",
        "colab_type": "code",
        "colab": {}
      },
      "cell_type": "code",
      "source": [
        "t1 = time.time()\n",
        "apply_to_all_files(smallset,func=extractAudio)\n",
        "t2 = time.time()"
      ],
      "execution_count": 0,
      "outputs": []
    },
    {
      "metadata": {
        "id": "seeGM_y9nsLj",
        "colab_type": "text"
      },
      "cell_type": "markdown",
      "source": [
        "run for the whole subset"
      ]
    },
    {
      "metadata": {
        "id": "VL-iTZSNnuix",
        "colab_type": "code",
        "colab": {}
      },
      "cell_type": "code",
      "source": [
        "t1 = time.time()\n",
        "apply_to_all_files(msd_subset_data_path,func=extractAudio)\n",
        "t2 = time.time()"
      ],
      "execution_count": 0,
      "outputs": []
    },
    {
      "metadata": {
        "id": "bsCMMN9XmTFS",
        "colab_type": "text"
      },
      "cell_type": "markdown",
      "source": [
        "Extracting the features"
      ]
    },
    {
      "metadata": {
        "id": "Q2V2Gm8rlxzw",
        "colab_type": "code",
        "colab": {}
      },
      "cell_type": "code",
      "source": [
        "Audio = [\n",
        "    all_analysis_sample_rate,\n",
        "    all_time_signature,\n",
        "    all_tempo,\n",
        "    all_segments_pitches,\n",
        "    all_segments_timbre, #pure mfcc\n",
        "    all_segments_loudness_max\n",
        "]\n",
        "AudioLabels = [\n",
        "    'analysis_sample_rate',\n",
        "    'time_signature',\n",
        "    'tempo',\n",
        "    'segments_pitches',\n",
        "    'segments_timbre', #pure mfcc\n",
        "    'segments_loudness_max'\n",
        "]"
      ],
      "execution_count": 0,
      "outputs": []
    },
    {
      "metadata": {
        "id": "eidfcN68mpQ-",
        "colab_type": "code",
        "colab": {}
      },
      "cell_type": "code",
      "source": [
        "dataAudio = pd.DataFrame(Audio,index = AudioLabels, columns = all_song_id)\n",
        "audioData = dataAudio.transpose()"
      ],
      "execution_count": 0,
      "outputs": []
    },
    {
      "metadata": {
        "id": "ABRgoGHm4Bym",
        "colab_type": "code",
        "colab": {}
      },
      "cell_type": "code",
      "source": [
        "def feature_shape(arr):\n",
        "  return arr.shape"
      ],
      "execution_count": 0,
      "outputs": []
    },
    {
      "metadata": {
        "id": "UfNB80tv35hp",
        "colab_type": "code",
        "colab": {}
      },
      "cell_type": "code",
      "source": [
        "def resize_features_mfcc_pitch(features):\n",
        "  return resize(features, (height, width))"
      ],
      "execution_count": 0,
      "outputs": []
    },
    {
      "metadata": {
        "id": "vSRwCTN0HQDh",
        "colab_type": "code",
        "colab": {}
      },
      "cell_type": "code",
      "source": [
        "def resize_loudness(features):\n",
        "  return np.resize(features, (height,))"
      ],
      "execution_count": 0,
      "outputs": []
    },
    {
      "metadata": {
        "id": "CTPSCGn9Hk8Q",
        "colab_type": "code",
        "colab": {
          "base_uri": "https://localhost:8080/",
          "height": 72
        },
        "outputId": "eb21c24a-9178-4350-f61f-65e1728cece7"
      },
      "cell_type": "code",
      "source": [
        "audioData['mfcc_input'] = audioData['segments_timbre'].apply(resize_features_mfcc_pitch)"
      ],
      "execution_count": 16,
      "outputs": [
        {
          "output_type": "stream",
          "text": [
            "/usr/local/lib/python3.6/dist-packages/skimage/transform/_warps.py:84: UserWarning: The default mode, 'constant', will be changed to 'reflect' in skimage 0.15.\n",
            "  warn(\"The default mode, 'constant', will be changed to 'reflect' in \"\n"
          ],
          "name": "stderr"
        }
      ]
    },
    {
      "metadata": {
        "id": "WjhbAua6H1Yx",
        "colab_type": "code",
        "colab": {
          "base_uri": "https://localhost:8080/",
          "height": 72
        },
        "outputId": "88830791-c80b-4e02-ad1f-67fe3f05de24"
      },
      "cell_type": "code",
      "source": [
        "audioData['pitches_input'] = audioData['segments_pitches'].apply(resize_features_mfcc_pitch)"
      ],
      "execution_count": 17,
      "outputs": [
        {
          "output_type": "stream",
          "text": [
            "/usr/local/lib/python3.6/dist-packages/skimage/transform/_warps.py:84: UserWarning: The default mode, 'constant', will be changed to 'reflect' in skimage 0.15.\n",
            "  warn(\"The default mode, 'constant', will be changed to 'reflect' in \"\n"
          ],
          "name": "stderr"
        }
      ]
    },
    {
      "metadata": {
        "id": "gowFrnSuIDyZ",
        "colab_type": "code",
        "colab": {}
      },
      "cell_type": "code",
      "source": [
        "audioData['loudness_input'] = audioData['segments_loudness_max'].apply(resize_loudness)"
      ],
      "execution_count": 0,
      "outputs": []
    },
    {
      "metadata": {
        "id": "3IL0sHfl4NX1",
        "colab_type": "code",
        "colab": {}
      },
      "cell_type": "code",
      "source": [
        "audioData['mfcc_shape'] = audioData['mfcc_input'].apply(feature_shape)"
      ],
      "execution_count": 0,
      "outputs": []
    },
    {
      "metadata": {
        "id": "9NG9ZEaGF1__",
        "colab_type": "code",
        "colab": {}
      },
      "cell_type": "code",
      "source": [
        "audioData['pitch_shape'] = audioData['pitches_input'].apply(feature_shape)"
      ],
      "execution_count": 0,
      "outputs": []
    },
    {
      "metadata": {
        "id": "B9AJ76kfGamX",
        "colab_type": "code",
        "colab": {}
      },
      "cell_type": "code",
      "source": [
        "audioData['loudness_shape'] = audioData['loudness_input'].apply(feature_shape)"
      ],
      "execution_count": 0,
      "outputs": []
    },
    {
      "metadata": {
        "id": "zo6craCDIPz3",
        "colab_type": "code",
        "colab": {
          "base_uri": "https://localhost:8080/",
          "height": 430
        },
        "outputId": "f5b96aac-a3d6-43d9-bfeb-02207d928923"
      },
      "cell_type": "code",
      "source": [
        "audioData.head()"
      ],
      "execution_count": 24,
      "outputs": [
        {
          "output_type": "execute_result",
          "data": {
            "text/html": [
              "<div>\n",
              "<style scoped>\n",
              "    .dataframe tbody tr th:only-of-type {\n",
              "        vertical-align: middle;\n",
              "    }\n",
              "\n",
              "    .dataframe tbody tr th {\n",
              "        vertical-align: top;\n",
              "    }\n",
              "\n",
              "    .dataframe thead th {\n",
              "        text-align: right;\n",
              "    }\n",
              "</style>\n",
              "<table border=\"1\" class=\"dataframe\">\n",
              "  <thead>\n",
              "    <tr style=\"text-align: right;\">\n",
              "      <th></th>\n",
              "      <th>analysis_sample_rate</th>\n",
              "      <th>time_signature</th>\n",
              "      <th>tempo</th>\n",
              "      <th>segments_pitches</th>\n",
              "      <th>segments_timbre</th>\n",
              "      <th>segments_loudness_max</th>\n",
              "      <th>mfcc_input</th>\n",
              "      <th>pitches_input</th>\n",
              "      <th>loudness_input</th>\n",
              "      <th>mfcc_shape</th>\n",
              "      <th>pitch_shape</th>\n",
              "      <th>loudness_shape</th>\n",
              "    </tr>\n",
              "  </thead>\n",
              "  <tbody>\n",
              "    <tr>\n",
              "      <th>b'SOBLFFE12AF72AA5BA'</th>\n",
              "      <td>22050</td>\n",
              "      <td>4</td>\n",
              "      <td>99.944</td>\n",
              "      <td>[[0.294, 0.158, 0.242, 0.182, 0.2, 0.407, 0.18...</td>\n",
              "      <td>[[17.977, 71.335, 193.384, -323.599, 25.153, 7...</td>\n",
              "      <td>[-20.556, -21.139, -20.528, -20.028, -20.774, ...</td>\n",
              "      <td>[[12.49401500001858, 49.57782500007488, 134.40...</td>\n",
              "      <td>[[0.20433000000030382, 0.1098100000001929, 0.1...</td>\n",
              "      <td>[-20.556, -21.139, -20.528, -20.028, -20.774, ...</td>\n",
              "      <td>(1500, 12)</td>\n",
              "      <td>(1500, 12)</td>\n",
              "      <td>(1500,)</td>\n",
              "    </tr>\n",
              "    <tr>\n",
              "      <th>b'SOELQTU12AB018949D'</th>\n",
              "      <td>22050</td>\n",
              "      <td>3</td>\n",
              "      <td>97.623</td>\n",
              "      <td>[[1.0, 1.0, 1.0, 1.0, 1.0, 1.0, 1.0, 1.0, 1.0,...</td>\n",
              "      <td>[[0.0, 171.13, 9.469, -28.48, 57.491, -50.067,...</td>\n",
              "      <td>[-60.0, -42.342, -31.436, -30.266, -30.307, -3...</td>\n",
              "      <td>[[4.0460896932151295e-11, 112.20423666665701, ...</td>\n",
              "      <td>[[0.655666666666832, 0.6556666666668343, 0.655...</td>\n",
              "      <td>[-60.0, -42.342, -31.436, -30.266, -30.307, -3...</td>\n",
              "      <td>(1500, 12)</td>\n",
              "      <td>(1500, 12)</td>\n",
              "      <td>(1500,)</td>\n",
              "    </tr>\n",
              "    <tr>\n",
              "      <th>b'SOFRDWL12A58A7CEF7'</th>\n",
              "      <td>22050</td>\n",
              "      <td>4</td>\n",
              "      <td>161.99</td>\n",
              "      <td>[[0.913, 0.271, 0.362, 0.729, 0.26, 0.261, 0.3...</td>\n",
              "      <td>[[41.341, 92.078, -31.158, -44.468, 9.796, 84....</td>\n",
              "      <td>[-14.278, -12.859, -10.704, -17.004, -23.566, ...</td>\n",
              "      <td>[[38.075061000040435, 84.80383799999925, -28.6...</td>\n",
              "      <td>[[0.8408730000002119, 0.24959100000017453, 0.3...</td>\n",
              "      <td>[-14.278, -12.859, -10.704, -17.004, -23.566, ...</td>\n",
              "      <td>(1500, 12)</td>\n",
              "      <td>(1500, 12)</td>\n",
              "      <td>(1500,)</td>\n",
              "    </tr>\n",
              "    <tr>\n",
              "      <th>b'SOCSNVI12A8C13ECC2'</th>\n",
              "      <td>22050</td>\n",
              "      <td>1</td>\n",
              "      <td>136.768</td>\n",
              "      <td>[[0.826, 0.952, 1.0, 0.933, 0.84, 0.789, 0.707...</td>\n",
              "      <td>[[0.015, 170.844, 8.937, -28.887, 57.011, -50....</td>\n",
              "      <td>[-59.19, -28.753, -31.099, -35.066, -32.999, -...</td>\n",
              "      <td>[[0.014319999999998063, 163.09907199997488, 8....</td>\n",
              "      <td>[[0.7885546666665599, 0.9088426666666267, 0.95...</td>\n",
              "      <td>[-59.19, -28.753, -31.099, -35.066, -32.999, -...</td>\n",
              "      <td>(1500, 12)</td>\n",
              "      <td>(1500, 12)</td>\n",
              "      <td>(1500,)</td>\n",
              "    </tr>\n",
              "    <tr>\n",
              "      <th>b'SOCIWDW12A8C13D406'</th>\n",
              "      <td>22050</td>\n",
              "      <td>4</td>\n",
              "      <td>121.274</td>\n",
              "      <td>[[1.0, 1.0, 1.0, 1.0, 1.0, 1.0, 1.0, 1.0, 1.0,...</td>\n",
              "      <td>[[0.0, 171.13, 9.469, -28.48, 57.491, -50.067,...</td>\n",
              "      <td>[-60.0, -14.269, -10.165, -18.098, -19.136, -1...</td>\n",
              "      <td>[[6.875700690283535e-11, 116.93883333328927, 6...</td>\n",
              "      <td>[[0.6833333333334508, 0.683333333333451, 0.683...</td>\n",
              "      <td>[-60.0, -14.269, -10.165, -18.098, -19.136, -1...</td>\n",
              "      <td>(1500, 12)</td>\n",
              "      <td>(1500, 12)</td>\n",
              "      <td>(1500,)</td>\n",
              "    </tr>\n",
              "  </tbody>\n",
              "</table>\n",
              "</div>"
            ],
            "text/plain": [
              "                      analysis_sample_rate time_signature    tempo  \\\n",
              "b'SOBLFFE12AF72AA5BA'                22050              4   99.944   \n",
              "b'SOELQTU12AB018949D'                22050              3   97.623   \n",
              "b'SOFRDWL12A58A7CEF7'                22050              4   161.99   \n",
              "b'SOCSNVI12A8C13ECC2'                22050              1  136.768   \n",
              "b'SOCIWDW12A8C13D406'                22050              4  121.274   \n",
              "\n",
              "                                                        segments_pitches  \\\n",
              "b'SOBLFFE12AF72AA5BA'  [[0.294, 0.158, 0.242, 0.182, 0.2, 0.407, 0.18...   \n",
              "b'SOELQTU12AB018949D'  [[1.0, 1.0, 1.0, 1.0, 1.0, 1.0, 1.0, 1.0, 1.0,...   \n",
              "b'SOFRDWL12A58A7CEF7'  [[0.913, 0.271, 0.362, 0.729, 0.26, 0.261, 0.3...   \n",
              "b'SOCSNVI12A8C13ECC2'  [[0.826, 0.952, 1.0, 0.933, 0.84, 0.789, 0.707...   \n",
              "b'SOCIWDW12A8C13D406'  [[1.0, 1.0, 1.0, 1.0, 1.0, 1.0, 1.0, 1.0, 1.0,...   \n",
              "\n",
              "                                                         segments_timbre  \\\n",
              "b'SOBLFFE12AF72AA5BA'  [[17.977, 71.335, 193.384, -323.599, 25.153, 7...   \n",
              "b'SOELQTU12AB018949D'  [[0.0, 171.13, 9.469, -28.48, 57.491, -50.067,...   \n",
              "b'SOFRDWL12A58A7CEF7'  [[41.341, 92.078, -31.158, -44.468, 9.796, 84....   \n",
              "b'SOCSNVI12A8C13ECC2'  [[0.015, 170.844, 8.937, -28.887, 57.011, -50....   \n",
              "b'SOCIWDW12A8C13D406'  [[0.0, 171.13, 9.469, -28.48, 57.491, -50.067,...   \n",
              "\n",
              "                                                   segments_loudness_max  \\\n",
              "b'SOBLFFE12AF72AA5BA'  [-20.556, -21.139, -20.528, -20.028, -20.774, ...   \n",
              "b'SOELQTU12AB018949D'  [-60.0, -42.342, -31.436, -30.266, -30.307, -3...   \n",
              "b'SOFRDWL12A58A7CEF7'  [-14.278, -12.859, -10.704, -17.004, -23.566, ...   \n",
              "b'SOCSNVI12A8C13ECC2'  [-59.19, -28.753, -31.099, -35.066, -32.999, -...   \n",
              "b'SOCIWDW12A8C13D406'  [-60.0, -14.269, -10.165, -18.098, -19.136, -1...   \n",
              "\n",
              "                                                              mfcc_input  \\\n",
              "b'SOBLFFE12AF72AA5BA'  [[12.49401500001858, 49.57782500007488, 134.40...   \n",
              "b'SOELQTU12AB018949D'  [[4.0460896932151295e-11, 112.20423666665701, ...   \n",
              "b'SOFRDWL12A58A7CEF7'  [[38.075061000040435, 84.80383799999925, -28.6...   \n",
              "b'SOCSNVI12A8C13ECC2'  [[0.014319999999998063, 163.09907199997488, 8....   \n",
              "b'SOCIWDW12A8C13D406'  [[6.875700690283535e-11, 116.93883333328927, 6...   \n",
              "\n",
              "                                                           pitches_input  \\\n",
              "b'SOBLFFE12AF72AA5BA'  [[0.20433000000030382, 0.1098100000001929, 0.1...   \n",
              "b'SOELQTU12AB018949D'  [[0.655666666666832, 0.6556666666668343, 0.655...   \n",
              "b'SOFRDWL12A58A7CEF7'  [[0.8408730000002119, 0.24959100000017453, 0.3...   \n",
              "b'SOCSNVI12A8C13ECC2'  [[0.7885546666665599, 0.9088426666666267, 0.95...   \n",
              "b'SOCIWDW12A8C13D406'  [[0.6833333333334508, 0.683333333333451, 0.683...   \n",
              "\n",
              "                                                          loudness_input  \\\n",
              "b'SOBLFFE12AF72AA5BA'  [-20.556, -21.139, -20.528, -20.028, -20.774, ...   \n",
              "b'SOELQTU12AB018949D'  [-60.0, -42.342, -31.436, -30.266, -30.307, -3...   \n",
              "b'SOFRDWL12A58A7CEF7'  [-14.278, -12.859, -10.704, -17.004, -23.566, ...   \n",
              "b'SOCSNVI12A8C13ECC2'  [-59.19, -28.753, -31.099, -35.066, -32.999, -...   \n",
              "b'SOCIWDW12A8C13D406'  [-60.0, -14.269, -10.165, -18.098, -19.136, -1...   \n",
              "\n",
              "                       mfcc_shape pitch_shape loudness_shape  \n",
              "b'SOBLFFE12AF72AA5BA'  (1500, 12)  (1500, 12)        (1500,)  \n",
              "b'SOELQTU12AB018949D'  (1500, 12)  (1500, 12)        (1500,)  \n",
              "b'SOFRDWL12A58A7CEF7'  (1500, 12)  (1500, 12)        (1500,)  \n",
              "b'SOCSNVI12A8C13ECC2'  (1500, 12)  (1500, 12)        (1500,)  \n",
              "b'SOCIWDW12A8C13D406'  (1500, 12)  (1500, 12)        (1500,)  "
            ]
          },
          "metadata": {
            "tags": []
          },
          "execution_count": 24
        }
      ]
    },
    {
      "metadata": {
        "id": "Js_O5l2pMGY-",
        "colab_type": "code",
        "colab": {}
      },
      "cell_type": "code",
      "source": [
        ""
      ],
      "execution_count": 0,
      "outputs": []
    }
  ]
}