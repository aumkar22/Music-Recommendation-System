{
  "nbformat": 4,
  "nbformat_minor": 0,
  "metadata": {
    "colab": {
      "name": "GetData and Playlists.ipynb",
      "version": "0.3.2",
      "provenance": [],
      "collapsed_sections": [
        "nispdxVmkr6V"
      ],
      "include_colab_link": true
    },
    "kernelspec": {
      "name": "python3",
      "display_name": "Python 3"
    }
  },
  "cells": [
    {
      "cell_type": "markdown",
      "metadata": {
        "id": "view-in-github",
        "colab_type": "text"
      },
      "source": [
        "<a href=\"https://colab.research.google.com/github/aumkar22/Music-Recommendation-System/blob/master/GetData_and_Playlists.ipynb\" target=\"_parent\"><img src=\"https://colab.research.google.com/assets/colab-badge.svg\" alt=\"Open In Colab\"/></a>"
      ]
    },
    {
      "metadata": {
        "id": "zqzQTW-1Oxo3",
        "colab_type": "text"
      },
      "cell_type": "markdown",
      "source": [
        "# Music-Recommender System\n",
        "##**General outline:**\n",
        "\n",
        "###Hack To Get Data\n",
        "*   Before using, adjust this file to your file hierachy under **Hack to get Data/Local storage**\n",
        "*   The msd subset is stored as hfd5 files, **HDF5 Getters (imported) and necessary function** contains all functions to process those\n",
        "*   Two individual datasets are created\n",
        "\n",
        "> * one non-audio set (containing features like artist etc.)\n",
        ">> * **Extract non audio**\n",
        "> * one audio set (containing musical features)\n",
        ">> * **Extract audio**\n",
        "* Since already the subset takes some time to be processed. 'smallset' is a subset of the subset containing 53 files. Whenever the hfd5 files are extracted, use *smallset* instead of *msd_subset_data_path* to extract if you want quick results\n",
        "* Pandas Dataframe for non Audio: *nonAudioData*\n",
        "* Pandas Dataframe for  Audio: *audioData*\n",
        "\n",
        "\n",
        "\n",
        "\n"
      ]
    },
    {
      "metadata": {
        "id": "OleVL4QnGXIe",
        "colab_type": "text"
      },
      "cell_type": "markdown",
      "source": [
        "# New Section"
      ]
    },
    {
      "metadata": {
        "id": "fu04RYkEjofw",
        "colab_type": "code",
        "outputId": "8ff9f890-d900-4a98-83ae-4600e8293539",
        "colab": {
          "base_uri": "https://localhost:8080/",
          "height": 85
        }
      },
      "cell_type": "code",
      "source": [
        "!pip install tables"
      ],
      "execution_count": 0,
      "outputs": [
        {
          "output_type": "stream",
          "text": [
            "Requirement already satisfied: tables in /usr/local/lib/python3.6/dist-packages (3.4.4)\n",
            "Requirement already satisfied: six>=1.9.0 in /usr/local/lib/python3.6/dist-packages (from tables) (1.11.0)\n",
            "Requirement already satisfied: numpy>=1.8.0 in /usr/local/lib/python3.6/dist-packages (from tables) (1.14.6)\n",
            "Requirement already satisfied: numexpr>=2.5.2 in /usr/local/lib/python3.6/dist-packages (from tables) (2.6.8)\n"
          ],
          "name": "stdout"
        }
      ]
    },
    {
      "metadata": {
        "id": "hMloGVsLjh4j",
        "colab_type": "text"
      },
      "cell_type": "markdown",
      "source": [
        "##Hack to get the data "
      ]
    },
    {
      "metadata": {
        "id": "I7l1qgDfjhLI",
        "colab_type": "code",
        "colab": {}
      },
      "cell_type": "code",
      "source": [
        "import os\n",
        "import sys\n",
        "import time\n",
        "import glob\n",
        "import datetime\n",
        "import sqlite3\n",
        "import numpy as np\n",
        "import tarfile\n",
        "import tables\n",
        "import numpy as np\n",
        "import random\n",
        "import pandas as pd\n",
        "from sklearn.model_selection import train_test_split\n",
        "from matplotlib.pyplot import imshow\n",
        "from google.colab import drive"
      ],
      "execution_count": 0,
      "outputs": []
    },
    {
      "metadata": {
        "id": "U8wePVe5j7Si",
        "colab_type": "text"
      },
      "cell_type": "markdown",
      "source": [
        "**Local Storage**"
      ]
    },
    {
      "metadata": {
        "id": "XCZwZ-8Oj4gC",
        "colab_type": "code",
        "outputId": "cb35e6f1-b2ce-4f3c-bcc1-de5da27fb80e",
        "colab": {
          "base_uri": "https://localhost:8080/",
          "height": 122
        }
      },
      "cell_type": "code",
      "source": [
        "drive.mount('/content/drive')"
      ],
      "execution_count": 3,
      "outputs": [
        {
          "output_type": "stream",
          "text": [
            "Go to this URL in a browser: https://accounts.google.com/o/oauth2/auth?client_id=947318989803-6bn6qk8qdgf4n4g3pfee6491hc0brc4i.apps.googleusercontent.com&redirect_uri=urn%3Aietf%3Awg%3Aoauth%3A2.0%3Aoob&scope=email%20https%3A%2F%2Fwww.googleapis.com%2Fauth%2Fdocs.test%20https%3A%2F%2Fwww.googleapis.com%2Fauth%2Fdrive%20https%3A%2F%2Fwww.googleapis.com%2Fauth%2Fdrive.photos.readonly%20https%3A%2F%2Fwww.googleapis.com%2Fauth%2Fpeopleapi.readonly&response_type=code\n",
            "\n",
            "Enter your authorization code:\n",
            "··········\n",
            "Mounted at /content/drive\n"
          ],
          "name": "stdout"
        }
      ]
    },
    {
      "metadata": {
        "id": "0H7Q_OM6kYsa",
        "colab_type": "code",
        "outputId": "489b923d-69cb-451e-9a30-718750dabaf9",
        "colab": {
          "base_uri": "https://localhost:8080/",
          "height": 102
        }
      },
      "cell_type": "code",
      "source": [
        "msd_subset_path=r'/content/drive/My Drive/IR/Dataprocessing/MillionSongSubset'\n",
        "msd_subset_data_path=os.path.join(msd_subset_path,'data')\n",
        "msd_subset_addf_path=os.path.join(msd_subset_path,'AdditionalFiles')\n",
        "smallset = r'/content/drive/My Drive/IR/Dataprocessing/A'\n",
        "msd_code_path=r'/content/drive/My Drive/IR/Dataprocessing'\n",
        "sys.path.append( os.path.join(msd_code_path,'PythonSrc') )\n",
        "sys.path.append( os.path.join(msd_code_path,'PythonSrc') )\n",
        "\n",
        "#Is the given path really a path?\n",
        "print(os.path.isdir(msd_subset_path))\n",
        "print(os.path.exists(msd_subset_path))\n",
        "print(os.path.isdir(msd_code_path))\n",
        "print(os.path.exists(msd_code_path))\n",
        "print(os.path.isdir(smallset))"
      ],
      "execution_count": 4,
      "outputs": [
        {
          "output_type": "stream",
          "text": [
            "True\n",
            "True\n",
            "True\n",
            "True\n",
            "True\n"
          ],
          "name": "stdout"
        }
      ]
    },
    {
      "metadata": {
        "id": "H491UsVtjyR6",
        "colab_type": "text"
      },
      "cell_type": "markdown",
      "source": [
        "###HDF5 Getters (imported) and necessary function"
      ]
    },
    {
      "metadata": {
        "id": "YWh0KsSojgPD",
        "colab_type": "code",
        "colab": {}
      },
      "cell_type": "code",
      "source": [
        "\"\"\"\n",
        "Thierry Bertin-Mahieux (2010) Columbia University\n",
        "tb2332@columbia.edu\n",
        "This code contains a set of getters functions to access the fields\n",
        "from an HDF5 song file (regular file with one song or\n",
        "aggregate / summary file with many songs)\n",
        "This is part of the Million Song Dataset project from\n",
        "LabROSA (Columbia University) and The Echo Nest.\n",
        "Copyright 2010, Thierry Bertin-Mahieux\n",
        "This program is free software: you can redistribute it and/or modify\n",
        "it under the terms of the GNU General Public License as published by\n",
        "the Free Software Foundation, either version 3 of the License, or\n",
        "(at your option) any later version.\n",
        "This program is distributed in the hope that it will be useful,\n",
        "but WITHOUT ANY WARRANTY; without even the implied warranty of\n",
        "MERCHANTABILITY or FITNESS FOR A PARTICULAR PURPOSE.  See the\n",
        "GNU General Public License for more details.\n",
        "You should have received a copy of the GNU General Public License\n",
        "along with this program.  If not, see <http://www.gnu.org/licenses/>.\n",
        "\"\"\"\n",
        "\n",
        "\n",
        "def open_h5_file_read(h5filename):\n",
        "    \"\"\"\n",
        "    Open an existing H5 in read mode.\n",
        "    Same function as in hdf5_utils, here so we avoid one import\n",
        "    \"\"\"\n",
        "    return tables.open_file(h5filename, mode='r')\n",
        "\n",
        "\n",
        "def get_num_songs(h5):\n",
        "    \"\"\"\n",
        "    Return the number of songs contained in this h5 file, i.e. the number of rows\n",
        "    for all basic informations like name, artist, ...\n",
        "    \"\"\"\n",
        "    return h5.root.metadata.songs.nrows\n",
        "\n",
        "def get_artist_familiarity(h5,songidx=0):\n",
        "    \"\"\"\n",
        "    Get artist familiarity from a HDF5 song file, by default the first song in it\n",
        "    \"\"\"\n",
        "    return h5.root.metadata.songs.cols.artist_familiarity[songidx]\n",
        "\n",
        "def get_artist_hotttnesss(h5,songidx=0):\n",
        "    \"\"\"\n",
        "    Get artist hotttnesss from a HDF5 song file, by default the first song in it\n",
        "    \"\"\"\n",
        "    return h5.root.metadata.songs.cols.artist_hotttnesss[songidx]\n",
        "\n",
        "def get_artist_id(h5,songidx=0):\n",
        "    \"\"\"\n",
        "    Get artist id from a HDF5 song file, by default the first song in it\n",
        "    \"\"\"\n",
        "    return h5.root.metadata.songs.cols.artist_id[songidx]\n",
        "\n",
        "def get_artist_mbid(h5,songidx=0):\n",
        "    \"\"\"\n",
        "    Get artist musibrainz id from a HDF5 song file, by default the first song in it\n",
        "    \"\"\"\n",
        "    return h5.root.metadata.songs.cols.artist_mbid[songidx]\n",
        "\n",
        "def get_artist_playmeid(h5,songidx=0):\n",
        "    \"\"\"\n",
        "    Get artist playme id from a HDF5 song file, by default the first song in it\n",
        "    \"\"\"\n",
        "    return h5.root.metadata.songs.cols.artist_playmeid[songidx]\n",
        "\n",
        "def get_artist_7digitalid(h5,songidx=0):\n",
        "    \"\"\"\n",
        "    Get artist 7digital id from a HDF5 song file, by default the first song in it\n",
        "    \"\"\"\n",
        "    return h5.root.metadata.songs.cols.artist_7digitalid[songidx]\n",
        "\n",
        "def get_artist_latitude(h5,songidx=0):\n",
        "    \"\"\"\n",
        "    Get artist latitude from a HDF5 song file, by default the first song in it\n",
        "    \"\"\"\n",
        "    return h5.root.metadata.songs.cols.artist_latitude[songidx]\n",
        "\n",
        "def get_artist_longitude(h5,songidx=0):\n",
        "    \"\"\"\n",
        "    Get artist longitude from a HDF5 song file, by default the first song in it\n",
        "    \"\"\"\n",
        "    return h5.root.metadata.songs.cols.artist_longitude[songidx]\n",
        "\n",
        "def get_artist_location(h5,songidx=0):\n",
        "    \"\"\"\n",
        "    Get artist location from a HDF5 song file, by default the first song in it\n",
        "    \"\"\"\n",
        "    return h5.root.metadata.songs.cols.artist_location[songidx]\n",
        "\n",
        "def get_artist_name(h5,songidx=0):\n",
        "    \"\"\"\n",
        "    Get artist name from a HDF5 song file, by default the first song in it\n",
        "    \"\"\"\n",
        "    return h5.root.metadata.songs.cols.artist_name[songidx]\n",
        "\n",
        "def get_release(h5,songidx=0):\n",
        "    \"\"\"\n",
        "    Get release from a HDF5 song file, by default the first song in it\n",
        "    \"\"\"\n",
        "    return h5.root.metadata.songs.cols.release[songidx]\n",
        "\n",
        "def get_release_7digitalid(h5,songidx=0):\n",
        "    \"\"\"\n",
        "    Get release 7digital id from a HDF5 song file, by default the first song in it\n",
        "    \"\"\"\n",
        "    return h5.root.metadata.songs.cols.release_7digitalid[songidx]\n",
        "\n",
        "def get_song_id(h5,songidx=0):\n",
        "    \"\"\"\n",
        "    Get song id from a HDF5 song file, by default the first song in it\n",
        "    \"\"\"\n",
        "    return h5.root.metadata.songs.cols.song_id[songidx]\n",
        "\n",
        "def get_song_hotttnesss(h5,songidx=0):\n",
        "    \"\"\"\n",
        "    Get song hotttnesss from a HDF5 song file, by default the first song in it\n",
        "    \"\"\"\n",
        "    return h5.root.metadata.songs.cols.song_hotttnesss[songidx]\n",
        "\n",
        "def get_title(h5,songidx=0):\n",
        "    \"\"\"\n",
        "    Get title from a HDF5 song file, by default the first song in it\n",
        "    \"\"\"\n",
        "    return h5.root.metadata.songs.cols.title[songidx]\n",
        "\n",
        "def get_track_7digitalid(h5,songidx=0):\n",
        "    \"\"\"\n",
        "    Get track 7digital id from a HDF5 song file, by default the first song in it\n",
        "    \"\"\"\n",
        "    return h5.root.metadata.songs.cols.track_7digitalid[songidx]\n",
        "\n",
        "def get_similar_artists(h5,songidx=0):\n",
        "    \"\"\"\n",
        "    Get similar artists array. Takes care of the proper indexing if we are in aggregate\n",
        "    file. By default, return the array for the first song in the h5 file.\n",
        "    To get a regular numpy ndarray, cast the result to: numpy.array( )\n",
        "    \"\"\"\n",
        "    if h5.root.metadata.songs.nrows == songidx + 1:\n",
        "        return h5.root.metadata.similar_artists[h5.root.metadata.songs.cols.idx_similar_artists[songidx]:]\n",
        "    return h5.root.metadata.similar_artists[h5.root.metadata.songs.cols.idx_similar_artists[songidx]:\n",
        "                                            h5.root.metadata.songs.cols.idx_similar_artists[songidx+1]]\n",
        "\n",
        "def get_artist_terms(h5,songidx=0):\n",
        "    \"\"\"\n",
        "    Get artist terms array. Takes care of the proper indexing if we are in aggregate\n",
        "    file. By default, return the array for the first song in the h5 file.\n",
        "    To get a regular numpy ndarray, cast the result to: numpy.array( )\n",
        "    \"\"\"\n",
        "    if h5.root.metadata.songs.nrows == songidx + 1:\n",
        "        return h5.root.metadata.artist_terms[h5.root.metadata.songs.cols.idx_artist_terms[songidx]:]\n",
        "    return h5.root.metadata.artist_terms[h5.root.metadata.songs.cols.idx_artist_terms[songidx]:\n",
        "                                            h5.root.metadata.songs.cols.idx_artist_terms[songidx+1]]\n",
        "\n",
        "def get_artist_terms_freq(h5,songidx=0):\n",
        "    \"\"\"\n",
        "    Get artist terms array frequencies. Takes care of the proper indexing if we are in aggregate\n",
        "    file. By default, return the array for the first song in the h5 file.\n",
        "    To get a regular numpy ndarray, cast the result to: numpy.array( )\n",
        "    \"\"\"\n",
        "    if h5.root.metadata.songs.nrows == songidx + 1:\n",
        "        return h5.root.metadata.artist_terms_freq[h5.root.metadata.songs.cols.idx_artist_terms[songidx]:]\n",
        "    return h5.root.metadata.artist_terms_freq[h5.root.metadata.songs.cols.idx_artist_terms[songidx]:\n",
        "                                              h5.root.metadata.songs.cols.idx_artist_terms[songidx+1]]\n",
        "\n",
        "def get_artist_terms_weight(h5,songidx=0):\n",
        "    \"\"\"\n",
        "    Get artist terms array frequencies. Takes care of the proper indexing if we are in aggregate\n",
        "    file. By default, return the array for the first song in the h5 file.\n",
        "    To get a regular numpy ndarray, cast the result to: numpy.array( )\n",
        "    \"\"\"\n",
        "    if h5.root.metadata.songs.nrows == songidx + 1:\n",
        "        return h5.root.metadata.artist_terms_weight[h5.root.metadata.songs.cols.idx_artist_terms[songidx]:]\n",
        "    return h5.root.metadata.artist_terms_weight[h5.root.metadata.songs.cols.idx_artist_terms[songidx]:\n",
        "                                                h5.root.metadata.songs.cols.idx_artist_terms[songidx+1]]\n",
        "\n",
        "def get_analysis_sample_rate(h5,songidx=0):\n",
        "    \"\"\"\n",
        "    Get analysis sample rate from a HDF5 song file, by default the first song in it\n",
        "    \"\"\"\n",
        "    return h5.root.analysis.songs.cols.analysis_sample_rate[songidx]\n",
        "\n",
        "def get_audio_md5(h5,songidx=0):\n",
        "    \"\"\"\n",
        "    Get audio MD5 from a HDF5 song file, by default the first song in it\n",
        "    \"\"\"\n",
        "    return h5.root.analysis.songs.cols.audio_md5[songidx]\n",
        "\n",
        "def get_danceability(h5,songidx=0):\n",
        "    \"\"\"\n",
        "    Get danceability from a HDF5 song file, by default the first song in it\n",
        "    \"\"\"\n",
        "    return h5.root.analysis.songs.cols.danceability[songidx]\n",
        "\n",
        "def get_duration(h5,songidx=0):\n",
        "    \"\"\"\n",
        "    Get duration from a HDF5 song file, by default the first song in it\n",
        "    \"\"\"\n",
        "    return h5.root.analysis.songs.cols.duration[songidx]\n",
        "\n",
        "def get_end_of_fade_in(h5,songidx=0):\n",
        "    \"\"\"\n",
        "    Get end of fade in from a HDF5 song file, by default the first song in it\n",
        "    \"\"\"\n",
        "    return h5.root.analysis.songs.cols.end_of_fade_in[songidx]\n",
        "\n",
        "def get_energy(h5,songidx=0):\n",
        "    \"\"\"\n",
        "    Get energy from a HDF5 song file, by default the first song in it\n",
        "    \"\"\"\n",
        "    return h5.root.analysis.songs.cols.energy[songidx]\n",
        "\n",
        "def get_key(h5,songidx=0):\n",
        "    \"\"\"\n",
        "    Get key from a HDF5 song file, by default the first song in it\n",
        "    \"\"\"\n",
        "    return h5.root.analysis.songs.cols.key[songidx]\n",
        "\n",
        "def get_key_confidence(h5,songidx=0):\n",
        "    \"\"\"\n",
        "    Get key confidence from a HDF5 song file, by default the first song in it\n",
        "    \"\"\"\n",
        "    return h5.root.analysis.songs.cols.key_confidence[songidx]\n",
        "\n",
        "def get_loudness(h5,songidx=0):\n",
        "    \"\"\"\n",
        "    Get loudness from a HDF5 song file, by default the first song in it\n",
        "    \"\"\"\n",
        "    return h5.root.analysis.songs.cols.loudness[songidx]\n",
        "\n",
        "def get_mode(h5,songidx=0):\n",
        "    \"\"\"\n",
        "    Get mode from a HDF5 song file, by default the first song in it\n",
        "    \"\"\"\n",
        "    return h5.root.analysis.songs.cols.mode[songidx]\n",
        "\n",
        "def get_mode_confidence(h5,songidx=0):\n",
        "    \"\"\"\n",
        "    Get mode confidence from a HDF5 song file, by default the first song in it\n",
        "    \"\"\"\n",
        "    return h5.root.analysis.songs.cols.mode_confidence[songidx]\n",
        "\n",
        "def get_start_of_fade_out(h5,songidx=0):\n",
        "    \"\"\"\n",
        "    Get start of fade out from a HDF5 song file, by default the first song in it\n",
        "    \"\"\"\n",
        "    return h5.root.analysis.songs.cols.start_of_fade_out[songidx]\n",
        "\n",
        "def get_tempo(h5,songidx=0):\n",
        "    \"\"\"\n",
        "    Get tempo from a HDF5 song file, by default the first song in it\n",
        "    \"\"\"\n",
        "    return h5.root.analysis.songs.cols.tempo[songidx]\n",
        "\n",
        "def get_time_signature(h5,songidx=0):\n",
        "    \"\"\"\n",
        "    Get signature from a HDF5 song file, by default the first song in it\n",
        "    \"\"\"\n",
        "    return h5.root.analysis.songs.cols.time_signature[songidx]\n",
        "\n",
        "def get_time_signature_confidence(h5,songidx=0):\n",
        "    \"\"\"\n",
        "    Get signature confidence from a HDF5 song file, by default the first song in it\n",
        "    \"\"\"\n",
        "    return h5.root.analysis.songs.cols.time_signature_confidence[songidx]\n",
        "\n",
        "def get_track_id(h5,songidx=0):\n",
        "    \"\"\"\n",
        "    Get track id from a HDF5 song file, by default the first song in it\n",
        "    \"\"\"\n",
        "    return h5.root.analysis.songs.cols.track_id[songidx]\n",
        "\n",
        "def get_segments_start(h5,songidx=0):\n",
        "    \"\"\"\n",
        "    Get segments start array. Takes care of the proper indexing if we are in aggregate\n",
        "    file. By default, return the array for the first song in the h5 file.\n",
        "    To get a regular numpy ndarray, cast the result to: numpy.array( )\n",
        "    \"\"\"\n",
        "    h5 = os.path.normpath(h5)\n",
        "    if h5.root.analysis.songs.nrows == songidx + 1:\n",
        "        return h5.root.analysis.segments_start[h5.root.analysis.songs.cols.idx_segments_start[songidx]:]\n",
        "    return h5.root.analysis.segments_start[h5.root.analysis.songs.cols.idx_segments_start[songidx]:\n",
        "                                           h5.root.analysis.songs.cols.idx_segments_start[songidx+1]]\n",
        "    \n",
        "def get_segments_confidence(h5,songidx=0):\n",
        "    \"\"\"\n",
        "    Get segments confidence array. Takes care of the proper indexing if we are in aggregate\n",
        "    file. By default, return the array for the first song in the h5 file.\n",
        "    To get a regular numpy ndarray, cast the result to: numpy.array( )\n",
        "    \"\"\"\n",
        "    if h5.root.analysis.songs.nrows == songidx + 1:\n",
        "        return h5.root.analysis.segments_confidence[h5.root.analysis.songs.cols.idx_segments_confidence[songidx]:]\n",
        "    return h5.root.analysis.segments_confidence[h5.root.analysis.songs.cols.idx_segments_confidence[songidx]:\n",
        "                                                h5.root.analysis.songs.cols.idx_segments_confidence[songidx+1]]\n",
        "\n",
        "def get_segments_pitches(h5,songidx=0):\n",
        "    \"\"\"\n",
        "    Get segments pitches array. Takes care of the proper indexing if we are in aggregate\n",
        "    file. By default, return the array for the first song in the h5 file.\n",
        "    To get a regular numpy ndarray, cast the result to: numpy.array( )\n",
        "    \"\"\"\n",
        "    if h5.root.analysis.songs.nrows == songidx + 1:\n",
        "        return h5.root.analysis.segments_pitches[h5.root.analysis.songs.cols.idx_segments_pitches[songidx]:,:]\n",
        "    return h5.root.analysis.segments_pitches[h5.root.analysis.songs.cols.idx_segments_pitches[songidx]:\n",
        "                                             h5.root.analysis.songs.cols.idx_segments_pitches[songidx+1],:]\n",
        "\n",
        "def get_segments_timbre(h5,songidx=0):\n",
        "    \"\"\"\n",
        "    Get segments timbre array. Takes care of the proper indexing if we are in aggregate\n",
        "    file. By default, return the array for the first song in the h5 file.\n",
        "    To get a regular numpy ndarray, cast the result to: numpy.array( )\n",
        "    \"\"\"\n",
        "    if h5.root.analysis.songs.nrows == songidx + 1:\n",
        "        return h5.root.analysis.segments_timbre[h5.root.analysis.songs.cols.idx_segments_timbre[songidx]:,:]\n",
        "    return h5.root.analysis.segments_timbre[h5.root.analysis.songs.cols.idx_segments_timbre[songidx]:\n",
        "                                            h5.root.analysis.songs.cols.idx_segments_timbre[songidx+1],:]\n",
        "\n",
        "def get_segments_loudness_max(h5,songidx=0):\n",
        "    \"\"\"\n",
        "    Get segments loudness max array. Takes care of the proper indexing if we are in aggregate\n",
        "    file. By default, return the array for the first song in the h5 file.\n",
        "    To get a regular numpy ndarray, cast the result to: numpy.array( )\n",
        "    \"\"\"\n",
        "    if h5.root.analysis.songs.nrows == songidx + 1:\n",
        "        return h5.root.analysis.segments_loudness_max[h5.root.analysis.songs.cols.idx_segments_loudness_max[songidx]:]\n",
        "    return h5.root.analysis.segments_loudness_max[h5.root.analysis.songs.cols.idx_segments_loudness_max[songidx]:\n",
        "                                                  h5.root.analysis.songs.cols.idx_segments_loudness_max[songidx+1]]\n",
        "\n",
        "def get_segments_loudness_max_time(h5,songidx=0):\n",
        "    \"\"\"\n",
        "    Get segments loudness max time array. Takes care of the proper indexing if we are in aggregate\n",
        "    file. By default, return the array for the first song in the h5 file.\n",
        "    To get a regular numpy ndarray, cast the result to: numpy.array( )\n",
        "    \"\"\"\n",
        "    if h5.root.analysis.songs.nrows == songidx + 1:\n",
        "        return h5.root.analysis.segments_loudness_max_time[h5.root.analysis.songs.cols.idx_segments_loudness_max_time[songidx]:]\n",
        "    return h5.root.analysis.segments_loudness_max_time[h5.root.analysis.songs.cols.idx_segments_loudness_max_time[songidx]:\n",
        "                                                       h5.root.analysis.songs.cols.idx_segments_loudness_max_time[songidx+1]]\n",
        "\n",
        "def get_segments_loudness_start(h5,songidx=0):\n",
        "    \"\"\"\n",
        "    Get segments loudness start array. Takes care of the proper indexing if we are in aggregate\n",
        "    file. By default, return the array for the first song in the h5 file.\n",
        "    To get a regular numpy ndarray, cast the result to: numpy.array( )\n",
        "    \"\"\"\n",
        "    if h5.root.analysis.songs.nrows == songidx + 1:\n",
        "        return h5.root.analysis.segments_loudness_start[h5.root.analysis.songs.cols.idx_segments_loudness_start[songidx]:]\n",
        "    return h5.root.analysis.segments_loudness_start[h5.root.analysis.songs.cols.idx_segments_loudness_start[songidx]:\n",
        "                                                    h5.root.analysis.songs.cols.idx_segments_loudness_start[songidx+1]]\n",
        "\n",
        "def get_sections_start(h5,songidx=0):\n",
        "    \"\"\"\n",
        "    Get sections start array. Takes care of the proper indexing if we are in aggregate\n",
        "    file. By default, return the array for the first song in the h5 file.\n",
        "    To get a regular numpy ndarray, cast the result to: numpy.array( )\n",
        "    \"\"\"\n",
        "    if h5.root.analysis.songs.nrows == songidx + 1:\n",
        "        return h5.root.analysis.sections_start[h5.root.analysis.songs.cols.idx_sections_start[songidx]:]\n",
        "    return h5.root.analysis.sections_start[h5.root.analysis.songs.cols.idx_sections_start[songidx]:\n",
        "                                           h5.root.analysis.songs.cols.idx_sections_start[songidx+1]]\n",
        "\n",
        "def get_sections_confidence(h5,songidx=0):\n",
        "    \"\"\"\n",
        "    Get sections confidence array. Takes care of the proper indexing if we are in aggregate\n",
        "    file. By default, return the array for the first song in the h5 file.\n",
        "    To get a regular numpy ndarray, cast the result to: numpy.array( )\n",
        "    \"\"\"\n",
        "    if h5.root.analysis.songs.nrows == songidx + 1:\n",
        "        return h5.root.analysis.sections_confidence[h5.root.analysis.songs.cols.idx_sections_confidence[songidx]:]\n",
        "    return h5.root.analysis.sections_confidence[h5.root.analysis.songs.cols.idx_sections_confidence[songidx]:\n",
        "                                                h5.root.analysis.songs.cols.idx_sections_confidence[songidx+1]]\n",
        "\n",
        "def get_beats_start(h5,songidx=0):\n",
        "    \"\"\"\n",
        "    Get beats start array. Takes care of the proper indexing if we are in aggregate\n",
        "    file. By default, return the array for the first song in the h5 file.\n",
        "    To get a regular numpy ndarray, cast the result to: numpy.array( )\n",
        "    \"\"\"\n",
        "    if h5.root.analysis.songs.nrows == songidx + 1:\n",
        "        return h5.root.analysis.beats_start[h5.root.analysis.songs.cols.idx_beats_start[songidx]:]\n",
        "    return h5.root.analysis.beats_start[h5.root.analysis.songs.cols.idx_beats_start[songidx]:\n",
        "                                        h5.root.analysis.songs.cols.idx_beats_start[songidx+1]]\n",
        "\n",
        "def get_beats_confidence(h5,songidx=0):\n",
        "    \"\"\"\n",
        "    Get beats confidence array. Takes care of the proper indexing if we are in aggregate\n",
        "    file. By default, return the array for the first song in the h5 file.\n",
        "    To get a regular numpy ndarray, cast the result to: numpy.array( )\n",
        "    \"\"\"\n",
        "    if h5.root.analysis.songs.nrows == songidx + 1:\n",
        "        return h5.root.analysis.beats_confidence[h5.root.analysis.songs.cols.idx_beats_confidence[songidx]:]\n",
        "    return h5.root.analysis.beats_confidence[h5.root.analysis.songs.cols.idx_beats_confidence[songidx]:\n",
        "                                             h5.root.analysis.songs.cols.idx_beats_confidence[songidx+1]]\n",
        "\n",
        "def get_bars_start(h5,songidx=0):\n",
        "    \"\"\"\n",
        "    Get bars start array. Takes care of the proper indexing if we are in aggregate\n",
        "    file. By default, return the array for the first song in the h5 file.\n",
        "    To get a regular numpy ndarray, cast the result to: numpy.array( )\n",
        "    \"\"\"\n",
        "    if h5.root.analysis.songs.nrows == songidx + 1:\n",
        "        return h5.root.analysis.bars_start[h5.root.analysis.songs.cols.idx_bars_start[songidx]:]\n",
        "    return h5.root.analysis.bars_start[h5.root.analysis.songs.cols.idx_bars_start[songidx]:\n",
        "                                       h5.root.analysis.songs.cols.idx_bars_start[songidx+1]]\n",
        "\n",
        "def get_bars_confidence(h5,songidx=0):\n",
        "    \"\"\"\n",
        "    Get bars start array. Takes care of the proper indexing if we are in aggregate\n",
        "    file. By default, return the array for the first song in the h5 file.\n",
        "    To get a regular numpy ndarray, cast the result to: numpy.array( )\n",
        "    \"\"\"\n",
        "    if h5.root.analysis.songs.nrows == songidx + 1:\n",
        "        return h5.root.analysis.bars_confidence[h5.root.analysis.songs.cols.idx_bars_confidence[songidx]:]\n",
        "    return h5.root.analysis.bars_confidence[h5.root.analysis.songs.cols.idx_bars_confidence[songidx]:\n",
        "                                            h5.root.analysis.songs.cols.idx_bars_confidence[songidx+1]]\n",
        "\n",
        "def get_tatums_start(h5,songidx=0):\n",
        "    \"\"\"\n",
        "    Get tatums start array. Takes care of the proper indexing if we are in aggregate\n",
        "    file. By default, return the array for the first song in the h5 file.\n",
        "    To get a regular numpy ndarray, cast the result to: numpy.array( )\n",
        "    \"\"\"\n",
        "    if h5.root.analysis.songs.nrows == songidx + 1:\n",
        "        return h5.root.analysis.tatums_start[h5.root.analysis.songs.cols.idx_tatums_start[songidx]:]\n",
        "    return h5.root.analysis.tatums_start[h5.root.analysis.songs.cols.idx_tatums_start[songidx]:\n",
        "                                         h5.root.analysis.songs.cols.idx_tatums_start[songidx+1]]\n",
        "\n",
        "def get_tatums_confidence(h5,songidx=0):\n",
        "    \"\"\"\n",
        "    Get tatums confidence array. Takes care of the proper indexing if we are in aggregate\n",
        "    file. By default, return the array for the first song in the h5 file.\n",
        "    To get a regular numpy ndarray, cast the result to: numpy.array( )\n",
        "    \"\"\"\n",
        "    if h5.root.analysis.songs.nrows == songidx + 1:\n",
        "        return h5.root.analysis.tatums_confidence[h5.root.analysis.songs.cols.idx_tatums_confidence[songidx]:]\n",
        "    return h5.root.analysis.tatums_confidence[h5.root.analysis.songs.cols.idx_tatums_confidence[songidx]:\n",
        "                                              h5.root.analysis.songs.cols.idx_tatums_confidence[songidx+1]]\n",
        "\n",
        "def get_artist_mbtags(h5,songidx=0):\n",
        "    \"\"\"\n",
        "    Get artist musicbrainz tag array. Takes care of the proper indexing if we are in aggregate\n",
        "    file. By default, return the array for the first song in the h5 file.\n",
        "    To get a regular numpy ndarray, cast the result to: numpy.array( )\n",
        "    \"\"\"\n",
        "    if h5.root.musicbrainz.songs.nrows == songidx + 1:\n",
        "        return h5.root.musicbrainz.artist_mbtags[h5.root.musicbrainz.songs.cols.idx_artist_mbtags[songidx]:]\n",
        "    return h5.root.musicbrainz.artist_mbtags[h5.root.metadata.songs.cols.idx_artist_mbtags[songidx]:\n",
        "                                             h5.root.metadata.songs.cols.idx_artist_mbtags[songidx+1]]\n",
        "\n",
        "def get_artist_mbtags_count(h5,songidx=0):\n",
        "    \"\"\"\n",
        "    Get artist musicbrainz tag count array. Takes care of the proper indexing if we are in aggregate\n",
        "    file. By default, return the array for the first song in the h5 file.\n",
        "    To get a regular numpy ndarray, cast the result to: numpy.array( )\n",
        "    \"\"\"\n",
        "    if h5.root.musicbrainz.songs.nrows == songidx + 1:\n",
        "        return h5.root.musicbrainz.artist_mbtags_count[h5.root.musicbrainz.songs.cols.idx_artist_mbtags[songidx]:]\n",
        "    return h5.root.musicbrainz.artist_mbtags_count[h5.root.metadata.songs.cols.idx_artist_mbtags[songidx]:\n",
        "                                                   h5.root.metadata.songs.cols.idx_artist_mbtags[songidx+1]]\n",
        "\n",
        "def get_year(h5,songidx=0):\n",
        "    \"\"\"\n",
        "    Get release year from a HDF5 song file, by default the first song in it\n",
        "    \"\"\"\n",
        "    return h5.root.musicbrainz.songs.cols.year[songidx]\n",
        " \n"
      ],
      "execution_count": 0,
      "outputs": []
    },
    {
      "metadata": {
        "id": "mT8lSCgUklPt",
        "colab_type": "code",
        "colab": {}
      },
      "cell_type": "code",
      "source": [
        "def apply_to_all_files(basedir,func=lambda x: x,ext='.h5'):\n",
        "    \"\"\"\n",
        "    From a base directory, go through all subdirectories,\n",
        "    find all files with the given extension, apply the\n",
        "    given function 'func' to all of them.\n",
        "    If no 'func' is passed, we do nothing except counting.\n",
        "    INPUT\n",
        "       basedir  - base directory of the dataset\n",
        "       func     - function to apply to all filenames\n",
        "       ext      - extension, .h5 by default\n",
        "    RETURN\n",
        "       number of files\n",
        "    \"\"\"\n",
        "    cnt = 0\n",
        "    # iterate over all files in all subdirectories\n",
        "    for root, dirs, files in os.walk(basedir):\n",
        "        files = glob.glob(os.path.join(root,'*'+ext))\n",
        "        # count files\n",
        "        cnt += len(files)\n",
        "        # apply function to all files\n",
        "        for f in files :\n",
        "            func(f)       \n",
        "    return cnt"
      ],
      "execution_count": 0,
      "outputs": []
    },
    {
      "metadata": {
        "id": "jSV7nIXGkopk",
        "colab_type": "code",
        "colab": {}
      },
      "cell_type": "code",
      "source": [
        "def strtimedelta(starttime,stoptime):\n",
        "    return str(datetime.timedelta(seconds=stoptime-starttime))"
      ],
      "execution_count": 0,
      "outputs": []
    },
    {
      "metadata": {
        "id": "aFVfqUDRwE7q",
        "colab_type": "text"
      },
      "cell_type": "markdown",
      "source": [
        "### Extract non Audio"
      ]
    },
    {
      "metadata": {
        "id": "UFFSUcD6KKnP",
        "colab_type": "code",
        "colab": {}
      },
      "cell_type": "code",
      "source": [
        "all_song_id = []\n",
        "all_artist_id=[]\n",
        "all_artist_name=[]\n",
        "all_release=[]\n",
        "all_title=[]\n",
        "all_danceability=[]\n",
        "all_track_id=[]\n",
        "all_year=[]\n",
        "all_similar_artists=[]\n",
        "all_artist_terms=[]\n",
        "all_artist_terms_freq=[]\n",
        "all_artist_terms_weight =[]\n",
        "\n",
        "def nonAudio(filename):\n",
        "    h5 = open_h5_file_read(filename)\n",
        "    tmp = get_song_id(h5)\n",
        "    all_song_id.append(tmp)\n",
        "    tmp = get_artist_id(h5)\n",
        "    all_artist_id.append(tmp)\n",
        "    tmp = get_artist_name(h5)\n",
        "    all_artist_name.append(tmp)\n",
        "    tmp = get_release(h5)\n",
        "    all_release.append(tmp)\n",
        "    tmp = get_title(h5)\n",
        "    all_title.append(tmp)\n",
        "    tmp = get_danceability(h5)\n",
        "    all_danceability.append(tmp)\n",
        "    tmp = get_track_id(h5)\n",
        "    all_track_id.append(tmp)\n",
        "    tmp = get_year(h5)\n",
        "    all_year.append(tmp)\n",
        "    tmp = get_similar_artists(h5)\n",
        "    all_similar_artists.append(tmp)\n",
        "    tmp = get_artist_terms(h5)\n",
        "    all_artist_terms.append(tmp)\n",
        "    tmp = get_artist_terms_freq(h5)\n",
        "    all_artist_terms_freq.append(tmp)\n",
        "    tmp = get_artist_terms_weight(h5)\n",
        "    all_artist_terms_weight.append(tmp)\n",
        "    h5.close()"
      ],
      "execution_count": 0,
      "outputs": []
    },
    {
      "metadata": {
        "id": "-hJMaoRzN_sA",
        "colab_type": "code",
        "outputId": "4b84abec-80a9-48d9-a85d-654841f23ff4",
        "colab": {
          "base_uri": "https://localhost:8080/",
          "height": 34
        }
      },
      "cell_type": "code",
      "source": [
        "count1 = 0\n",
        "count2 = 0\n",
        "for i in all_danceability:\n",
        "    if i == 0:\n",
        "        count1+=1\n",
        "    else:\n",
        "        count2+=1\n",
        "    \n",
        "print(count1,count2)"
      ],
      "execution_count": 9,
      "outputs": [
        {
          "output_type": "stream",
          "text": [
            "0 0\n"
          ],
          "name": "stdout"
        }
      ]
    },
    {
      "metadata": {
        "id": "C-XPxYqrNtCv",
        "colab_type": "text"
      },
      "cell_type": "markdown",
      "source": [
        "Change *smallset* to* msd_subset_data_path* to apply function to whole subset $\\rightarrow$ will take ages"
      ]
    },
    {
      "metadata": {
        "id": "89JtQ1IcLlpl",
        "colab_type": "code",
        "colab": {}
      },
      "cell_type": "code",
      "source": [
        "t1 = time.time()\n",
        "apply_to_all_files(msd_subset_data_path,func=nonAudio)\n",
        "t2 = time.time()\n",
        "print(t2-t1)"
      ],
      "execution_count": 0,
      "outputs": []
    },
    {
      "metadata": {
        "id": "15WfejhJ_nNh",
        "colab_type": "code",
        "colab": {}
      },
      "cell_type": "code",
      "source": [
        "nonAudio = [all_artist_id,\n",
        "all_artist_name,\n",
        "all_release,\n",
        "all_title,\n",
        "all_danceability,\n",
        "all_track_id,\n",
        "all_year,\n",
        "all_similar_artists,\n",
        "all_artist_terms,\n",
        "all_artist_terms_freq,\n",
        "all_artist_terms_weight]\n",
        "\n",
        "nonAudioLabels = ['artist_id',\n",
        "'artist_name',\n",
        "'release',\n",
        "'title',\n",
        "'danceability',\n",
        "'track_id',\n",
        "'year',\n",
        "'similar_artists',\n",
        "'artist_terms',\n",
        "'artist_terms_freq',\n",
        "'artist_terms_weight']\n",
        "\n",
        "dataNonAudio = pd.DataFrame(nonAudio,index = nonAudioLabels, columns = all_song_id)\n",
        "nonAudioData = dataNonAudio.transpose()\n",
        "#nonAudioData = nonAudioData[~nonAudioData.index.duplicated(keep='first')]"
      ],
      "execution_count": 0,
      "outputs": []
    },
    {
      "metadata": {
        "id": "p0La72QKMhzI",
        "colab_type": "code",
        "outputId": "0d2cf8b5-ab13-4102-8d9d-cf6e20129d10",
        "colab": {
          "base_uri": "https://localhost:8080/",
          "height": 374
        }
      },
      "cell_type": "code",
      "source": [
        "nonAudioData.head()"
      ],
      "execution_count": 296,
      "outputs": [
        {
          "output_type": "execute_result",
          "data": {
            "text/html": [
              "<div>\n",
              "<style scoped>\n",
              "    .dataframe tbody tr th:only-of-type {\n",
              "        vertical-align: middle;\n",
              "    }\n",
              "\n",
              "    .dataframe tbody tr th {\n",
              "        vertical-align: top;\n",
              "    }\n",
              "\n",
              "    .dataframe thead th {\n",
              "        text-align: right;\n",
              "    }\n",
              "</style>\n",
              "<table border=\"1\" class=\"dataframe\">\n",
              "  <thead>\n",
              "    <tr style=\"text-align: right;\">\n",
              "      <th></th>\n",
              "      <th>artist_id</th>\n",
              "      <th>artist_name</th>\n",
              "      <th>release</th>\n",
              "      <th>title</th>\n",
              "      <th>danceability</th>\n",
              "      <th>track_id</th>\n",
              "      <th>year</th>\n",
              "      <th>similar_artists</th>\n",
              "      <th>artist_terms</th>\n",
              "      <th>artist_terms_freq</th>\n",
              "      <th>artist_terms_weight</th>\n",
              "    </tr>\n",
              "  </thead>\n",
              "  <tbody>\n",
              "    <tr>\n",
              "      <th>b'SOCIWDW12A8C13D406'</th>\n",
              "      <td>b'ARMJAGH1187FB546F3'</td>\n",
              "      <td>b'The Box Tops'</td>\n",
              "      <td>b'Dimensions'</td>\n",
              "      <td>b'Soul Deep'</td>\n",
              "      <td>0</td>\n",
              "      <td>b'TRAAABD128F429CF47'</td>\n",
              "      <td>1969</td>\n",
              "      <td>[b'ARSZWK21187B9B26D7', b'ARLDW2Y1187B9B544F',...</td>\n",
              "      <td>[b'blue-eyed soul', b'pop rock', b'blues-rock'...</td>\n",
              "      <td>[1.0, 0.8931999928346939, 0.7860602885494408, ...</td>\n",
              "      <td>[1.0, 0.8459884034332037, 0.8306895698215381, ...</td>\n",
              "    </tr>\n",
              "    <tr>\n",
              "      <th>b'SOMJBYD12A6D4F8557'</th>\n",
              "      <td>b'ARD0S291187B9B7BF5'</td>\n",
              "      <td>b'Rated R'</td>\n",
              "      <td>b'Da Ghetto Psychic'</td>\n",
              "      <td>b'Keepin It Real (Skit)'</td>\n",
              "      <td>0</td>\n",
              "      <td>b'TRAAAMQ128F1460CD3'</td>\n",
              "      <td>0</td>\n",
              "      <td>[b'ARF93II1187B99F981', b'ART6ONC11C8A421DB9',...</td>\n",
              "      <td>[b'breakbeat', b'dirty south rap', b'hip hop',...</td>\n",
              "      <td>[1.0, 0.8386187613378114, 0.9353130749575775, ...</td>\n",
              "      <td>[1.0, 0.9258286857243918, 0.8650794411328923, ...</td>\n",
              "    </tr>\n",
              "    <tr>\n",
              "      <th>b'SONHOTT12A8C13493C'</th>\n",
              "      <td>b'AR7G5I41187FB4CE6C'</td>\n",
              "      <td>b'Adam Ant'</td>\n",
              "      <td>b'Friend Or Foe'</td>\n",
              "      <td>b'Something Girls'</td>\n",
              "      <td>0</td>\n",
              "      <td>b'TRAAAEF128F4273421'</td>\n",
              "      <td>1982</td>\n",
              "      <td>[b'AR4R0741187FB39AF2', b'AR0D7K21187B9AD14E',...</td>\n",
              "      <td>[b'pop rock', b'new wave', b'dance rock', b'ro...</td>\n",
              "      <td>[0.9885838625154639, 0.9672504640243684, 0.820...</td>\n",
              "      <td>[1.0, 0.9636972066614938, 0.9267729972686404, ...</td>\n",
              "    </tr>\n",
              "    <tr>\n",
              "      <th>b'SOXVLOJ12AB0189215'</th>\n",
              "      <td>b'ARKRRTF1187B9984DA'</td>\n",
              "      <td>b'Sonora Santanera'</td>\n",
              "      <td>b'Las Numero 1 De La Sonora Santanera'</td>\n",
              "      <td>b'Amor De Cabaret'</td>\n",
              "      <td>0</td>\n",
              "      <td>b'TRAAADZ128F9348C2E'</td>\n",
              "      <td>0</td>\n",
              "      <td>[b'ARFSJUG11C8A421AAD', b'AR8SD041187FB36015',...</td>\n",
              "      <td>[b'salsa', b'cumbia', b'tejano', b'ranchera', ...</td>\n",
              "      <td>[1.0, 0.9422390717941641, 0.9422390717941641, ...</td>\n",
              "      <td>[1.0, 0.9582578450180738, 0.9582578450180738, ...</td>\n",
              "    </tr>\n",
              "    <tr>\n",
              "      <th>b'SOMZWCG12A8C13C480'</th>\n",
              "      <td>b'ARD7TVE1187B99BFB1'</td>\n",
              "      <td>b'Casual'</td>\n",
              "      <td>b'Fear Itself'</td>\n",
              "      <td>b\"I Didn't Mean To\"</td>\n",
              "      <td>0</td>\n",
              "      <td>b'TRAAAAW128F429D538'</td>\n",
              "      <td>0</td>\n",
              "      <td>[b'ARV4KO21187FB38008', b'ARWHM281187FB3D381',...</td>\n",
              "      <td>[b'hip hop', b'underground rap', b'g funk', b'...</td>\n",
              "      <td>[1.0, 0.7761362332679642, 0.7296697949672141, ...</td>\n",
              "      <td>[1.0, 0.8979359555142553, 0.8842618474718359, ...</td>\n",
              "    </tr>\n",
              "  </tbody>\n",
              "</table>\n",
              "</div>"
            ],
            "text/plain": [
              "                                   artist_id          artist_name  \\\n",
              "b'SOCIWDW12A8C13D406'  b'ARMJAGH1187FB546F3'      b'The Box Tops'   \n",
              "b'SOMJBYD12A6D4F8557'  b'ARD0S291187B9B7BF5'           b'Rated R'   \n",
              "b'SONHOTT12A8C13493C'  b'AR7G5I41187FB4CE6C'          b'Adam Ant'   \n",
              "b'SOXVLOJ12AB0189215'  b'ARKRRTF1187B9984DA'  b'Sonora Santanera'   \n",
              "b'SOMZWCG12A8C13C480'  b'ARD7TVE1187B99BFB1'            b'Casual'   \n",
              "\n",
              "                                                      release  \\\n",
              "b'SOCIWDW12A8C13D406'                           b'Dimensions'   \n",
              "b'SOMJBYD12A6D4F8557'                    b'Da Ghetto Psychic'   \n",
              "b'SONHOTT12A8C13493C'                        b'Friend Or Foe'   \n",
              "b'SOXVLOJ12AB0189215'  b'Las Numero 1 De La Sonora Santanera'   \n",
              "b'SOMZWCG12A8C13C480'                          b'Fear Itself'   \n",
              "\n",
              "                                          title danceability  \\\n",
              "b'SOCIWDW12A8C13D406'              b'Soul Deep'            0   \n",
              "b'SOMJBYD12A6D4F8557'  b'Keepin It Real (Skit)'            0   \n",
              "b'SONHOTT12A8C13493C'        b'Something Girls'            0   \n",
              "b'SOXVLOJ12AB0189215'        b'Amor De Cabaret'            0   \n",
              "b'SOMZWCG12A8C13C480'       b\"I Didn't Mean To\"            0   \n",
              "\n",
              "                                    track_id  year  \\\n",
              "b'SOCIWDW12A8C13D406'  b'TRAAABD128F429CF47'  1969   \n",
              "b'SOMJBYD12A6D4F8557'  b'TRAAAMQ128F1460CD3'     0   \n",
              "b'SONHOTT12A8C13493C'  b'TRAAAEF128F4273421'  1982   \n",
              "b'SOXVLOJ12AB0189215'  b'TRAAADZ128F9348C2E'     0   \n",
              "b'SOMZWCG12A8C13C480'  b'TRAAAAW128F429D538'     0   \n",
              "\n",
              "                                                         similar_artists  \\\n",
              "b'SOCIWDW12A8C13D406'  [b'ARSZWK21187B9B26D7', b'ARLDW2Y1187B9B544F',...   \n",
              "b'SOMJBYD12A6D4F8557'  [b'ARF93II1187B99F981', b'ART6ONC11C8A421DB9',...   \n",
              "b'SONHOTT12A8C13493C'  [b'AR4R0741187FB39AF2', b'AR0D7K21187B9AD14E',...   \n",
              "b'SOXVLOJ12AB0189215'  [b'ARFSJUG11C8A421AAD', b'AR8SD041187FB36015',...   \n",
              "b'SOMZWCG12A8C13C480'  [b'ARV4KO21187FB38008', b'ARWHM281187FB3D381',...   \n",
              "\n",
              "                                                            artist_terms  \\\n",
              "b'SOCIWDW12A8C13D406'  [b'blue-eyed soul', b'pop rock', b'blues-rock'...   \n",
              "b'SOMJBYD12A6D4F8557'  [b'breakbeat', b'dirty south rap', b'hip hop',...   \n",
              "b'SONHOTT12A8C13493C'  [b'pop rock', b'new wave', b'dance rock', b'ro...   \n",
              "b'SOXVLOJ12AB0189215'  [b'salsa', b'cumbia', b'tejano', b'ranchera', ...   \n",
              "b'SOMZWCG12A8C13C480'  [b'hip hop', b'underground rap', b'g funk', b'...   \n",
              "\n",
              "                                                       artist_terms_freq  \\\n",
              "b'SOCIWDW12A8C13D406'  [1.0, 0.8931999928346939, 0.7860602885494408, ...   \n",
              "b'SOMJBYD12A6D4F8557'  [1.0, 0.8386187613378114, 0.9353130749575775, ...   \n",
              "b'SONHOTT12A8C13493C'  [0.9885838625154639, 0.9672504640243684, 0.820...   \n",
              "b'SOXVLOJ12AB0189215'  [1.0, 0.9422390717941641, 0.9422390717941641, ...   \n",
              "b'SOMZWCG12A8C13C480'  [1.0, 0.7761362332679642, 0.7296697949672141, ...   \n",
              "\n",
              "                                                     artist_terms_weight  \n",
              "b'SOCIWDW12A8C13D406'  [1.0, 0.8459884034332037, 0.8306895698215381, ...  \n",
              "b'SOMJBYD12A6D4F8557'  [1.0, 0.9258286857243918, 0.8650794411328923, ...  \n",
              "b'SONHOTT12A8C13493C'  [1.0, 0.9636972066614938, 0.9267729972686404, ...  \n",
              "b'SOXVLOJ12AB0189215'  [1.0, 0.9582578450180738, 0.9582578450180738, ...  \n",
              "b'SOMZWCG12A8C13C480'  [1.0, 0.8979359555142553, 0.8842618474718359, ...  "
            ]
          },
          "metadata": {
            "tags": []
          },
          "execution_count": 296
        }
      ]
    },
    {
      "metadata": {
        "id": "nispdxVmkr6V",
        "colab_type": "text"
      },
      "cell_type": "markdown",
      "source": [
        "###Extract Audio"
      ]
    },
    {
      "metadata": {
        "id": "oJbjbUvIkt-P",
        "colab_type": "code",
        "colab": {}
      },
      "cell_type": "code",
      "source": [
        "all_analysis_sample_rate = []\n",
        "all_tempo = []\n",
        "all_time_signature = []\n",
        "all_segments_pitches= []\n",
        "all_segments_timbre= []\n",
        "all_segments_loudness_max= []\n",
        "all_song_id = []\n",
        "\n",
        "def extractAudio(filename): \n",
        "  \n",
        "    h5 = open_h5_file_read(filename)\n",
        "    tmp = get_song_id(h5)\n",
        "    all_song_id.append(tmp)\n",
        "    tmp = get_analysis_sample_rate(h5)\n",
        "    all_analysis_sample_rate.append(tmp)\n",
        "    tmp = get_time_signature(h5)\n",
        "    all_time_signature.append(tmp)\n",
        "    tmp = get_tempo(h5)\n",
        "    all_tempo.append(tmp)\n",
        "    tmp = get_segments_pitches(h5)\n",
        "    all_segments_pitches.append(tmp)\n",
        "    tmp = get_segments_timbre(h5) \n",
        "    all_segments_timbre.append(tmp)\n",
        "    tmp = get_segments_loudness_max(h5)\n",
        "    all_segments_loudness_max.append(tmp)\n",
        "    h5.close()    "
      ],
      "execution_count": 0,
      "outputs": []
    },
    {
      "metadata": {
        "id": "qQ9sGBRcnp2j",
        "colab_type": "text"
      },
      "cell_type": "markdown",
      "source": [
        "run for a small subset"
      ]
    },
    {
      "metadata": {
        "id": "3P_VGbFgnDBc",
        "colab_type": "code",
        "colab": {}
      },
      "cell_type": "code",
      "source": [
        "t1 = time.time()\n",
        "apply_to_all_files(msd_subset_data_path,func=extractAudio)\n",
        "t2 = time.time()"
      ],
      "execution_count": 0,
      "outputs": []
    },
    {
      "metadata": {
        "id": "seeGM_y9nsLj",
        "colab_type": "text"
      },
      "cell_type": "markdown",
      "source": [
        "run for the whole subset"
      ]
    },
    {
      "metadata": {
        "id": "VL-iTZSNnuix",
        "colab_type": "code",
        "colab": {}
      },
      "cell_type": "code",
      "source": [
        "t1 = time.time()\n",
        "apply_to_all_files(msd_subset_data_path,func=extractAudio)\n",
        "t2 = time.time()"
      ],
      "execution_count": 0,
      "outputs": []
    },
    {
      "metadata": {
        "id": "bsCMMN9XmTFS",
        "colab_type": "text"
      },
      "cell_type": "markdown",
      "source": [
        "Extracting the features"
      ]
    },
    {
      "metadata": {
        "id": "Q2V2Gm8rlxzw",
        "colab_type": "code",
        "colab": {}
      },
      "cell_type": "code",
      "source": [
        "Audio = [\n",
        "    all_analysis_sample_rate,\n",
        "    all_time_signature,\n",
        "    all_tempo,\n",
        "    all_segments_pitches,\n",
        "    all_segments_timbre, #pure mfcc\n",
        "    all_segments_loudness_max\n",
        "]\n",
        "AudioLabels = [\n",
        "    'analysis_sample_rate',\n",
        "    'time_signature',\n",
        "    'tempo',\n",
        "    'segments_pitches',\n",
        "    'segments_timbre', #pure mfcc\n",
        "    'segments_loudness_max'\n",
        "]"
      ],
      "execution_count": 0,
      "outputs": []
    },
    {
      "metadata": {
        "id": "eidfcN68mpQ-",
        "colab_type": "code",
        "colab": {}
      },
      "cell_type": "code",
      "source": [
        "dataAudio = pd.DataFrame(Audio,index = AudioLabels, columns = all_song_id)\n",
        "audioData = dataAudio.transpose()"
      ],
      "execution_count": 0,
      "outputs": []
    },
    {
      "metadata": {
        "id": "eDDKzWNAmwCP",
        "colab_type": "code",
        "outputId": "d1512c02-49d9-4810-f95f-e457464a7633",
        "colab": {
          "base_uri": "https://localhost:8080/",
          "height": 164
        }
      },
      "cell_type": "code",
      "source": [
        "audioData.head()"
      ],
      "execution_count": 0,
      "outputs": [
        {
          "output_type": "error",
          "ename": "NameError",
          "evalue": "ignored",
          "traceback": [
            "\u001b[0;31m---------------------------------------------------------------------------\u001b[0m",
            "\u001b[0;31mNameError\u001b[0m                                 Traceback (most recent call last)",
            "\u001b[0;32m<ipython-input-152-a5cee6dbbd77>\u001b[0m in \u001b[0;36m<module>\u001b[0;34m()\u001b[0m\n\u001b[0;32m----> 1\u001b[0;31m \u001b[0maudioData\u001b[0m\u001b[0;34m.\u001b[0m\u001b[0mhead\u001b[0m\u001b[0;34m(\u001b[0m\u001b[0;34m)\u001b[0m\u001b[0;34m\u001b[0m\u001b[0;34m\u001b[0m\u001b[0m\n\u001b[0m",
            "\u001b[0;31mNameError\u001b[0m: name 'audioData' is not defined"
          ]
        }
      ]
    },
    {
      "metadata": {
        "id": "IvTqI9cXC05z",
        "colab_type": "text"
      },
      "cell_type": "markdown",
      "source": [
        "## Get training and test indices\n"
      ]
    },
    {
      "metadata": {
        "id": "0B1tlt9lRDPq",
        "colab_type": "code",
        "colab": {}
      },
      "cell_type": "code",
      "source": [
        "def get_prev(tag_list):\n",
        "    if len(tag_list)>0:\n",
        "        prev = tag_list[0]\n",
        "    else:\n",
        "        prev = b'other'\n",
        "    return prev"
      ],
      "execution_count": 0,
      "outputs": []
    },
    {
      "metadata": {
        "id": "xQ005lp98i2z",
        "colab_type": "code",
        "colab": {}
      },
      "cell_type": "code",
      "source": [
        "def add_prevalent_tag(df):\n",
        "    \"\"\"Adds the prevalent tag/artist_term/genre as a column\"\"\"\n",
        "    # Adds a column with the highest weighted tag\n",
        "    df = df.assign(prevalent_tag=df.apply(lambda song: get_prev(song.loc['artist_terms']), axis=1))\n",
        "    # Get array of all prevalent tags (all_tags)\n",
        "    all_tags = df['prevalent_tag'].values\n",
        "    i = 0\n",
        "    for index, song in df.iterrows():\n",
        "        # Delete prevalent term of that song from array\n",
        "        all_tags[i] = None\n",
        "        # Go through song_tags until you find a tag that already occurs for \n",
        "        # another song or end of song_tags\n",
        "        song_tags = song['artist_terms']\n",
        "        single = True\n",
        "        j = 0\n",
        "        while single and j<len(song_tags):\n",
        "            new_tag = song_tags[j]\n",
        "            j += 1\n",
        "            if new_tag in all_tags:\n",
        "                single = False\n",
        "        if single:\n",
        "            new_tag = b'other'\n",
        "        df.iloc[i]['prevalent_tag'] = new_tag \n",
        "        all_tags[i] = new_tag\n",
        "        i += 1\n",
        "    return df"
      ],
      "execution_count": 0,
      "outputs": []
    },
    {
      "metadata": {
        "id": "SESdkiEwOsff",
        "colab_type": "code",
        "colab": {}
      },
      "cell_type": "code",
      "source": [
        "data = nonAudioData.copy()\n",
        "with_prev = add_prevalent_tag(data)\n",
        "#print(add_prevalent_tag(data))\n"
      ],
      "execution_count": 0,
      "outputs": []
    },
    {
      "metadata": {
        "id": "j6fWK7j7Dru5",
        "colab_type": "code",
        "colab": {}
      },
      "cell_type": "code",
      "source": [
        "def get_train_test_split(df, test_size=0.2, stratify=True):\n",
        "    \"\"\"Returns train and test split\"\"\"\n",
        "    if stratify:\n",
        "        split = train_test_split(df, test_size=test_size, shuffle=True, stratify=df['prevalent_tag'])\n",
        "    else: \n",
        "        split = train_test_split(df, test_size=test_size, shuffle=True)\n",
        "    return split"
      ],
      "execution_count": 0,
      "outputs": []
    },
    {
      "metadata": {
        "id": "lMw-kU4tJbbV",
        "colab_type": "code",
        "colab": {}
      },
      "cell_type": "code",
      "source": [
        "def save_train_test_split(data):\n",
        "    \"\"\"Saves the IDs for training and testing data in a .npy file.\n",
        "    Stratifies according to the prevalent tag/genre\"\"\"\n",
        "    df = data.copy()\n",
        "    add_prevalent_tag(df)\n",
        "    train, test = get_train_test_split(df, stratify=False)\n",
        "    train_indices = list(train.index)\n",
        "    test_indices = list(test.index)\n",
        "    np.save('/content/drive/My Drive/IR/Dataprocessing/TrainTestSplit/TrainIndicesNew', train_indices)\n",
        "    np.save('/content/drive/My Drive/IR/Dataprocessing/TrainTestSplit/TestIndicesNew', test_indices)"
      ],
      "execution_count": 0,
      "outputs": []
    },
    {
      "metadata": {
        "id": "3PjY-tykHdSv",
        "colab_type": "code",
        "colab": {}
      },
      "cell_type": "code",
      "source": [
        "save_train_test_split(nonAudioData)"
      ],
      "execution_count": 0,
      "outputs": []
    },
    {
      "metadata": {
        "id": "H6qE4_3WNU2R",
        "colab_type": "code",
        "colab": {}
      },
      "cell_type": "code",
      "source": [
        "train_ids = np.load('/content/drive/My Drive/IR/Dataprocessing/TrainTestSplit/TrainIndices.npy')\n",
        "train_data = nonAudioData.loc[train_ids]"
      ],
      "execution_count": 0,
      "outputs": []
    },
    {
      "metadata": {
        "id": "MsHOMX9LYPme",
        "colab_type": "text"
      },
      "cell_type": "markdown",
      "source": [
        "## Get evaluation playlist\n",
        "Use **get_all_tags(nonAudioData)** to get all possible tags \\\\\n",
        "Use **get_playlist(nonAudioData, tag, max_length)** to get a playlist with desired length sorted by tag_weight for given tag"
      ]
    },
    {
      "metadata": {
        "id": "JKCEfD_6e93K",
        "colab_type": "code",
        "colab": {}
      },
      "cell_type": "code",
      "source": [
        "def get_all_tags(df):\n",
        "    \"\"\"Returns a list of all tags/artist_terms\"\"\"\n",
        "    return list(set(np.concatenate(df['artist_terms'].values)))"
      ],
      "execution_count": 0,
      "outputs": []
    },
    {
      "metadata": {
        "id": "MI9dBIN8lkNZ",
        "colab_type": "code",
        "colab": {}
      },
      "cell_type": "code",
      "source": [
        "from collections import Counter\n",
        "from itertools import repeat, chain\n"
      ],
      "execution_count": 0,
      "outputs": []
    },
    {
      "metadata": {
        "id": "dklcf7rRiiJK",
        "colab_type": "code",
        "colab": {}
      },
      "cell_type": "code",
      "source": [
        "def get_common_tags(df):\n",
        "    df = add_prevalent_tag(df)\n",
        "    tags = df.loc[:,'prevalent_tag'].values\n",
        "    sorted_tags = list(chain.from_iterable(repeat(i, c) for i,c in Counter(tags).most_common()))\n",
        "    prev_tag = None\n",
        "    unique_sorted_tags = []\n",
        "    for tag in sorted_tags:\n",
        "        if prev_tag != tag:\n",
        "            unique_sorted_tags.append(tag)\n",
        "            prev_tag = tag\n",
        "    return unique_sorted_tags[:100]"
      ],
      "execution_count": 0,
      "outputs": []
    },
    {
      "metadata": {
        "id": "QMWRj057i-_W",
        "colab_type": "code",
        "colab": {}
      },
      "cell_type": "code",
      "source": [
        "def get_songs_with_tag(df, tag):\n",
        "    \"\"\"Returns a DataFrame containing all songs that were tagged with a given\n",
        "    tag/artist_term.\"\"\"\n",
        "    mask = []\n",
        "    for tags in df['artist_terms'].values:\n",
        "        if tag in tags:\n",
        "            mask.append(True)\n",
        "        else:\n",
        "            mask.append(False)\n",
        "    return df[mask]\n",
        "\n",
        "\n",
        "#example use: get_songs_with_tag(nonAudioData, b'jazz')"
      ],
      "execution_count": 0,
      "outputs": []
    },
    {
      "metadata": {
        "id": "Wwcbn8XX3_Vb",
        "colab_type": "code",
        "colab": {}
      },
      "cell_type": "code",
      "source": [
        "def get_tag_weight(song, tag):\n",
        "    \"\"\"Returns the tag_weight/artist_term_weight for a given song and a given tag/artist_term\"\"\"\n",
        "    tags = song['artist_terms']\n",
        "    tag_weights = song['artist_terms_weight']\n",
        "    return tag_weights[list(tags).index(tag)]"
      ],
      "execution_count": 0,
      "outputs": []
    },
    {
      "metadata": {
        "id": "bd0CK6W_pVyJ",
        "colab_type": "code",
        "colab": {}
      },
      "cell_type": "code",
      "source": [
        "def get_genre_playlist(df, tag, max_length=10):\n",
        "    \"\"\"Returns a playlist with desired length sorted by tag_weight/artist_term_weight for a \n",
        "    given tag/artist term\"\"\"\n",
        "    # get all songs with the given tag\n",
        "    playlist = get_songs_with_tag(df, tag)\n",
        "    # create new column with weight of given tag\n",
        "    playlist = playlist.assign(weight=playlist.apply(lambda x: get_tag_weight(x, tag), axis=1))\n",
        "    # sort by tag weight\n",
        "    playlist = playlist.sort_values(by=\"weight\", ascending=False)\n",
        "    # clip after max_length songs\n",
        "    short_playlist = playlist.iloc[:max_length]\n",
        "    return short_playlist"
      ],
      "execution_count": 0,
      "outputs": []
    },
    {
      "metadata": {
        "id": "4DwI5IQKW77t",
        "colab_type": "code",
        "colab": {}
      },
      "cell_type": "code",
      "source": [
        "common_tags = get_common_tags(nonAudioData)\n",
        "\n",
        "def get_playlist(df, length=100):\n",
        "    \"\"\"Returns a playlist with desired length with songs from several random genres\"\"\"\n",
        "    print('4.1')\n",
        "\n",
        "    playlist = pd.DataFrame()\n",
        "    playlist_tags = []\n",
        "    nb_tags = len(common_tags)\n",
        "    print('4.2')\n",
        "\n",
        "    while len(playlist)<length:\n",
        "        # Get a random tag and remove it from common_tags (so it won't be reused)\n",
        "        random_tag = random.choice(common_tags)\n",
        "        playlist_tags.append(random_tag)\n",
        "        common_tags.remove(random_tag)        \n",
        "        # Get playlist for the random tag\n",
        "        max_length = min(length - len(playlist), 20)\n",
        "        print('4.3.1')\n",
        "        genre_playlist = get_genre_playlist(df, random_tag, max_length=max_length)\n",
        "        # Add genre playlist to playlist\n",
        "        print('4.3.2')\n",
        "        playlist = playlist.append(genre_playlist)\n",
        "    print('4.3')\n",
        "    playlist = playlist.drop('weight', axis=1)\n",
        "    return playlist, playlist_tags\n"
      ],
      "execution_count": 0,
      "outputs": []
    },
    {
      "metadata": {
        "id": "34rYfFPJKxuw",
        "colab_type": "text"
      },
      "cell_type": "markdown",
      "source": [
        "## K-means clustering"
      ]
    },
    {
      "metadata": {
        "id": "FJ9-i0pSK7If",
        "colab_type": "code",
        "colab": {}
      },
      "cell_type": "code",
      "source": [
        "from sklearn.cluster import KMeans\n",
        "from scipy.spatial.distance import pdist\n",
        "import numpy as np"
      ],
      "execution_count": 0,
      "outputs": []
    },
    {
      "metadata": {
        "id": "b3HdsM3A-qNE",
        "colab_type": "code",
        "colab": {}
      },
      "cell_type": "code",
      "source": [
        "def get_dist(centroid, latent):\n",
        "    X = np.transpose(np.stack((centroid, latent), axis=1))\n",
        "    #print(pdist(X))\n",
        "    return pdist(X)[0]"
      ],
      "execution_count": 0,
      "outputs": []
    },
    {
      "metadata": {
        "id": "4rii4TuWLDW7",
        "colab_type": "code",
        "outputId": "ef203a5d-91ef-4ce1-cb77-56d541d639d7",
        "colab": {
          "base_uri": "https://localhost:8080/",
          "height": 232
        }
      },
      "cell_type": "code",
      "source": [
        "songs_per_playlist = 100\n",
        "n_clusters = 5\n",
        "\n",
        "# Load latents (containing 4 duplicates)\n",
        "latents = np.load(msd_code_path+'/Latent features/latent_features.npy')\n",
        "\n",
        "print('1')\n",
        "# Get test_data (containing 4 duplicates)\n",
        "test_ids = np.load('/content/drive/My Drive/IR/Dataprocessing/TrainTestSplit/TestIndices.npy') # (2002,), every id being unique\n",
        "test_data = nonAudioData.loc[test_ids] #(2006, 11)\n",
        "\n",
        "print('2')\n",
        "\n",
        "# Eliminate duplicates\n",
        "duplicate_test_ids = test_data.index.get_duplicates() #gets 4 duplicates\n",
        "duplicate_test_indices = np.array([np.where(test_data.index.get_loc(id))[0].tolist() for id in duplicate_test_ids]) #gets 8 positions of duplicates\n",
        "latents = np.delete(latents, duplicate_test_indices, axis=0) # (1998, 20)\n",
        "test_data = test_data.drop(duplicate_test_ids) #(1998, 11)\n",
        "test_ids = test_data.index # (1998,)\n",
        "\n",
        "print('3')\n",
        "# Insert latents as columns in test_df\n",
        "latent_df = pd.DataFrame(latents, index=test_ids)\n",
        "test_df = pd.concat([test_data, latent_df], axis=1) # (1998, 31)\n",
        "\n",
        "print('4')\n",
        "\n",
        "# Get playlist\n",
        "playlist, tags = get_playlist(test_df, length=100)\n",
        "print('Playlist based on tags: ', tags)\n",
        "\n",
        "print('5')\n",
        "\n",
        "\n",
        "# Split playlist into input and left_out songs\n",
        "input_songs = playlist.iloc[:90] # (90, 31)\n",
        "left_out_songs = playlist.iloc[90:]\n",
        "\n",
        "# Get all non_input_songs\n",
        "non_input_songs = test_df.drop(input_songs.index, axis=0) #(1911, 31)\n",
        "print('6')\n",
        "\n",
        "# Fit clusters and get centroids\n",
        "kmeans = KMeans(n_clusters=n_clusters).fit(input_songs[np.arange(20)])\n",
        "centroids = kmeans.cluster_centers_\n",
        "print('7')\n",
        "\n",
        "# Count the number of songs that were recommended and in the left out songs from the playlist\n",
        "nb_correct = 0\n",
        "recommendations = pd.DataFrame()\n",
        "\n",
        "for centroid in centroids:\n",
        "    # Save distance to current centroid in column dist\n",
        "    non_input_songs.loc[:, 'dist'] = non_input_songs.apply(lambda row: get_dist(centroid, row.loc[np.arange(20)].values), axis=1)\n",
        "    \n",
        "    # Get closest song to centroid and recommend it\n",
        "    recommendation = non_input_songs.loc[non_input_songs.loc[:, 'dist'].idxmin(axis=0)]\n",
        "    print(non_input_songs.shape)\n",
        "    non_input_songs = non_input_songs.drop(recommendation, axis=0)\n",
        "    print(non_input_songs.shape)\n",
        "    print('Recommendation: ',recommendation.title, 'by', recommendation.artist_name)\n",
        "\n",
        "    # Increase nb_correct\n",
        "    if recommendation.index.str in left_out_songs.index:\n",
        "        nb_correct += 1\n",
        "        print('In left outs!')\n",
        "    \n",
        "    \n",
        "    # Compare latent recommendation to latent left_outs\n",
        "\n",
        "    #\n",
        "print(non_input_songs.dist)   \n",
        "# compute accuracy"
      ],
      "execution_count": 1,
      "outputs": [
        {
          "output_type": "error",
          "ename": "NameError",
          "evalue": "ignored",
          "traceback": [
            "\u001b[0;31m---------------------------------------------------------------------------\u001b[0m",
            "\u001b[0;31mNameError\u001b[0m                                 Traceback (most recent call last)",
            "\u001b[0;32m<ipython-input-1-d561f55d8f91>\u001b[0m in \u001b[0;36m<module>\u001b[0;34m()\u001b[0m\n\u001b[1;32m      3\u001b[0m \u001b[0;34m\u001b[0m\u001b[0m\n\u001b[1;32m      4\u001b[0m \u001b[0;31m# Load latents (containing 4 duplicates)\u001b[0m\u001b[0;34m\u001b[0m\u001b[0;34m\u001b[0m\u001b[0;34m\u001b[0m\u001b[0m\n\u001b[0;32m----> 5\u001b[0;31m \u001b[0mlatents\u001b[0m \u001b[0;34m=\u001b[0m \u001b[0mnp\u001b[0m\u001b[0;34m.\u001b[0m\u001b[0mload\u001b[0m\u001b[0;34m(\u001b[0m\u001b[0mmsd_code_path\u001b[0m\u001b[0;34m+\u001b[0m\u001b[0;34m'/Latent features/latent_features.npy'\u001b[0m\u001b[0;34m)\u001b[0m\u001b[0;34m\u001b[0m\u001b[0;34m\u001b[0m\u001b[0m\n\u001b[0m\u001b[1;32m      6\u001b[0m \u001b[0;34m\u001b[0m\u001b[0m\n\u001b[1;32m      7\u001b[0m \u001b[0mprint\u001b[0m\u001b[0;34m(\u001b[0m\u001b[0;34m'1'\u001b[0m\u001b[0;34m)\u001b[0m\u001b[0;34m\u001b[0m\u001b[0;34m\u001b[0m\u001b[0m\n",
            "\u001b[0;31mNameError\u001b[0m: name 'np' is not defined"
          ]
        }
      ]
    },
    {
      "metadata": {
        "id": "kc8YcMwYv8pM",
        "colab_type": "text"
      },
      "cell_type": "markdown",
      "source": [
        "# Evaluation"
      ]
    }
  ]
}