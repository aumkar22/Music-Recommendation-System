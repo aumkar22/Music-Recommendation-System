{
  "nbformat": 4,
  "nbformat_minor": 0,
  "metadata": {
    "colab": {
      "name": "GetData.ipynb",
      "version": "0.3.2",
      "provenance": [],
      "collapsed_sections": []
    },
    "kernelspec": {
      "name": "python3",
      "display_name": "Python 3"
    },
    "accelerator": "TPU"
  },
  "cells": [
    {
      "metadata": {
        "id": "view-in-github",
        "colab_type": "text"
      },
      "cell_type": "markdown",
      "source": [
        "<a href=\"https://colab.research.google.com/github/aumkar22/Music-Recommendation-System/blob/master/GetData.ipynb\" target=\"_parent\"><img src=\"https://colab.research.google.com/assets/colab-badge.svg\" alt=\"Open In Colab\"/></a>"
      ]
    },
    {
      "metadata": {
        "id": "7xQ193X9jbqj",
        "colab_type": "text"
      },
      "cell_type": "markdown",
      "source": [
        "#Music-Recommender System"
      ]
    },
    {
      "metadata": {
        "id": "fu04RYkEjofw",
        "colab_type": "code",
        "outputId": "02a89f04-69dd-4ebf-f714-f951fa68fa77",
        "colab": {
          "base_uri": "https://localhost:8080/",
          "height": 85
        }
      },
      "cell_type": "code",
      "source": [
        "!pip install tables"
      ],
      "execution_count": 1,
      "outputs": [
        {
          "output_type": "stream",
          "text": [
            "Requirement already satisfied: tables in /usr/local/lib/python3.6/dist-packages (3.4.4)\n",
            "Requirement already satisfied: six>=1.9.0 in /usr/local/lib/python3.6/dist-packages (from tables) (1.11.0)\n",
            "Requirement already satisfied: numexpr>=2.5.2 in /usr/local/lib/python3.6/dist-packages (from tables) (2.6.8)\n",
            "Requirement already satisfied: numpy>=1.8.0 in /usr/local/lib/python3.6/dist-packages (from tables) (1.14.6)\n"
          ],
          "name": "stdout"
        }
      ]
    },
    {
      "metadata": {
        "id": "hMloGVsLjh4j",
        "colab_type": "text"
      },
      "cell_type": "markdown",
      "source": [
        "##Hack to get the data "
      ]
    },
    {
      "metadata": {
        "id": "I7l1qgDfjhLI",
        "colab_type": "code",
        "colab": {}
      },
      "cell_type": "code",
      "source": [
        "import os\n",
        "import sys\n",
        "import time\n",
        "import glob\n",
        "import datetime\n",
        "import sqlite3\n",
        "import pandas as pd\n",
        "import numpy as np\n",
        "import tarfile\n",
        "import tables\n",
        "import numpy as np\n",
        "import pandas as pd\n",
        "from google.colab import drive, files\n",
        "from skimage.transform import resize\n",
        "import pdb"
      ],
      "execution_count": 0,
      "outputs": []
    },
    {
      "metadata": {
        "id": "U8wePVe5j7Si",
        "colab_type": "text"
      },
      "cell_type": "markdown",
      "source": [
        "**Local Storage**"
      ]
    },
    {
      "metadata": {
        "id": "XCZwZ-8Oj4gC",
        "colab_type": "code",
        "outputId": "c2be5fff-d563-43eb-fd62-c2e83e2e4bcc",
        "colab": {
          "base_uri": "https://localhost:8080/",
          "height": 122
        }
      },
      "cell_type": "code",
      "source": [
        "drive.mount('/content/drive')"
      ],
      "execution_count": 2,
      "outputs": [
        {
          "output_type": "stream",
          "text": [
            "Go to this URL in a browser: https://accounts.google.com/o/oauth2/auth?client_id=947318989803-6bn6qk8qdgf4n4g3pfee6491hc0brc4i.apps.googleusercontent.com&redirect_uri=urn%3Aietf%3Awg%3Aoauth%3A2.0%3Aoob&scope=email%20https%3A%2F%2Fwww.googleapis.com%2Fauth%2Fdocs.test%20https%3A%2F%2Fwww.googleapis.com%2Fauth%2Fdrive%20https%3A%2F%2Fwww.googleapis.com%2Fauth%2Fdrive.photos.readonly%20https%3A%2F%2Fwww.googleapis.com%2Fauth%2Fpeopleapi.readonly&response_type=code\n",
            "\n",
            "Enter your authorization code:\n",
            "··········\n",
            "Mounted at /content/drive\n"
          ],
          "name": "stdout"
        }
      ]
    },
    {
      "metadata": {
        "id": "R48cBGsPUJ3b",
        "colab_type": "code",
        "outputId": "1bcf2e4d-04f6-49a0-f4c1-8f6c54911bb2",
        "colab": {
          "resources": {
            "http://localhost:8080/nbextensions/google.colab/files.js": {
              "data": "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",
              "ok": true,
              "headers": [
                [
                  "content-type",
                  "application/javascript"
                ]
              ],
              "status": 200,
              "status_text": ""
            }
          },
          "base_uri": "https://localhost:8080/",
          "height": 72
        }
      },
      "cell_type": "code",
      "source": [
        "uploaded = files.upload()"
      ],
      "execution_count": 7,
      "outputs": [
        {
          "output_type": "display_data",
          "data": {
            "text/html": [
              "\n",
              "     <input type=\"file\" id=\"files-77db6e61-46ff-4b76-a0d6-21a4b13276d3\" name=\"files[]\" multiple disabled />\n",
              "     <output id=\"result-77db6e61-46ff-4b76-a0d6-21a4b13276d3\">\n",
              "      Upload widget is only available when the cell has been executed in the\n",
              "      current browser session. Please rerun this cell to enable.\n",
              "      </output>\n",
              "      <script src=\"/nbextensions/google.colab/files.js\"></script> "
            ],
            "text/plain": [
              "<IPython.core.display.HTML object>"
            ]
          },
          "metadata": {
            "tags": []
          }
        },
        {
          "output_type": "stream",
          "text": [
            "Saving TrainIndices.npy to TrainIndices.npy\n"
          ],
          "name": "stdout"
        }
      ]
    },
    {
      "metadata": {
        "id": "-j55D3OH1jF0",
        "colab_type": "code",
        "colab": {}
      },
      "cell_type": "code",
      "source": [
        "loudness = np.load('loudness.npy')"
      ],
      "execution_count": 0,
      "outputs": []
    },
    {
      "metadata": {
        "id": "MojNA7Uz1oXb",
        "colab_type": "code",
        "colab": {
          "base_uri": "https://localhost:8080/",
          "height": 34
        },
        "outputId": "fbba5593-7583-42a1-825a-8e03b6c4603e"
      },
      "cell_type": "code",
      "source": [
        "loudness.shape"
      ],
      "execution_count": 5,
      "outputs": [
        {
          "output_type": "execute_result",
          "data": {
            "text/plain": [
              "(8018, 1500, 1)"
            ]
          },
          "metadata": {
            "tags": []
          },
          "execution_count": 5
        }
      ]
    },
    {
      "metadata": {
        "id": "q3RA6-aPZ8jN",
        "colab_type": "code",
        "colab": {}
      },
      "cell_type": "code",
      "source": [
        "train_data = pd.read_csv('train_data_IR.csv', header = 0, index_col = 0)"
      ],
      "execution_count": 0,
      "outputs": []
    },
    {
      "metadata": {
        "id": "0H7Q_OM6kYsa",
        "colab_type": "code",
        "outputId": "0d8fe80a-01f1-4960-d682-8d051ea0c85f",
        "colab": {
          "base_uri": "https://localhost:8080/",
          "height": 102
        }
      },
      "cell_type": "code",
      "source": [
        "msd_subset_path=r'/content/drive/My Drive/IR/Dataprocessing/MillionSongSubset'\n",
        "msd_subset_data_path=os.path.join(msd_subset_path,'data')\n",
        "msd_subset_addf_path=os.path.join(msd_subset_path,'AdditionalFiles')\n",
        "smallset = r'/content/drive/My Drive/IR/Dataprocessing/A'\n",
        "msd_code_path=r'/content/drive/My Drive/IR/Dataprocessing'\n",
        "sys.path.append( os.path.join(msd_code_path,'PythonSrc') )\n",
        "sys.path.append( os.path.join(msd_code_path,'PythonSrc') )\n",
        "\n",
        "#Is the given path really a path?\n",
        "print(os.path.isdir(msd_subset_path))\n",
        "print(os.path.exists(msd_subset_path))\n",
        "print(os.path.isdir(msd_code_path))\n",
        "print(os.path.exists(msd_code_path))\n",
        "print(os.path.isdir(smallset))"
      ],
      "execution_count": 8,
      "outputs": [
        {
          "output_type": "stream",
          "text": [
            "True\n",
            "True\n",
            "True\n",
            "True\n",
            "True\n"
          ],
          "name": "stdout"
        }
      ]
    },
    {
      "metadata": {
        "id": "_E9XM46vFLNj",
        "colab_type": "code",
        "colab": {}
      },
      "cell_type": "code",
      "source": [
        "height = 1500\n",
        "width = 12"
      ],
      "execution_count": 0,
      "outputs": []
    },
    {
      "metadata": {
        "id": "gw7vGraeaEHT",
        "colab_type": "code",
        "colab": {}
      },
      "cell_type": "code",
      "source": [
        "def makeArray(text):\n",
        "  #pdb.set_trace()\n",
        "  return np.fromstring(text, dtype=float, sep='\\n')"
      ],
      "execution_count": 0,
      "outputs": []
    },
    {
      "metadata": {
        "id": "H5tpRuC6aI9W",
        "colab_type": "code",
        "colab": {}
      },
      "cell_type": "code",
      "source": [
        "train_data['segments_pitches_'] = train_data['segments_pitches'].apply(makeArray)"
      ],
      "execution_count": 0,
      "outputs": []
    },
    {
      "metadata": {
        "id": "058GUkgjcFrC",
        "colab_type": "code",
        "colab": {}
      },
      "cell_type": "code",
      "source": [
        "train_data['segments_timbre'] = train_data['segments_timbre'].apply(makeArray)"
      ],
      "execution_count": 0,
      "outputs": []
    },
    {
      "metadata": {
        "id": "XvlsVC52cGg5",
        "colab_type": "code",
        "colab": {}
      },
      "cell_type": "code",
      "source": [
        "train_data['segments_loudness_max'] = train_data['segments_loudness_max'].apply(makeArray)"
      ],
      "execution_count": 0,
      "outputs": []
    },
    {
      "metadata": {
        "id": "iIUGiH8Aaoj-",
        "colab_type": "code",
        "outputId": "a013fd8d-107a-4be3-cdb8-bb6296dadfb7",
        "colab": {
          "base_uri": "https://localhost:8080/",
          "height": 255
        }
      },
      "cell_type": "code",
      "source": [
        "train_data.head()"
      ],
      "execution_count": 0,
      "outputs": [
        {
          "output_type": "execute_result",
          "data": {
            "text/html": [
              "<div>\n",
              "<style scoped>\n",
              "    .dataframe tbody tr th:only-of-type {\n",
              "        vertical-align: middle;\n",
              "    }\n",
              "\n",
              "    .dataframe tbody tr th {\n",
              "        vertical-align: top;\n",
              "    }\n",
              "\n",
              "    .dataframe thead th {\n",
              "        text-align: right;\n",
              "    }\n",
              "</style>\n",
              "<table border=\"1\" class=\"dataframe\">\n",
              "  <thead>\n",
              "    <tr style=\"text-align: right;\">\n",
              "      <th></th>\n",
              "      <th>segments_pitches</th>\n",
              "      <th>segments_timbre</th>\n",
              "      <th>segments_loudness_max</th>\n",
              "      <th>segments_pitches_</th>\n",
              "    </tr>\n",
              "  </thead>\n",
              "  <tbody>\n",
              "    <tr>\n",
              "      <th>b'SOWLJJD12AF729D3F5'</th>\n",
              "      <td>[[0.148 1.    0.169 ... 0.181 0.466 0.331]\\n [...</td>\n",
              "      <td>[[ 3.85000e-01  1.62964e+02 -2.61900e+00 ...  ...</td>\n",
              "      <td>[-57.397 -54.051 -49.459 -46.432 -41.395 -41.8...</td>\n",
              "      <td>[]</td>\n",
              "    </tr>\n",
              "    <tr>\n",
              "      <th>b'SOQKYHD12A8C139193'</th>\n",
              "      <td>[[0.39  1.    0.071 ... 0.073 0.615 0.73 ]\\n [...</td>\n",
              "      <td>[[  1.195 148.505 -37.125 ...  12.359 -14.294 ...</td>\n",
              "      <td>[-57.958  -4.749  -7.914 ... -19.149 -18.394 -...</td>\n",
              "      <td>[]</td>\n",
              "    </tr>\n",
              "    <tr>\n",
              "      <th>b'SOBHQGR12A8C134244'</th>\n",
              "      <td>[[1.    1.    1.    ... 1.    1.    1.   ]\\n [...</td>\n",
              "      <td>[[   0.     171.13     9.469 ...    0.973  -10...</td>\n",
              "      <td>[-60.     -6.5    -8.123  -9.253  -2.876 -24.9...</td>\n",
              "      <td>[]</td>\n",
              "    </tr>\n",
              "    <tr>\n",
              "      <th>b'SOATHRP12A8C13407D'</th>\n",
              "      <td>[[1.    1.    1.    ... 1.    1.    1.   ]\\n [...</td>\n",
              "      <td>[[  0.    171.13    9.469 ...   0.973 -10.64  ...</td>\n",
              "      <td>[-60.    -13.642 -25.425 -17.123 -18.231 -15.7...</td>\n",
              "      <td>[]</td>\n",
              "    </tr>\n",
              "    <tr>\n",
              "      <th>b'SOUVGPX12A8C13CE77'</th>\n",
              "      <td>[[0.353 0.503 0.813 ... 0.162 0.221 0.303]\\n [...</td>\n",
              "      <td>[[  1.248 148.601   2.963 ...   1.586   1.066 ...</td>\n",
              "      <td>[-47.116 -21.989 -29.667 ... -31.666 -29.799 -...</td>\n",
              "      <td>[]</td>\n",
              "    </tr>\n",
              "  </tbody>\n",
              "</table>\n",
              "</div>"
            ],
            "text/plain": [
              "                                                        segments_pitches  \\\n",
              "b'SOWLJJD12AF729D3F5'  [[0.148 1.    0.169 ... 0.181 0.466 0.331]\\n [...   \n",
              "b'SOQKYHD12A8C139193'  [[0.39  1.    0.071 ... 0.073 0.615 0.73 ]\\n [...   \n",
              "b'SOBHQGR12A8C134244'  [[1.    1.    1.    ... 1.    1.    1.   ]\\n [...   \n",
              "b'SOATHRP12A8C13407D'  [[1.    1.    1.    ... 1.    1.    1.   ]\\n [...   \n",
              "b'SOUVGPX12A8C13CE77'  [[0.353 0.503 0.813 ... 0.162 0.221 0.303]\\n [...   \n",
              "\n",
              "                                                         segments_timbre  \\\n",
              "b'SOWLJJD12AF729D3F5'  [[ 3.85000e-01  1.62964e+02 -2.61900e+00 ...  ...   \n",
              "b'SOQKYHD12A8C139193'  [[  1.195 148.505 -37.125 ...  12.359 -14.294 ...   \n",
              "b'SOBHQGR12A8C134244'  [[   0.     171.13     9.469 ...    0.973  -10...   \n",
              "b'SOATHRP12A8C13407D'  [[  0.    171.13    9.469 ...   0.973 -10.64  ...   \n",
              "b'SOUVGPX12A8C13CE77'  [[  1.248 148.601   2.963 ...   1.586   1.066 ...   \n",
              "\n",
              "                                                   segments_loudness_max  \\\n",
              "b'SOWLJJD12AF729D3F5'  [-57.397 -54.051 -49.459 -46.432 -41.395 -41.8...   \n",
              "b'SOQKYHD12A8C139193'  [-57.958  -4.749  -7.914 ... -19.149 -18.394 -...   \n",
              "b'SOBHQGR12A8C134244'  [-60.     -6.5    -8.123  -9.253  -2.876 -24.9...   \n",
              "b'SOATHRP12A8C13407D'  [-60.    -13.642 -25.425 -17.123 -18.231 -15.7...   \n",
              "b'SOUVGPX12A8C13CE77'  [-47.116 -21.989 -29.667 ... -31.666 -29.799 -...   \n",
              "\n",
              "                      segments_pitches_  \n",
              "b'SOWLJJD12AF729D3F5'                []  \n",
              "b'SOQKYHD12A8C139193'                []  \n",
              "b'SOBHQGR12A8C134244'                []  \n",
              "b'SOATHRP12A8C13407D'                []  \n",
              "b'SOUVGPX12A8C13CE77'                []  "
            ]
          },
          "metadata": {
            "tags": []
          },
          "execution_count": 10
        }
      ]
    },
    {
      "metadata": {
        "id": "8lrEuZuVcXX6",
        "colab_type": "code",
        "colab": {}
      },
      "cell_type": "code",
      "source": [
        "type_pitch = train_data['segments_pitches'].apply(type)"
      ],
      "execution_count": 0,
      "outputs": []
    },
    {
      "metadata": {
        "id": "_gV1kvC4ry_4",
        "colab_type": "code",
        "colab": {}
      },
      "cell_type": "code",
      "source": [
        "pitch_list = train_data['segments_pitches'].tolist()"
      ],
      "execution_count": 0,
      "outputs": []
    },
    {
      "metadata": {
        "id": "LsbQ4c5Pr2ei",
        "colab_type": "code",
        "outputId": "2a0b75db-1e16-4abb-9ba0-9da96b63b32a",
        "colab": {
          "base_uri": "https://localhost:8080/",
          "height": 55
        }
      },
      "cell_type": "code",
      "source": [
        "pitch_list[0]"
      ],
      "execution_count": 0,
      "outputs": [
        {
          "output_type": "execute_result",
          "data": {
            "text/plain": [
              "'[[0.148 1.    0.169 ... 0.181 0.466 0.331]\\n [0.264 1.    0.204 ... 0.152 0.705 0.371]\\n [0.124 1.    0.243 ... 0.166 0.534 0.181]\\n ...\\n [0.055 1.    0.252 ... 0.061 0.056 0.009]\\n [0.073 1.    0.181 ... 0.032 0.086 0.015]\\n [0.086 1.    0.122 ... 0.06  0.063 0.052]]'"
            ]
          },
          "metadata": {
            "tags": []
          },
          "execution_count": 27
        }
      ]
    },
    {
      "metadata": {
        "id": "dh0VplRCsuKR",
        "colab_type": "code",
        "colab": {}
      },
      "cell_type": "code",
      "source": [
        "pitch_arr = makeArray(pitch_list[0])"
      ],
      "execution_count": 0,
      "outputs": []
    },
    {
      "metadata": {
        "id": "dBjH0HH3s9KZ",
        "colab_type": "code",
        "outputId": "6cb4ca97-3ddb-442e-f088-f8c969935fcd",
        "colab": {
          "base_uri": "https://localhost:8080/",
          "height": 121
        }
      },
      "cell_type": "code",
      "source": [
        "pitch_arr"
      ],
      "execution_count": 0,
      "outputs": [
        {
          "output_type": "execute_result",
          "data": {
            "text/plain": [
              "array(['[[0.148 1.    0.169 ... 0.181 0.466 0.331]',\n",
              "       ' [0.264 1.    0.204 ... 0.152 0.705 0.371]',\n",
              "       ' [0.124 1.    0.243 ... 0.166 0.534 0.181]', ' ...',\n",
              "       ' [0.055 1.    0.252 ... 0.061 0.056 0.009]',\n",
              "       ' [0.073 1.    0.181 ... 0.032 0.086 0.015]',\n",
              "       ' [0.086 1.    0.122 ... 0.06  0.063 0.052]]'], dtype='<U43')"
            ]
          },
          "metadata": {
            "tags": []
          },
          "execution_count": 43
        }
      ]
    },
    {
      "metadata": {
        "id": "Bjoq9fjdUkI8",
        "colab_type": "code",
        "colab": {}
      },
      "cell_type": "code",
      "source": [
        "train_index = np.load('TrainIndices.npy')"
      ],
      "execution_count": 0,
      "outputs": []
    },
    {
      "metadata": {
        "id": "wGl_ycW2UuXi",
        "colab_type": "code",
        "outputId": "76f91d2d-10d3-44d5-a88f-2fd0edb7c844",
        "colab": {
          "base_uri": "https://localhost:8080/",
          "height": 34
        }
      },
      "cell_type": "code",
      "source": [
        "(train_index.shape)"
      ],
      "execution_count": 11,
      "outputs": [
        {
          "output_type": "execute_result",
          "data": {
            "text/plain": [
              "(8006,)"
            ]
          },
          "metadata": {
            "tags": []
          },
          "execution_count": 11
        }
      ]
    },
    {
      "metadata": {
        "id": "NlGTGO7SksDV",
        "colab_type": "code",
        "outputId": "83dd7767-cb1d-4a4f-feac-0849dbb1ab43",
        "colab": {
          "base_uri": "https://localhost:8080/",
          "height": 68
        }
      },
      "cell_type": "code",
      "source": [
        "train_index"
      ],
      "execution_count": 0,
      "outputs": [
        {
          "output_type": "execute_result",
          "data": {
            "text/plain": [
              "array([b'SOWLJJD12AF729D3F5', b'SOQKYHD12A8C139193',\n",
              "       b'SOBHQGR12A8C134244', ..., b'SOMORVY12A8C144093',\n",
              "       b'SONRULN12A8C1404A0', b'SOKPBZM12AB0182F28'], dtype='|S21')"
            ]
          },
          "metadata": {
            "tags": []
          },
          "execution_count": 9
        }
      ]
    },
    {
      "metadata": {
        "id": "H491UsVtjyR6",
        "colab_type": "text"
      },
      "cell_type": "markdown",
      "source": [
        "###HDF5 Getters (imported) and necessary function"
      ]
    },
    {
      "metadata": {
        "id": "YWh0KsSojgPD",
        "colab_type": "code",
        "colab": {}
      },
      "cell_type": "code",
      "source": [
        "\"\"\"\n",
        "Thierry Bertin-Mahieux (2010) Columbia University\n",
        "tb2332@columbia.edu\n",
        "This code contains a set of getters functions to access the fields\n",
        "from an HDF5 song file (regular file with one song or\n",
        "aggregate / summary file with many songs)\n",
        "This is part of the Million Song Dataset project from\n",
        "LabROSA (Columbia University) and The Echo Nest.\n",
        "Copyright 2010, Thierry Bertin-Mahieux\n",
        "This program is free software: you can redistribute it and/or modify\n",
        "it under the terms of the GNU General Public License as published by\n",
        "the Free Software Foundation, either version 3 of the License, or\n",
        "(at your option) any later version.\n",
        "This program is distributed in the hope that it will be useful,\n",
        "but WITHOUT ANY WARRANTY; without even the implied warranty of\n",
        "MERCHANTABILITY or FITNESS FOR A PARTICULAR PURPOSE.  See the\n",
        "GNU General Public License for more details.\n",
        "You should have received a copy of the GNU General Public License\n",
        "along with this program.  If not, see <http://www.gnu.org/licenses/>.\n",
        "\"\"\"\n",
        "\n",
        "\n",
        "def open_h5_file_read(h5filename):\n",
        "    \"\"\"\n",
        "    Open an existing H5 in read mode.\n",
        "    Same function as in hdf5_utils, here so we avoid one import\n",
        "    \"\"\"\n",
        "    return tables.open_file(h5filename, mode='r')\n",
        "\n",
        "\n",
        "def get_num_songs(h5):\n",
        "    \"\"\"\n",
        "    Return the number of songs contained in this h5 file, i.e. the number of rows\n",
        "    for all basic informations like name, artist, ...\n",
        "    \"\"\"\n",
        "    return h5.root.metadata.songs.nrows\n",
        "\n",
        "def get_artist_familiarity(h5,songidx=0):\n",
        "    \"\"\"\n",
        "    Get artist familiarity from a HDF5 song file, by default the first song in it\n",
        "    \"\"\"\n",
        "    return h5.root.metadata.songs.cols.artist_familiarity[songidx]\n",
        "\n",
        "def get_artist_hotttnesss(h5,songidx=0):\n",
        "    \"\"\"\n",
        "    Get artist hotttnesss from a HDF5 song file, by default the first song in it\n",
        "    \"\"\"\n",
        "    return h5.root.metadata.songs.cols.artist_hotttnesss[songidx]\n",
        "\n",
        "def get_artist_id(h5,songidx=0):\n",
        "    \"\"\"\n",
        "    Get artist id from a HDF5 song file, by default the first song in it\n",
        "    \"\"\"\n",
        "    return h5.root.metadata.songs.cols.artist_id[songidx]\n",
        "\n",
        "def get_artist_mbid(h5,songidx=0):\n",
        "    \"\"\"\n",
        "    Get artist musibrainz id from a HDF5 song file, by default the first song in it\n",
        "    \"\"\"\n",
        "    return h5.root.metadata.songs.cols.artist_mbid[songidx]\n",
        "\n",
        "def get_artist_playmeid(h5,songidx=0):\n",
        "    \"\"\"\n",
        "    Get artist playme id from a HDF5 song file, by default the first song in it\n",
        "    \"\"\"\n",
        "    return h5.root.metadata.songs.cols.artist_playmeid[songidx]\n",
        "\n",
        "def get_artist_7digitalid(h5,songidx=0):\n",
        "    \"\"\"\n",
        "    Get artist 7digital id from a HDF5 song file, by default the first song in it\n",
        "    \"\"\"\n",
        "    return h5.root.metadata.songs.cols.artist_7digitalid[songidx]\n",
        "\n",
        "def get_artist_latitude(h5,songidx=0):\n",
        "    \"\"\"\n",
        "    Get artist latitude from a HDF5 song file, by default the first song in it\n",
        "    \"\"\"\n",
        "    return h5.root.metadata.songs.cols.artist_latitude[songidx]\n",
        "\n",
        "def get_artist_longitude(h5,songidx=0):\n",
        "    \"\"\"\n",
        "    Get artist longitude from a HDF5 song file, by default the first song in it\n",
        "    \"\"\"\n",
        "    return h5.root.metadata.songs.cols.artist_longitude[songidx]\n",
        "\n",
        "def get_artist_location(h5,songidx=0):\n",
        "    \"\"\"\n",
        "    Get artist location from a HDF5 song file, by default the first song in it\n",
        "    \"\"\"\n",
        "    return h5.root.metadata.songs.cols.artist_location[songidx]\n",
        "\n",
        "def get_artist_name(h5,songidx=0):\n",
        "    \"\"\"\n",
        "    Get artist name from a HDF5 song file, by default the first song in it\n",
        "    \"\"\"\n",
        "    return h5.root.metadata.songs.cols.artist_name[songidx]\n",
        "\n",
        "def get_release(h5,songidx=0):\n",
        "    \"\"\"\n",
        "    Get release from a HDF5 song file, by default the first song in it\n",
        "    \"\"\"\n",
        "    return h5.root.metadata.songs.cols.release[songidx]\n",
        "\n",
        "def get_release_7digitalid(h5,songidx=0):\n",
        "    \"\"\"\n",
        "    Get release 7digital id from a HDF5 song file, by default the first song in it\n",
        "    \"\"\"\n",
        "    return h5.root.metadata.songs.cols.release_7digitalid[songidx]\n",
        "\n",
        "def get_song_id(h5,songidx=0):\n",
        "    \"\"\"\n",
        "    Get song id from a HDF5 song file, by default the first song in it\n",
        "    \"\"\"\n",
        "    return h5.root.metadata.songs.cols.song_id[songidx]\n",
        "\n",
        "def get_song_hotttnesss(h5,songidx=0):\n",
        "    \"\"\"\n",
        "    Get song hotttnesss from a HDF5 song file, by default the first song in it\n",
        "    \"\"\"\n",
        "    return h5.root.metadata.songs.cols.song_hotttnesss[songidx]\n",
        "\n",
        "def get_title(h5,songidx=0):\n",
        "    \"\"\"\n",
        "    Get title from a HDF5 song file, by default the first song in it\n",
        "    \"\"\"\n",
        "    return h5.root.metadata.songs.cols.title[songidx]\n",
        "\n",
        "def get_track_7digitalid(h5,songidx=0):\n",
        "    \"\"\"\n",
        "    Get track 7digital id from a HDF5 song file, by default the first song in it\n",
        "    \"\"\"\n",
        "    return h5.root.metadata.songs.cols.track_7digitalid[songidx]\n",
        "\n",
        "def get_similar_artists(h5,songidx=0):\n",
        "    \"\"\"\n",
        "    Get similar artists array. Takes care of the proper indexing if we are in aggregate\n",
        "    file. By default, return the array for the first song in the h5 file.\n",
        "    To get a regular numpy ndarray, cast the result to: numpy.array( )\n",
        "    \"\"\"\n",
        "    if h5.root.metadata.songs.nrows == songidx + 1:\n",
        "        return h5.root.metadata.similar_artists[h5.root.metadata.songs.cols.idx_similar_artists[songidx]:]\n",
        "    return h5.root.metadata.similar_artists[h5.root.metadata.songs.cols.idx_similar_artists[songidx]:\n",
        "                                            h5.root.metadata.songs.cols.idx_similar_artists[songidx+1]]\n",
        "\n",
        "def get_artist_terms(h5,songidx=0):\n",
        "    \"\"\"\n",
        "    Get artist terms array. Takes care of the proper indexing if we are in aggregate\n",
        "    file. By default, return the array for the first song in the h5 file.\n",
        "    To get a regular numpy ndarray, cast the result to: numpy.array( )\n",
        "    \"\"\"\n",
        "    if h5.root.metadata.songs.nrows == songidx + 1:\n",
        "        return h5.root.metadata.artist_terms[h5.root.metadata.songs.cols.idx_artist_terms[songidx]:]\n",
        "    return h5.root.metadata.artist_terms[h5.root.metadata.songs.cols.idx_artist_terms[songidx]:\n",
        "                                            h5.root.metadata.songs.cols.idx_artist_terms[songidx+1]]\n",
        "\n",
        "def get_artist_terms_freq(h5,songidx=0):\n",
        "    \"\"\"\n",
        "    Get artist terms array frequencies. Takes care of the proper indexing if we are in aggregate\n",
        "    file. By default, return the array for the first song in the h5 file.\n",
        "    To get a regular numpy ndarray, cast the result to: numpy.array( )\n",
        "    \"\"\"\n",
        "    if h5.root.metadata.songs.nrows == songidx + 1:\n",
        "        return h5.root.metadata.artist_terms_freq[h5.root.metadata.songs.cols.idx_artist_terms[songidx]:]\n",
        "    return h5.root.metadata.artist_terms_freq[h5.root.metadata.songs.cols.idx_artist_terms[songidx]:\n",
        "                                              h5.root.metadata.songs.cols.idx_artist_terms[songidx+1]]\n",
        "\n",
        "def get_artist_terms_weight(h5,songidx=0):\n",
        "    \"\"\"\n",
        "    Get artist terms array frequencies. Takes care of the proper indexing if we are in aggregate\n",
        "    file. By default, return the array for the first song in the h5 file.\n",
        "    To get a regular numpy ndarray, cast the result to: numpy.array( )\n",
        "    \"\"\"\n",
        "    if h5.root.metadata.songs.nrows == songidx + 1:\n",
        "        return h5.root.metadata.artist_terms_weight[h5.root.metadata.songs.cols.idx_artist_terms[songidx]:]\n",
        "    return h5.root.metadata.artist_terms_weight[h5.root.metadata.songs.cols.idx_artist_terms[songidx]:\n",
        "                                                h5.root.metadata.songs.cols.idx_artist_terms[songidx+1]]\n",
        "\n",
        "def get_analysis_sample_rate(h5,songidx=0):\n",
        "    \"\"\"\n",
        "    Get analysis sample rate from a HDF5 song file, by default the first song in it\n",
        "    \"\"\"\n",
        "    return h5.root.analysis.songs.cols.analysis_sample_rate[songidx]\n",
        "\n",
        "def get_audio_md5(h5,songidx=0):\n",
        "    \"\"\"\n",
        "    Get audio MD5 from a HDF5 song file, by default the first song in it\n",
        "    \"\"\"\n",
        "    return h5.root.analysis.songs.cols.audio_md5[songidx]\n",
        "\n",
        "def get_danceability(h5,songidx=0):\n",
        "    \"\"\"\n",
        "    Get danceability from a HDF5 song file, by default the first song in it\n",
        "    \"\"\"\n",
        "    return h5.root.analysis.songs.cols.danceability[songidx]\n",
        "\n",
        "def get_duration(h5,songidx=0):\n",
        "    \"\"\"\n",
        "    Get duration from a HDF5 song file, by default the first song in it\n",
        "    \"\"\"\n",
        "    return h5.root.analysis.songs.cols.duration[songidx]\n",
        "\n",
        "def get_end_of_fade_in(h5,songidx=0):\n",
        "    \"\"\"\n",
        "    Get end of fade in from a HDF5 song file, by default the first song in it\n",
        "    \"\"\"\n",
        "    return h5.root.analysis.songs.cols.end_of_fade_in[songidx]\n",
        "\n",
        "def get_energy(h5,songidx=0):\n",
        "    \"\"\"\n",
        "    Get energy from a HDF5 song file, by default the first song in it\n",
        "    \"\"\"\n",
        "    return h5.root.analysis.songs.cols.energy[songidx]\n",
        "\n",
        "def get_key(h5,songidx=0):\n",
        "    \"\"\"\n",
        "    Get key from a HDF5 song file, by default the first song in it\n",
        "    \"\"\"\n",
        "    return h5.root.analysis.songs.cols.key[songidx]\n",
        "\n",
        "def get_key_confidence(h5,songidx=0):\n",
        "    \"\"\"\n",
        "    Get key confidence from a HDF5 song file, by default the first song in it\n",
        "    \"\"\"\n",
        "    return h5.root.analysis.songs.cols.key_confidence[songidx]\n",
        "\n",
        "def get_loudness(h5,songidx=0):\n",
        "    \"\"\"\n",
        "    Get loudness from a HDF5 song file, by default the first song in it\n",
        "    \"\"\"\n",
        "    return h5.root.analysis.songs.cols.loudness[songidx]\n",
        "\n",
        "def get_mode(h5,songidx=0):\n",
        "    \"\"\"\n",
        "    Get mode from a HDF5 song file, by default the first song in it\n",
        "    \"\"\"\n",
        "    return h5.root.analysis.songs.cols.mode[songidx]\n",
        "\n",
        "def get_mode_confidence(h5,songidx=0):\n",
        "    \"\"\"\n",
        "    Get mode confidence from a HDF5 song file, by default the first song in it\n",
        "    \"\"\"\n",
        "    return h5.root.analysis.songs.cols.mode_confidence[songidx]\n",
        "\n",
        "def get_start_of_fade_out(h5,songidx=0):\n",
        "    \"\"\"\n",
        "    Get start of fade out from a HDF5 song file, by default the first song in it\n",
        "    \"\"\"\n",
        "    return h5.root.analysis.songs.cols.start_of_fade_out[songidx]\n",
        "\n",
        "def get_tempo(h5,songidx=0):\n",
        "    \"\"\"\n",
        "    Get tempo from a HDF5 song file, by default the first song in it\n",
        "    \"\"\"\n",
        "    return h5.root.analysis.songs.cols.tempo[songidx]\n",
        "\n",
        "def get_time_signature(h5,songidx=0):\n",
        "    \"\"\"\n",
        "    Get signature from a HDF5 song file, by default the first song in it\n",
        "    \"\"\"\n",
        "    return h5.root.analysis.songs.cols.time_signature[songidx]\n",
        "\n",
        "def get_time_signature_confidence(h5,songidx=0):\n",
        "    \"\"\"\n",
        "    Get signature confidence from a HDF5 song file, by default the first song in it\n",
        "    \"\"\"\n",
        "    return h5.root.analysis.songs.cols.time_signature_confidence[songidx]\n",
        "\n",
        "def get_track_id(h5,songidx=0):\n",
        "    \"\"\"\n",
        "    Get track id from a HDF5 song file, by default the first song in it\n",
        "    \"\"\"\n",
        "    return h5.root.analysis.songs.cols.track_id[songidx]\n",
        "\n",
        "def get_segments_start(h5,songidx=0):\n",
        "    \"\"\"\n",
        "    Get segments start array. Takes care of the proper indexing if we are in aggregate\n",
        "    file. By default, return the array for the first song in the h5 file.\n",
        "    To get a regular numpy ndarray, cast the result to: numpy.array( )\n",
        "    \"\"\"\n",
        "    h5 = os.path.normpath(h5)\n",
        "    if h5.root.analysis.songs.nrows == songidx + 1:\n",
        "        return h5.root.analysis.segments_start[h5.root.analysis.songs.cols.idx_segments_start[songidx]:]\n",
        "    return h5.root.analysis.segments_start[h5.root.analysis.songs.cols.idx_segments_start[songidx]:\n",
        "                                           h5.root.analysis.songs.cols.idx_segments_start[songidx+1]]\n",
        "    \n",
        "def get_segments_confidence(h5,songidx=0):\n",
        "    \"\"\"\n",
        "    Get segments confidence array. Takes care of the proper indexing if we are in aggregate\n",
        "    file. By default, return the array for the first song in the h5 file.\n",
        "    To get a regular numpy ndarray, cast the result to: numpy.array( )\n",
        "    \"\"\"\n",
        "    if h5.root.analysis.songs.nrows == songidx + 1:\n",
        "        return h5.root.analysis.segments_confidence[h5.root.analysis.songs.cols.idx_segments_confidence[songidx]:]\n",
        "    return h5.root.analysis.segments_confidence[h5.root.analysis.songs.cols.idx_segments_confidence[songidx]:\n",
        "                                                h5.root.analysis.songs.cols.idx_segments_confidence[songidx+1]]\n",
        "\n",
        "def get_segments_pitches(h5,songidx=0):\n",
        "    \"\"\"\n",
        "    Get segments pitches array. Takes care of the proper indexing if we are in aggregate\n",
        "    file. By default, return the array for the first song in the h5 file.\n",
        "    To get a regular numpy ndarray, cast the result to: numpy.array( )\n",
        "    \"\"\"\n",
        "    if h5.root.analysis.songs.nrows == songidx + 1:\n",
        "        return h5.root.analysis.segments_pitches[h5.root.analysis.songs.cols.idx_segments_pitches[songidx]:,:]\n",
        "    return h5.root.analysis.segments_pitches[h5.root.analysis.songs.cols.idx_segments_pitches[songidx]:\n",
        "                                             h5.root.analysis.songs.cols.idx_segments_pitches[songidx+1],:]\n",
        "\n",
        "def get_segments_timbre(h5,songidx=0):\n",
        "    \"\"\"\n",
        "    Get segments timbre array. Takes care of the proper indexing if we are in aggregate\n",
        "    file. By default, return the array for the first song in the h5 file.\n",
        "    To get a regular numpy ndarray, cast the result to: numpy.array( )\n",
        "    \"\"\"\n",
        "    if h5.root.analysis.songs.nrows == songidx + 1:\n",
        "        return h5.root.analysis.segments_timbre[h5.root.analysis.songs.cols.idx_segments_timbre[songidx]:,:]\n",
        "    return h5.root.analysis.segments_timbre[h5.root.analysis.songs.cols.idx_segments_timbre[songidx]:\n",
        "                                            h5.root.analysis.songs.cols.idx_segments_timbre[songidx+1],:]\n",
        "\n",
        "def get_segments_loudness_max(h5,songidx=0):\n",
        "    \"\"\"\n",
        "    Get segments loudness max array. Takes care of the proper indexing if we are in aggregate\n",
        "    file. By default, return the array for the first song in the h5 file.\n",
        "    To get a regular numpy ndarray, cast the result to: numpy.array( )\n",
        "    \"\"\"\n",
        "    if h5.root.analysis.songs.nrows == songidx + 1:\n",
        "        return h5.root.analysis.segments_loudness_max[h5.root.analysis.songs.cols.idx_segments_loudness_max[songidx]:]\n",
        "    return h5.root.analysis.segments_loudness_max[h5.root.analysis.songs.cols.idx_segments_loudness_max[songidx]:\n",
        "                                                  h5.root.analysis.songs.cols.idx_segments_loudness_max[songidx+1]]\n",
        "\n",
        "def get_segments_loudness_max_time(h5,songidx=0):\n",
        "    \"\"\"\n",
        "    Get segments loudness max time array. Takes care of the proper indexing if we are in aggregate\n",
        "    file. By default, return the array for the first song in the h5 file.\n",
        "    To get a regular numpy ndarray, cast the result to: numpy.array( )\n",
        "    \"\"\"\n",
        "    if h5.root.analysis.songs.nrows == songidx + 1:\n",
        "        return h5.root.analysis.segments_loudness_max_time[h5.root.analysis.songs.cols.idx_segments_loudness_max_time[songidx]:]\n",
        "    return h5.root.analysis.segments_loudness_max_time[h5.root.analysis.songs.cols.idx_segments_loudness_max_time[songidx]:\n",
        "                                                       h5.root.analysis.songs.cols.idx_segments_loudness_max_time[songidx+1]]\n",
        "\n",
        "def get_segments_loudness_start(h5,songidx=0):\n",
        "    \"\"\"\n",
        "    Get segments loudness start array. Takes care of the proper indexing if we are in aggregate\n",
        "    file. By default, return the array for the first song in the h5 file.\n",
        "    To get a regular numpy ndarray, cast the result to: numpy.array( )\n",
        "    \"\"\"\n",
        "    if h5.root.analysis.songs.nrows == songidx + 1:\n",
        "        return h5.root.analysis.segments_loudness_start[h5.root.analysis.songs.cols.idx_segments_loudness_start[songidx]:]\n",
        "    return h5.root.analysis.segments_loudness_start[h5.root.analysis.songs.cols.idx_segments_loudness_start[songidx]:\n",
        "                                                    h5.root.analysis.songs.cols.idx_segments_loudness_start[songidx+1]]\n",
        "\n",
        "def get_sections_start(h5,songidx=0):\n",
        "    \"\"\"\n",
        "    Get sections start array. Takes care of the proper indexing if we are in aggregate\n",
        "    file. By default, return the array for the first song in the h5 file.\n",
        "    To get a regular numpy ndarray, cast the result to: numpy.array( )\n",
        "    \"\"\"\n",
        "    if h5.root.analysis.songs.nrows == songidx + 1:\n",
        "        return h5.root.analysis.sections_start[h5.root.analysis.songs.cols.idx_sections_start[songidx]:]\n",
        "    return h5.root.analysis.sections_start[h5.root.analysis.songs.cols.idx_sections_start[songidx]:\n",
        "                                           h5.root.analysis.songs.cols.idx_sections_start[songidx+1]]\n",
        "\n",
        "def get_sections_confidence(h5,songidx=0):\n",
        "    \"\"\"\n",
        "    Get sections confidence array. Takes care of the proper indexing if we are in aggregate\n",
        "    file. By default, return the array for the first song in the h5 file.\n",
        "    To get a regular numpy ndarray, cast the result to: numpy.array( )\n",
        "    \"\"\"\n",
        "    if h5.root.analysis.songs.nrows == songidx + 1:\n",
        "        return h5.root.analysis.sections_confidence[h5.root.analysis.songs.cols.idx_sections_confidence[songidx]:]\n",
        "    return h5.root.analysis.sections_confidence[h5.root.analysis.songs.cols.idx_sections_confidence[songidx]:\n",
        "                                                h5.root.analysis.songs.cols.idx_sections_confidence[songidx+1]]\n",
        "\n",
        "def get_beats_start(h5,songidx=0):\n",
        "    \"\"\"\n",
        "    Get beats start array. Takes care of the proper indexing if we are in aggregate\n",
        "    file. By default, return the array for the first song in the h5 file.\n",
        "    To get a regular numpy ndarray, cast the result to: numpy.array( )\n",
        "    \"\"\"\n",
        "    if h5.root.analysis.songs.nrows == songidx + 1:\n",
        "        return h5.root.analysis.beats_start[h5.root.analysis.songs.cols.idx_beats_start[songidx]:]\n",
        "    return h5.root.analysis.beats_start[h5.root.analysis.songs.cols.idx_beats_start[songidx]:\n",
        "                                        h5.root.analysis.songs.cols.idx_beats_start[songidx+1]]\n",
        "\n",
        "def get_beats_confidence(h5,songidx=0):\n",
        "    \"\"\"\n",
        "    Get beats confidence array. Takes care of the proper indexing if we are in aggregate\n",
        "    file. By default, return the array for the first song in the h5 file.\n",
        "    To get a regular numpy ndarray, cast the result to: numpy.array( )\n",
        "    \"\"\"\n",
        "    if h5.root.analysis.songs.nrows == songidx + 1:\n",
        "        return h5.root.analysis.beats_confidence[h5.root.analysis.songs.cols.idx_beats_confidence[songidx]:]\n",
        "    return h5.root.analysis.beats_confidence[h5.root.analysis.songs.cols.idx_beats_confidence[songidx]:\n",
        "                                             h5.root.analysis.songs.cols.idx_beats_confidence[songidx+1]]\n",
        "\n",
        "def get_bars_start(h5,songidx=0):\n",
        "    \"\"\"\n",
        "    Get bars start array. Takes care of the proper indexing if we are in aggregate\n",
        "    file. By default, return the array for the first song in the h5 file.\n",
        "    To get a regular numpy ndarray, cast the result to: numpy.array( )\n",
        "    \"\"\"\n",
        "    if h5.root.analysis.songs.nrows == songidx + 1:\n",
        "        return h5.root.analysis.bars_start[h5.root.analysis.songs.cols.idx_bars_start[songidx]:]\n",
        "    return h5.root.analysis.bars_start[h5.root.analysis.songs.cols.idx_bars_start[songidx]:\n",
        "                                       h5.root.analysis.songs.cols.idx_bars_start[songidx+1]]\n",
        "\n",
        "def get_bars_confidence(h5,songidx=0):\n",
        "    \"\"\"\n",
        "    Get bars start array. Takes care of the proper indexing if we are in aggregate\n",
        "    file. By default, return the array for the first song in the h5 file.\n",
        "    To get a regular numpy ndarray, cast the result to: numpy.array( )\n",
        "    \"\"\"\n",
        "    if h5.root.analysis.songs.nrows == songidx + 1:\n",
        "        return h5.root.analysis.bars_confidence[h5.root.analysis.songs.cols.idx_bars_confidence[songidx]:]\n",
        "    return h5.root.analysis.bars_confidence[h5.root.analysis.songs.cols.idx_bars_confidence[songidx]:\n",
        "                                            h5.root.analysis.songs.cols.idx_bars_confidence[songidx+1]]\n",
        "\n",
        "def get_tatums_start(h5,songidx=0):\n",
        "    \"\"\"\n",
        "    Get tatums start array. Takes care of the proper indexing if we are in aggregate\n",
        "    file. By default, return the array for the first song in the h5 file.\n",
        "    To get a regular numpy ndarray, cast the result to: numpy.array( )\n",
        "    \"\"\"\n",
        "    if h5.root.analysis.songs.nrows == songidx + 1:\n",
        "        return h5.root.analysis.tatums_start[h5.root.analysis.songs.cols.idx_tatums_start[songidx]:]\n",
        "    return h5.root.analysis.tatums_start[h5.root.analysis.songs.cols.idx_tatums_start[songidx]:\n",
        "                                         h5.root.analysis.songs.cols.idx_tatums_start[songidx+1]]\n",
        "\n",
        "def get_tatums_confidence(h5,songidx=0):\n",
        "    \"\"\"\n",
        "    Get tatums confidence array. Takes care of the proper indexing if we are in aggregate\n",
        "    file. By default, return the array for the first song in the h5 file.\n",
        "    To get a regular numpy ndarray, cast the result to: numpy.array( )\n",
        "    \"\"\"\n",
        "    if h5.root.analysis.songs.nrows == songidx + 1:\n",
        "        return h5.root.analysis.tatums_confidence[h5.root.analysis.songs.cols.idx_tatums_confidence[songidx]:]\n",
        "    return h5.root.analysis.tatums_confidence[h5.root.analysis.songs.cols.idx_tatums_confidence[songidx]:\n",
        "                                              h5.root.analysis.songs.cols.idx_tatums_confidence[songidx+1]]\n",
        "\n",
        "def get_artist_mbtags(h5,songidx=0):\n",
        "    \"\"\"\n",
        "    Get artist musicbrainz tag array. Takes care of the proper indexing if we are in aggregate\n",
        "    file. By default, return the array for the first song in the h5 file.\n",
        "    To get a regular numpy ndarray, cast the result to: numpy.array( )\n",
        "    \"\"\"\n",
        "    if h5.root.musicbrainz.songs.nrows == songidx + 1:\n",
        "        return h5.root.musicbrainz.artist_mbtags[h5.root.musicbrainz.songs.cols.idx_artist_mbtags[songidx]:]\n",
        "    return h5.root.musicbrainz.artist_mbtags[h5.root.metadata.songs.cols.idx_artist_mbtags[songidx]:\n",
        "                                             h5.root.metadata.songs.cols.idx_artist_mbtags[songidx+1]]\n",
        "\n",
        "def get_artist_mbtags_count(h5,songidx=0):\n",
        "    \"\"\"\n",
        "    Get artist musicbrainz tag count array. Takes care of the proper indexing if we are in aggregate\n",
        "    file. By default, return the array for the first song in the h5 file.\n",
        "    To get a regular numpy ndarray, cast the result to: numpy.array( )\n",
        "    \"\"\"\n",
        "    if h5.root.musicbrainz.songs.nrows == songidx + 1:\n",
        "        return h5.root.musicbrainz.artist_mbtags_count[h5.root.musicbrainz.songs.cols.idx_artist_mbtags[songidx]:]\n",
        "    return h5.root.musicbrainz.artist_mbtags_count[h5.root.metadata.songs.cols.idx_artist_mbtags[songidx]:\n",
        "                                                   h5.root.metadata.songs.cols.idx_artist_mbtags[songidx+1]]\n",
        "\n",
        "def get_year(h5,songidx=0):\n",
        "    \"\"\"\n",
        "    Get release year from a HDF5 song file, by default the first song in it\n",
        "    \"\"\"\n",
        "    return h5.root.musicbrainz.songs.cols.year[songidx]\n",
        " \n"
      ],
      "execution_count": 0,
      "outputs": []
    },
    {
      "metadata": {
        "id": "mT8lSCgUklPt",
        "colab_type": "code",
        "colab": {}
      },
      "cell_type": "code",
      "source": [
        "def apply_to_all_files(basedir,func=lambda x: x,ext='.h5'):\n",
        "    \"\"\"\n",
        "    From a base directory, go through all subdirectories,\n",
        "    find all files with the given extension, apply the\n",
        "    given function 'func' to all of them.\n",
        "    If no 'func' is passed, we do nothing except counting.\n",
        "    INPUT\n",
        "       basedir  - base directory of the dataset\n",
        "       func     - function to apply to all filenames\n",
        "       ext      - extension, .h5 by default\n",
        "    RETURN\n",
        "       number of files\n",
        "    \"\"\"\n",
        "    cnt = 0\n",
        "    # iterate over all files in all subdirectories\n",
        "    for root, dirs, files in os.walk(basedir):\n",
        "        files = glob.glob(os.path.join(root,'*'+ext))\n",
        "        # count files\n",
        "        cnt += len(files)\n",
        "        # apply function to all files\n",
        "        for f in files :\n",
        "            func(f)       \n",
        "    return cnt"
      ],
      "execution_count": 0,
      "outputs": []
    },
    {
      "metadata": {
        "id": "jSV7nIXGkopk",
        "colab_type": "code",
        "colab": {}
      },
      "cell_type": "code",
      "source": [
        "def strtimedelta(starttime,stoptime):\n",
        "    return str(datetime.timedelta(seconds=stoptime-starttime))"
      ],
      "execution_count": 0,
      "outputs": []
    },
    {
      "metadata": {
        "id": "nispdxVmkr6V",
        "colab_type": "text"
      },
      "cell_type": "markdown",
      "source": [
        "###Extract Audio"
      ]
    },
    {
      "metadata": {
        "id": "oJbjbUvIkt-P",
        "colab_type": "code",
        "colab": {}
      },
      "cell_type": "code",
      "source": [
        "all_analysis_sample_rate = []\n",
        "all_tempo = []\n",
        "all_time_signature = []\n",
        "all_segments_pitches= []\n",
        "all_segments_timbre= []\n",
        "all_segments_loudness_max= []\n",
        "all_song_id = []\n",
        "\n",
        "def extractAudio(filename): \n",
        "  \n",
        "  h5 = open_h5_file_read(filename)\n",
        "  tmp = get_song_id(h5)\n",
        "  all_song_id.append(tmp)\n",
        "  #tmp = get_analysis_sample_rate(h5)\n",
        "  #all_analysis_sample_rate.append(tmp)\n",
        "  #tmp = get_time_signature(h5)\n",
        "  #all_time_signature.append(tmp)\n",
        "  #tmp = get_tempo(h5)\n",
        "  #all_tempo.append(tmp)\n",
        "  tmp = get_segments_pitches(h5)\n",
        "  all_segments_pitches.append(tmp)\n",
        "  tmp = get_segments_timbre(h5) \n",
        "  all_segments_timbre.append(tmp)\n",
        "  tmp = get_segments_loudness_max(h5)\n",
        "  all_segments_loudness_max.append(tmp)\n",
        "  h5.close()    "
      ],
      "execution_count": 0,
      "outputs": []
    },
    {
      "metadata": {
        "id": "qQ9sGBRcnp2j",
        "colab_type": "text"
      },
      "cell_type": "markdown",
      "source": [
        "run for a small subset"
      ]
    },
    {
      "metadata": {
        "id": "3P_VGbFgnDBc",
        "colab_type": "code",
        "colab": {}
      },
      "cell_type": "code",
      "source": [
        "t1 = time.time()\n",
        "apply_to_all_files(smallset,func=extractAudio)\n",
        "t2 = time.time()"
      ],
      "execution_count": 0,
      "outputs": []
    },
    {
      "metadata": {
        "id": "seeGM_y9nsLj",
        "colab_type": "text"
      },
      "cell_type": "markdown",
      "source": [
        "run for the whole subset"
      ]
    },
    {
      "metadata": {
        "id": "VL-iTZSNnuix",
        "colab_type": "code",
        "colab": {}
      },
      "cell_type": "code",
      "source": [
        "t1 = time.time()\n",
        "apply_to_all_files(msd_subset_data_path,func=extractAudio)\n",
        "t2 = time.time()"
      ],
      "execution_count": 0,
      "outputs": []
    },
    {
      "metadata": {
        "id": "bsCMMN9XmTFS",
        "colab_type": "text"
      },
      "cell_type": "markdown",
      "source": [
        "Extracting the features"
      ]
    },
    {
      "metadata": {
        "id": "Q2V2Gm8rlxzw",
        "colab_type": "code",
        "colab": {}
      },
      "cell_type": "code",
      "source": [
        "Audio = [\n",
        "    all_segments_pitches,\n",
        "    all_segments_timbre, #pure mfcc\n",
        "    all_segments_loudness_max\n",
        "]\n",
        "AudioLabels = [\n",
        "    'segments_pitches',\n",
        "    'segments_timbre', #pure mfcc\n",
        "    'segments_loudness_max'\n",
        "]"
      ],
      "execution_count": 0,
      "outputs": []
    },
    {
      "metadata": {
        "id": "eidfcN68mpQ-",
        "colab_type": "code",
        "colab": {}
      },
      "cell_type": "code",
      "source": [
        "dataAudio = pd.DataFrame(Audio,index = AudioLabels, columns = all_song_id)\n",
        "audioData = dataAudio.transpose()"
      ],
      "execution_count": 0,
      "outputs": []
    },
    {
      "metadata": {
        "id": "yjANM2YkiM06",
        "colab_type": "code",
        "outputId": "572c2aeb-55e7-4062-a62b-2751c44b5882",
        "colab": {
          "base_uri": "https://localhost:8080/",
          "height": 204
        }
      },
      "cell_type": "code",
      "source": [
        "audioData.head()"
      ],
      "execution_count": 16,
      "outputs": [
        {
          "output_type": "execute_result",
          "data": {
            "text/html": [
              "<div>\n",
              "<style scoped>\n",
              "    .dataframe tbody tr th:only-of-type {\n",
              "        vertical-align: middle;\n",
              "    }\n",
              "\n",
              "    .dataframe tbody tr th {\n",
              "        vertical-align: top;\n",
              "    }\n",
              "\n",
              "    .dataframe thead th {\n",
              "        text-align: right;\n",
              "    }\n",
              "</style>\n",
              "<table border=\"1\" class=\"dataframe\">\n",
              "  <thead>\n",
              "    <tr style=\"text-align: right;\">\n",
              "      <th></th>\n",
              "      <th>segments_pitches</th>\n",
              "      <th>segments_timbre</th>\n",
              "      <th>segments_loudness_max</th>\n",
              "    </tr>\n",
              "  </thead>\n",
              "  <tbody>\n",
              "    <tr>\n",
              "      <th>b'SOCIWDW12A8C13D406'</th>\n",
              "      <td>[[1.0, 1.0, 1.0, 1.0, 1.0, 1.0, 1.0, 1.0, 1.0,...</td>\n",
              "      <td>[[0.0, 171.13, 9.469, -28.48, 57.491, -50.067,...</td>\n",
              "      <td>[-60.0, -14.269, -10.165, -18.098, -19.136, -1...</td>\n",
              "    </tr>\n",
              "    <tr>\n",
              "      <th>b'SOMJBYD12A6D4F8557'</th>\n",
              "      <td>[[1.0, 0.869, 0.687, 0.644, 0.774, 0.795, 0.8,...</td>\n",
              "      <td>[[2.711, 176.591, 16.855, -58.658, 27.583, -26...</td>\n",
              "      <td>[-55.508, -10.928, -27.764, -14.137, -14.675, ...</td>\n",
              "    </tr>\n",
              "    <tr>\n",
              "      <th>b'SONHOTT12A8C13493C'</th>\n",
              "      <td>[[0.651, 0.592, 0.647, 0.494, 0.683, 0.919, 1....</td>\n",
              "      <td>[[24.937, 37.465, 177.22, -216.443, 56.3, 202....</td>\n",
              "      <td>[-18.682, -9.55, -9.709, -8.633, -7.434, -11.7...</td>\n",
              "    </tr>\n",
              "    <tr>\n",
              "      <th>b'SOXVLOJ12AB0189215'</th>\n",
              "      <td>[[1.0, 0.911, 0.18, 0.334, 0.327, 0.344, 0.302...</td>\n",
              "      <td>[[0.0, 171.124, 9.459, -28.489, 57.482, -50.06...</td>\n",
              "      <td>[-59.895, -11.914, -10.344, -9.678, -9.22, -8....</td>\n",
              "    </tr>\n",
              "    <tr>\n",
              "      <th>b'SOMZWCG12A8C13C480'</th>\n",
              "      <td>[[0.946, 0.684, 0.679, 0.941, 0.744, 0.633, 0....</td>\n",
              "      <td>[[0.0, 171.13, 9.469, -28.48, 57.491, -50.067,...</td>\n",
              "      <td>[-60.0, -31.646, -34.565, -38.407, -34.696, -2...</td>\n",
              "    </tr>\n",
              "  </tbody>\n",
              "</table>\n",
              "</div>"
            ],
            "text/plain": [
              "                                                        segments_pitches  \\\n",
              "b'SOCIWDW12A8C13D406'  [[1.0, 1.0, 1.0, 1.0, 1.0, 1.0, 1.0, 1.0, 1.0,...   \n",
              "b'SOMJBYD12A6D4F8557'  [[1.0, 0.869, 0.687, 0.644, 0.774, 0.795, 0.8,...   \n",
              "b'SONHOTT12A8C13493C'  [[0.651, 0.592, 0.647, 0.494, 0.683, 0.919, 1....   \n",
              "b'SOXVLOJ12AB0189215'  [[1.0, 0.911, 0.18, 0.334, 0.327, 0.344, 0.302...   \n",
              "b'SOMZWCG12A8C13C480'  [[0.946, 0.684, 0.679, 0.941, 0.744, 0.633, 0....   \n",
              "\n",
              "                                                         segments_timbre  \\\n",
              "b'SOCIWDW12A8C13D406'  [[0.0, 171.13, 9.469, -28.48, 57.491, -50.067,...   \n",
              "b'SOMJBYD12A6D4F8557'  [[2.711, 176.591, 16.855, -58.658, 27.583, -26...   \n",
              "b'SONHOTT12A8C13493C'  [[24.937, 37.465, 177.22, -216.443, 56.3, 202....   \n",
              "b'SOXVLOJ12AB0189215'  [[0.0, 171.124, 9.459, -28.489, 57.482, -50.06...   \n",
              "b'SOMZWCG12A8C13C480'  [[0.0, 171.13, 9.469, -28.48, 57.491, -50.067,...   \n",
              "\n",
              "                                                   segments_loudness_max  \n",
              "b'SOCIWDW12A8C13D406'  [-60.0, -14.269, -10.165, -18.098, -19.136, -1...  \n",
              "b'SOMJBYD12A6D4F8557'  [-55.508, -10.928, -27.764, -14.137, -14.675, ...  \n",
              "b'SONHOTT12A8C13493C'  [-18.682, -9.55, -9.709, -8.633, -7.434, -11.7...  \n",
              "b'SOXVLOJ12AB0189215'  [-59.895, -11.914, -10.344, -9.678, -9.22, -8....  \n",
              "b'SOMZWCG12A8C13C480'  [-60.0, -31.646, -34.565, -38.407, -34.696, -2...  "
            ]
          },
          "metadata": {
            "tags": []
          },
          "execution_count": 16
        }
      ]
    },
    {
      "metadata": {
        "id": "Iivlrd_04e01",
        "colab_type": "code",
        "outputId": "bffb9c87-4547-4c32-f78d-2561a42ac2db",
        "colab": {
          "base_uri": "https://localhost:8080/",
          "height": 34
        }
      },
      "cell_type": "code",
      "source": [
        "len(audioData)"
      ],
      "execution_count": 15,
      "outputs": [
        {
          "output_type": "execute_result",
          "data": {
            "text/plain": [
              "10008"
            ]
          },
          "metadata": {
            "tags": []
          },
          "execution_count": 15
        }
      ]
    },
    {
      "metadata": {
        "id": "kMV2rPBAlrx2",
        "colab_type": "code",
        "colab": {}
      },
      "cell_type": "code",
      "source": [
        "train_data = audioData.loc[train_index]"
      ],
      "execution_count": 0,
      "outputs": []
    },
    {
      "metadata": {
        "id": "rHLjDzUd40IE",
        "colab_type": "code",
        "colab": {}
      },
      "cell_type": "code",
      "source": [
        "audioData.drop(['segments_pitches', 'segments_timbre', 'segments_loudness_max'], axis = 1, inplace = True)"
      ],
      "execution_count": 0,
      "outputs": []
    },
    {
      "metadata": {
        "id": "t_0oUK3cmu6v",
        "colab_type": "code",
        "outputId": "9e0ac7df-cd94-4dac-f442-006891689d7c",
        "colab": {
          "base_uri": "https://localhost:8080/",
          "height": 34
        }
      },
      "cell_type": "code",
      "source": [
        "len(train_data)"
      ],
      "execution_count": 18,
      "outputs": [
        {
          "output_type": "execute_result",
          "data": {
            "text/plain": [
              "8018"
            ]
          },
          "metadata": {
            "tags": []
          },
          "execution_count": 18
        }
      ]
    },
    {
      "metadata": {
        "id": "XoUu9vnzorgl",
        "colab_type": "code",
        "colab": {}
      },
      "cell_type": "code",
      "source": [
        "null_columns=train_data.columns[train_data.isnull().any()]\n"
      ],
      "execution_count": 0,
      "outputs": []
    },
    {
      "metadata": {
        "id": "iOgITDmVRpAC",
        "colab_type": "code",
        "outputId": "caae7831-8775-4a16-db61-46079eb3754c",
        "colab": {
          "base_uri": "https://localhost:8080/",
          "height": 34
        }
      },
      "cell_type": "code",
      "source": [
        "null_columns"
      ],
      "execution_count": 0,
      "outputs": [
        {
          "output_type": "execute_result",
          "data": {
            "text/plain": [
              "Index([], dtype='object')"
            ]
          },
          "metadata": {
            "tags": []
          },
          "execution_count": 20
        }
      ]
    },
    {
      "metadata": {
        "id": "UtzPhqEuSoi4",
        "colab_type": "code",
        "colab": {}
      },
      "cell_type": "code",
      "source": [
        "train_data.to_csv('train_data_IR.csv', header = True)"
      ],
      "execution_count": 0,
      "outputs": []
    },
    {
      "metadata": {
        "id": "ABRgoGHm4Bym",
        "colab_type": "code",
        "colab": {}
      },
      "cell_type": "code",
      "source": [
        "def feature_shape(arr):\n",
        "  return arr.shape"
      ],
      "execution_count": 0,
      "outputs": []
    },
    {
      "metadata": {
        "id": "UfNB80tv35hp",
        "colab_type": "code",
        "colab": {}
      },
      "cell_type": "code",
      "source": [
        "def resize_features_mfcc_pitch(features):\n",
        "  return resize(features, (height, width))"
      ],
      "execution_count": 0,
      "outputs": []
    },
    {
      "metadata": {
        "id": "vSRwCTN0HQDh",
        "colab_type": "code",
        "colab": {}
      },
      "cell_type": "code",
      "source": [
        "def resize_loudness(features):\n",
        "  return np.resize(features, (height,))"
      ],
      "execution_count": 0,
      "outputs": []
    },
    {
      "metadata": {
        "id": "CTPSCGn9Hk8Q",
        "colab_type": "code",
        "outputId": "b1347e04-f1e4-40af-a019-da7c8c3f7f5f",
        "colab": {
          "base_uri": "https://localhost:8080/",
          "height": 173
        }
      },
      "cell_type": "code",
      "source": [
        "train_data['mfcc_input'] = train_data['segments_timbre'].apply(resize_features_mfcc_pitch)"
      ],
      "execution_count": 23,
      "outputs": [
        {
          "output_type": "stream",
          "text": [
            "/usr/local/lib/python3.6/dist-packages/skimage/transform/_warps.py:84: UserWarning: The default mode, 'constant', will be changed to 'reflect' in skimage 0.15.\n",
            "  warn(\"The default mode, 'constant', will be changed to 'reflect' in \"\n",
            "/usr/local/lib/python3.6/dist-packages/ipykernel_launcher.py:1: SettingWithCopyWarning: \n",
            "A value is trying to be set on a copy of a slice from a DataFrame.\n",
            "Try using .loc[row_indexer,col_indexer] = value instead\n",
            "\n",
            "See the caveats in the documentation: http://pandas.pydata.org/pandas-docs/stable/indexing.html#indexing-view-versus-copy\n",
            "  \"\"\"Entry point for launching an IPython kernel.\n"
          ],
          "name": "stderr"
        }
      ]
    },
    {
      "metadata": {
        "id": "WjhbAua6H1Yx",
        "colab_type": "code",
        "outputId": "12d6213f-41cb-4d59-a97a-1e917b26432d",
        "colab": {
          "base_uri": "https://localhost:8080/",
          "height": 173
        }
      },
      "cell_type": "code",
      "source": [
        "train_data['pitches_input'] = train_data['segments_pitches'].apply(resize_features_mfcc_pitch)"
      ],
      "execution_count": 24,
      "outputs": [
        {
          "output_type": "stream",
          "text": [
            "/usr/local/lib/python3.6/dist-packages/skimage/transform/_warps.py:84: UserWarning: The default mode, 'constant', will be changed to 'reflect' in skimage 0.15.\n",
            "  warn(\"The default mode, 'constant', will be changed to 'reflect' in \"\n",
            "/usr/local/lib/python3.6/dist-packages/ipykernel_launcher.py:1: SettingWithCopyWarning: \n",
            "A value is trying to be set on a copy of a slice from a DataFrame.\n",
            "Try using .loc[row_indexer,col_indexer] = value instead\n",
            "\n",
            "See the caveats in the documentation: http://pandas.pydata.org/pandas-docs/stable/indexing.html#indexing-view-versus-copy\n",
            "  \"\"\"Entry point for launching an IPython kernel.\n"
          ],
          "name": "stderr"
        }
      ]
    },
    {
      "metadata": {
        "id": "gowFrnSuIDyZ",
        "colab_type": "code",
        "outputId": "95f566ee-4c4e-40a2-b48c-a0adf71183a3",
        "colab": {
          "base_uri": "https://localhost:8080/",
          "height": 119
        }
      },
      "cell_type": "code",
      "source": [
        "train_data['loudness_input'] = train_data['segments_loudness_max'].apply(resize_loudness)"
      ],
      "execution_count": 23,
      "outputs": [
        {
          "output_type": "stream",
          "text": [
            "/usr/local/lib/python3.6/dist-packages/ipykernel_launcher.py:1: SettingWithCopyWarning: \n",
            "A value is trying to be set on a copy of a slice from a DataFrame.\n",
            "Try using .loc[row_indexer,col_indexer] = value instead\n",
            "\n",
            "See the caveats in the documentation: http://pandas.pydata.org/pandas-docs/stable/indexing.html#indexing-view-versus-copy\n",
            "  \"\"\"Entry point for launching an IPython kernel.\n"
          ],
          "name": "stderr"
        }
      ]
    },
    {
      "metadata": {
        "id": "_1oRukRc2R6H",
        "colab_type": "code",
        "outputId": "0cde737a-4233-44b5-a967-fd105b801832",
        "colab": {
          "base_uri": "https://localhost:8080/",
          "height": 102
        }
      },
      "cell_type": "code",
      "source": [
        "train_data.drop(['segments_pitches', 'segments_timbre', 'segments_loudness_max'], axis = 1, inplace = True)"
      ],
      "execution_count": 25,
      "outputs": [
        {
          "output_type": "stream",
          "text": [
            "/usr/local/lib/python3.6/dist-packages/ipykernel_launcher.py:1: SettingWithCopyWarning: \n",
            "A value is trying to be set on a copy of a slice from a DataFrame\n",
            "\n",
            "See the caveats in the documentation: http://pandas.pydata.org/pandas-docs/stable/indexing.html#indexing-view-versus-copy\n",
            "  \"\"\"Entry point for launching an IPython kernel.\n"
          ],
          "name": "stderr"
        }
      ]
    },
    {
      "metadata": {
        "id": "3IL0sHfl4NX1",
        "colab_type": "code",
        "colab": {}
      },
      "cell_type": "code",
      "source": [
        "#audioData['mfcc_shape'] = audioData['mfcc_input'].apply(feature_shape)"
      ],
      "execution_count": 0,
      "outputs": []
    },
    {
      "metadata": {
        "id": "9NG9ZEaGF1__",
        "colab_type": "code",
        "colab": {}
      },
      "cell_type": "code",
      "source": [
        "#audioData['pitch_shape'] = audioData['pitches_input'].apply(feature_shape)"
      ],
      "execution_count": 0,
      "outputs": []
    },
    {
      "metadata": {
        "id": "B9AJ76kfGamX",
        "colab_type": "code",
        "colab": {}
      },
      "cell_type": "code",
      "source": [
        "#audioData['loudness_shape'] = audioData['loudness_input'].apply(feature_shape)"
      ],
      "execution_count": 0,
      "outputs": []
    },
    {
      "metadata": {
        "id": "zo6craCDIPz3",
        "colab_type": "code",
        "outputId": "05a5c2db-8fcc-4d6e-bea1-4e84eff861fe",
        "colab": {
          "base_uri": "https://localhost:8080/",
          "height": 204
        }
      },
      "cell_type": "code",
      "source": [
        "train_data.head()"
      ],
      "execution_count": 25,
      "outputs": [
        {
          "output_type": "execute_result",
          "data": {
            "text/html": [
              "<div>\n",
              "<style scoped>\n",
              "    .dataframe tbody tr th:only-of-type {\n",
              "        vertical-align: middle;\n",
              "    }\n",
              "\n",
              "    .dataframe tbody tr th {\n",
              "        vertical-align: top;\n",
              "    }\n",
              "\n",
              "    .dataframe thead th {\n",
              "        text-align: right;\n",
              "    }\n",
              "</style>\n",
              "<table border=\"1\" class=\"dataframe\">\n",
              "  <thead>\n",
              "    <tr style=\"text-align: right;\">\n",
              "      <th></th>\n",
              "      <th>mfcc_input</th>\n",
              "      <th>pitches_input</th>\n",
              "      <th>loudness_input</th>\n",
              "    </tr>\n",
              "  </thead>\n",
              "  <tbody>\n",
              "    <tr>\n",
              "      <th>b'SOWLJJD12AF729D3F5'</th>\n",
              "      <td>[[0.23639000003823818, 100.05989599991548, -1....</td>\n",
              "      <td>[[0.09087200000015953, 0.6139999999995249, 0.1...</td>\n",
              "      <td>[-57.397, -54.051, -49.459, -46.432, -41.395, ...</td>\n",
              "    </tr>\n",
              "    <tr>\n",
              "      <th>b'SOQKYHD12A8C139193'</th>\n",
              "      <td>[[1.0595666666744707, 131.67443333350653, -32....</td>\n",
              "      <td>[[0.34580000000050976, 0.8866666666678525, 0.0...</td>\n",
              "      <td>[-57.958, -4.749, -7.914, -4.779, -8.584, -8.2...</td>\n",
              "    </tr>\n",
              "    <tr>\n",
              "      <th>b'SOBHQGR12A8C134244'</th>\n",
              "      <td>[[5.743598914990435e-11, 112.66058333320363, 6...</td>\n",
              "      <td>[[0.6583333333329051, 0.658333333332904, 0.658...</td>\n",
              "      <td>[-60.0, -6.5, -8.123, -9.253, -2.876, -24.911,...</td>\n",
              "    </tr>\n",
              "    <tr>\n",
              "      <th>b'SOATHRP12A8C13407D'</th>\n",
              "      <td>[[0.0, 122.75725333340908, 6.7924293333463766,...</td>\n",
              "      <td>[[0.7173333333337564, 0.7173333333338434, 0.71...</td>\n",
              "      <td>[-60.0, -13.642, -25.425, -17.123, -18.231, -1...</td>\n",
              "    </tr>\n",
              "    <tr>\n",
              "      <th>b'SOUVGPX12A8C13CE77'</th>\n",
              "      <td>[[1.2047360001210619, 143.44949866659817, 2.86...</td>\n",
              "      <td>[[0.34076266666690497, 0.4855626666670779, 0.7...</td>\n",
              "      <td>[-47.116, -21.989, -29.667, -28.563, -36.197, ...</td>\n",
              "    </tr>\n",
              "  </tbody>\n",
              "</table>\n",
              "</div>"
            ],
            "text/plain": [
              "                                                              mfcc_input  \\\n",
              "b'SOWLJJD12AF729D3F5'  [[0.23639000003823818, 100.05989599991548, -1....   \n",
              "b'SOQKYHD12A8C139193'  [[1.0595666666744707, 131.67443333350653, -32....   \n",
              "b'SOBHQGR12A8C134244'  [[5.743598914990435e-11, 112.66058333320363, 6...   \n",
              "b'SOATHRP12A8C13407D'  [[0.0, 122.75725333340908, 6.7924293333463766,...   \n",
              "b'SOUVGPX12A8C13CE77'  [[1.2047360001210619, 143.44949866659817, 2.86...   \n",
              "\n",
              "                                                           pitches_input  \\\n",
              "b'SOWLJJD12AF729D3F5'  [[0.09087200000015953, 0.6139999999995249, 0.1...   \n",
              "b'SOQKYHD12A8C139193'  [[0.34580000000050976, 0.8866666666678525, 0.0...   \n",
              "b'SOBHQGR12A8C134244'  [[0.6583333333329051, 0.658333333332904, 0.658...   \n",
              "b'SOATHRP12A8C13407D'  [[0.7173333333337564, 0.7173333333338434, 0.71...   \n",
              "b'SOUVGPX12A8C13CE77'  [[0.34076266666690497, 0.4855626666670779, 0.7...   \n",
              "\n",
              "                                                          loudness_input  \n",
              "b'SOWLJJD12AF729D3F5'  [-57.397, -54.051, -49.459, -46.432, -41.395, ...  \n",
              "b'SOQKYHD12A8C139193'  [-57.958, -4.749, -7.914, -4.779, -8.584, -8.2...  \n",
              "b'SOBHQGR12A8C134244'  [-60.0, -6.5, -8.123, -9.253, -2.876, -24.911,...  \n",
              "b'SOATHRP12A8C13407D'  [-60.0, -13.642, -25.425, -17.123, -18.231, -1...  \n",
              "b'SOUVGPX12A8C13CE77'  [-47.116, -21.989, -29.667, -28.563, -36.197, ...  "
            ]
          },
          "metadata": {
            "tags": []
          },
          "execution_count": 25
        }
      ]
    },
    {
      "metadata": {
        "id": "Js_O5l2pMGY-",
        "colab_type": "code",
        "colab": {}
      },
      "cell_type": "code",
      "source": [
        "mfcc_features = train_data['mfcc_input'].tolist()\n",
        "pitch_features = train_data['pitches_input'].tolist()\n",
        "#loudness_features = train_data['loudness_input'].tolist()"
      ],
      "execution_count": 0,
      "outputs": []
    },
    {
      "metadata": {
        "id": "YtVO0eVmbJJW",
        "colab_type": "code",
        "colab": {}
      },
      "cell_type": "code",
      "source": [
        "ts_features = audioData['time_signature'].tolist()\n",
        "tempo_features = audioData['tempo'].tolist()"
      ],
      "execution_count": 0,
      "outputs": []
    },
    {
      "metadata": {
        "id": "sM-HwUFXRqkh",
        "colab_type": "code",
        "outputId": "729525d4-4c62-4d12-c931-9c4c3e59f867",
        "colab": {
          "base_uri": "https://localhost:8080/",
          "height": 34
        }
      },
      "cell_type": "code",
      "source": [
        "type(mfcc_features)"
      ],
      "execution_count": 0,
      "outputs": [
        {
          "output_type": "execute_result",
          "data": {
            "text/plain": [
              "list"
            ]
          },
          "metadata": {
            "tags": []
          },
          "execution_count": 25
        }
      ]
    },
    {
      "metadata": {
        "id": "g-3LOII_RuVt",
        "colab_type": "code",
        "colab": {}
      },
      "cell_type": "code",
      "source": [
        "mfccs = np.asarray(mfcc_features)\n",
        "pitches = np.asarray(pitch_features)\n",
        "#loudness = np.asarray(loudness_features)"
      ],
      "execution_count": 0,
      "outputs": []
    },
    {
      "metadata": {
        "id": "du0tNyas0q9F",
        "colab_type": "code",
        "colab": {}
      },
      "cell_type": "code",
      "source": [
        "mfccs4 = mfccs[7506:]\n",
        "pitches4 = pitches[7506:]\n",
        "loudness4 = loudness[7506:]"
      ],
      "execution_count": 0,
      "outputs": []
    },
    {
      "metadata": {
        "id": "ExXRSwws11PD",
        "colab_type": "code",
        "colab": {}
      },
      "cell_type": "code",
      "source": [
        "loudness_ = np.reshape(loudness, (loudness.shape[0], loudness.shape[1], 1))"
      ],
      "execution_count": 0,
      "outputs": []
    },
    {
      "metadata": {
        "id": "rehI0Slny9fL",
        "colab_type": "code",
        "colab": {
          "base_uri": "https://localhost:8080/",
          "height": 34
        },
        "outputId": "ab173ee1-fbd2-46f6-b6f1-b2863fb3204f"
      },
      "cell_type": "code",
      "source": [
        "pitches.shape"
      ],
      "execution_count": 39,
      "outputs": [
        {
          "output_type": "execute_result",
          "data": {
            "text/plain": [
              "(8018, 1500, 12)"
            ]
          },
          "metadata": {
            "tags": []
          },
          "execution_count": 39
        }
      ]
    },
    {
      "metadata": {
        "id": "-_AlO7m-J7Ti",
        "colab_type": "code",
        "colab": {}
      },
      "cell_type": "code",
      "source": [
        "mfccs1 = mfccs[:2004]\n",
        "pitches1 = pitches[:2004]"
      ],
      "execution_count": 0,
      "outputs": []
    },
    {
      "metadata": {
        "id": "igoLzFldKgxy",
        "colab_type": "code",
        "colab": {}
      },
      "cell_type": "code",
      "source": [
        "mfcc2 = mfccs[2004:4008]\n",
        "pitches2 = pitches[2004:4008]"
      ],
      "execution_count": 0,
      "outputs": []
    },
    {
      "metadata": {
        "id": "Egz22zjYLg8q",
        "colab_type": "code",
        "colab": {}
      },
      "cell_type": "code",
      "source": [
        "mfccs3 = mfccs[4008:6012]\n",
        "pitches3 = pitches[4008:6012]"
      ],
      "execution_count": 0,
      "outputs": []
    },
    {
      "metadata": {
        "id": "o3L7x08IL4TI",
        "colab_type": "code",
        "colab": {}
      },
      "cell_type": "code",
      "source": [
        "mfccs4 = mfccs[6012:]\n",
        "pitches4 = pitches[6012:]"
      ],
      "execution_count": 0,
      "outputs": []
    },
    {
      "metadata": {
        "id": "u7BCuVnHxj2C",
        "colab_type": "code",
        "colab": {}
      },
      "cell_type": "code",
      "source": [
        "mfccs4.dump('mfccs4.npy')"
      ],
      "execution_count": 0,
      "outputs": []
    },
    {
      "metadata": {
        "id": "ozaUlG9FxquU",
        "colab_type": "code",
        "colab": {}
      },
      "cell_type": "code",
      "source": [
        "pitches4.dump('pitches4.npy')"
      ],
      "execution_count": 0,
      "outputs": []
    },
    {
      "metadata": {
        "id": "HPatUe3IxwpT",
        "colab_type": "code",
        "colab": {}
      },
      "cell_type": "code",
      "source": [
        "np.save('loudness.npy', loudness_)"
      ],
      "execution_count": 0,
      "outputs": []
    },
    {
      "metadata": {
        "id": "MQZu4boBx6mc",
        "colab_type": "code",
        "colab": {}
      },
      "cell_type": "code",
      "source": [
        "files.download('mfccs4.npy')"
      ],
      "execution_count": 0,
      "outputs": []
    },
    {
      "metadata": {
        "id": "e_I9STIDyAH1",
        "colab_type": "code",
        "colab": {}
      },
      "cell_type": "code",
      "source": [
        "files.download('pitches4.npy')"
      ],
      "execution_count": 0,
      "outputs": []
    },
    {
      "metadata": {
        "id": "_G9necC5yBcb",
        "colab_type": "code",
        "colab": {}
      },
      "cell_type": "code",
      "source": [
        "files.download('loudness.npy')"
      ],
      "execution_count": 0,
      "outputs": []
    },
    {
      "metadata": {
        "id": "fc-7TFng2Ahk",
        "colab_type": "code",
        "colab": {}
      },
      "cell_type": "code",
      "source": [
        "features = np.append(mfccs, pitches, axis = 2)\n",
        "features_ = np.append(features, loudness_, axis = 2)"
      ],
      "execution_count": 0,
      "outputs": []
    },
    {
      "metadata": {
        "id": "oXtKTgMr6KyS",
        "colab_type": "code",
        "outputId": "3445a09f-aad1-4171-ca91-f64ec23b3f28",
        "colab": {
          "base_uri": "https://localhost:8080/",
          "height": 34
        }
      },
      "cell_type": "code",
      "source": [
        "features_.shape"
      ],
      "execution_count": 33,
      "outputs": [
        {
          "output_type": "execute_result",
          "data": {
            "text/plain": [
              "(8018, 1500, 25)"
            ]
          },
          "metadata": {
            "tags": []
          },
          "execution_count": 33
        }
      ]
    },
    {
      "metadata": {
        "id": "fTQkMlFm2WkT",
        "colab_type": "code",
        "colab": {}
      },
      "cell_type": "code",
      "source": [
        "np.save('IR_data_full.npy', features_)"
      ],
      "execution_count": 0,
      "outputs": []
    },
    {
      "metadata": {
        "id": "A0wWaVUl2ecf",
        "colab_type": "code",
        "colab": {
          "resources": {
            "http://localhost:20489/content/IR_data_full.npy": {
              "data": "CjwhRE9DVFlQRSBodG1sPgo8aHRtbCBsYW5nPWVuPgogIDxtZXRhIGNoYXJzZXQ9dXRmLTg+CiAgPG1ldGEgbmFtZT12aWV3cG9ydCBjb250ZW50PSJpbml0aWFsLXNjYWxlPTEsIG1pbmltdW0tc2NhbGU9MSwgd2lkdGg9ZGV2aWNlLXdpZHRoIj4KICA8dGl0bGU+RXJyb3IgNTAwIChJbnRlcm5hbCBTZXJ2ZXIgRXJyb3IpISExPC90aXRsZT4KICA8c3R5bGU+CiAgICAqe21hcmdpbjowO3BhZGRpbmc6MH1odG1sLGNvZGV7Zm9udDoxNXB4LzIycHggYXJpYWwsc2Fucy1zZXJpZn1odG1se2JhY2tncm91bmQ6I2ZmZjtjb2xvcjojMjIyO3BhZGRpbmc6MTVweH1ib2R5e21hcmdpbjo3JSBhdXRvIDA7bWF4LXdpZHRoOjM5MHB4O21pbi1oZWlnaHQ6MTgwcHg7cGFkZGluZzozMHB4IDAgMTVweH0qID4gYm9keXtiYWNrZ3JvdW5kOnVybCgvL3d3dy5nb29nbGUuY29tL2ltYWdlcy9lcnJvcnMvcm9ib3QucG5nKSAxMDAlIDVweCBuby1yZXBlYXQ7cGFkZGluZy1yaWdodDoyMDVweH1we21hcmdpbjoxMXB4IDAgMjJweDtvdmVyZmxvdzpoaWRkZW59aW5ze2NvbG9yOiM3Nzc7dGV4dC1kZWNvcmF0aW9uOm5vbmV9YSBpbWd7Ym9yZGVyOjB9QG1lZGlhIHNjcmVlbiBhbmQgKG1heC13aWR0aDo3NzJweCl7Ym9keXtiYWNrZ3JvdW5kOm5vbmU7bWFyZ2luLXRvcDowO21heC13aWR0aDpub25lO3BhZGRpbmctcmlnaHQ6MH19I2xvZ297YmFja2dyb3VuZDp1cmwoLy93d3cuZ29vZ2xlLmNvbS9pbWFnZXMvbG9nb3MvZXJyb3JwYWdlL2Vycm9yX2xvZ28tMTUweDU0LnBuZykgbm8tcmVwZWF0O21hcmdpbi1sZWZ0Oi01cHh9QG1lZGlhIG9ubHkgc2NyZWVuIGFuZCAobWluLXJlc29sdXRpb246MTkyZHBpKXsjbG9nb3tiYWNrZ3JvdW5kOnVybCgvL3d3dy5nb29nbGUuY29tL2ltYWdlcy9sb2dvcy9lcnJvcnBhZ2UvZXJyb3JfbG9nby0xNTB4NTQtMngucG5nKSBuby1yZXBlYXQgMCUgMCUvMTAwJSAxMDAlOy1tb3otYm9yZGVyLWltYWdlOnVybCgvL3d3dy5nb29nbGUuY29tL2ltYWdlcy9sb2dvcy9lcnJvcnBhZ2UvZXJyb3JfbG9nby0xNTB4NTQtMngucG5nKSAwfX1AbWVkaWEgb25seSBzY3JlZW4gYW5kICgtd2Via2l0LW1pbi1kZXZpY2UtcGl4ZWwtcmF0aW86Mil7I2xvZ297YmFja2dyb3VuZDp1cmwoLy93d3cuZ29vZ2xlLmNvbS9pbWFnZXMvbG9nb3MvZXJyb3JwYWdlL2Vycm9yX2xvZ28tMTUweDU0LTJ4LnBuZykgbm8tcmVwZWF0Oy13ZWJraXQtYmFja2dyb3VuZC1zaXplOjEwMCUgMTAwJX19I2xvZ297ZGlzcGxheTppbmxpbmUtYmxvY2s7aGVpZ2h0OjU0cHg7d2lkdGg6MTUwcHh9CiAgPC9zdHlsZT4KICA8YSBocmVmPS8vd3d3Lmdvb2dsZS5jb20vPjxzcGFuIGlkPWxvZ28gYXJpYS1sYWJlbD1Hb29nbGU+PC9zcGFuPjwvYT4KICA8cD48Yj41MDAuPC9iPiA8aW5zPlRoYXTigJlzIGFuIGVycm9yLjwvaW5zPgogIDxwPiAgPGlucz5UaGF04oCZcyBhbGwgd2Uga25vdy48L2lucz4K",
              "ok": false,
              "headers": [
                [
                  "content-length",
                  "1461"
                ],
                [
                  "content-type",
                  "text/html; charset=utf-8"
                ]
              ],
              "status": 500,
              "status_text": ""
            }
          },
          "base_uri": "https://localhost:8080/",
          "height": 928
        },
        "outputId": "0b6589e0-2858-4b91-b3e6-79ed8813d436"
      },
      "cell_type": "code",
      "source": [
        "files.download('IR_data_full.npy')"
      ],
      "execution_count": 35,
      "outputs": [
        {
          "output_type": "stream",
          "text": [
            "----------------------------------------\n",
            "Exception happened during processing of request from ('::ffff:127.0.0.1', 42238, 0, 0)\n",
            "Traceback (most recent call last):\n",
            "  File \"/usr/lib/python3.6/socketserver.py\", line 317, in _handle_request_noblock\n",
            "    self.process_request(request, client_address)\n",
            "  File \"/usr/lib/python3.6/socketserver.py\", line 348, in process_request\n",
            "    self.finish_request(request, client_address)\n",
            "  File \"/usr/lib/python3.6/socketserver.py\", line 361, in finish_request\n",
            "    self.RequestHandlerClass(request, client_address, self)\n",
            "  File \"/usr/lib/python3.6/socketserver.py\", line 721, in __init__\n",
            "    self.handle()\n",
            "  File \"/usr/lib/python3.6/http/server.py\", line 418, in handle\n",
            "    self.handle_one_request()\n",
            "  File \"/usr/lib/python3.6/http/server.py\", line 406, in handle_one_request\n",
            "    method()\n",
            "  File \"/usr/lib/python3.6/http/server.py\", line 639, in do_GET\n",
            "    self.copyfile(f, self.wfile)\n",
            "  File \"/usr/lib/python3.6/http/server.py\", line 800, in copyfile\n",
            "    shutil.copyfileobj(source, outputfile)\n",
            "  File \"/usr/lib/python3.6/shutil.py\", line 82, in copyfileobj\n",
            "    fdst.write(buf)\n",
            "  File \"/usr/lib/python3.6/socketserver.py\", line 800, in write\n",
            "    self._sock.sendall(b)\n",
            "ConnectionResetError: [Errno 104] Connection reset by peer\n",
            "----------------------------------------\n"
          ],
          "name": "stderr"
        },
        {
          "output_type": "error",
          "ename": "KeyboardInterrupt",
          "evalue": "ignored",
          "traceback": [
            "\u001b[0;31m---------------------------------------------------------------------------\u001b[0m",
            "\u001b[0;31mKeyboardInterrupt\u001b[0m                         Traceback (most recent call last)",
            "\u001b[0;32m<ipython-input-35-a8f9e95a5dfd>\u001b[0m in \u001b[0;36m<module>\u001b[0;34m()\u001b[0m\n\u001b[0;32m----> 1\u001b[0;31m \u001b[0mfiles\u001b[0m\u001b[0;34m.\u001b[0m\u001b[0mdownload\u001b[0m\u001b[0;34m(\u001b[0m\u001b[0;34m'IR_data_full.npy'\u001b[0m\u001b[0;34m)\u001b[0m\u001b[0;34m\u001b[0m\u001b[0;34m\u001b[0m\u001b[0m\n\u001b[0m",
            "\u001b[0;32m/usr/local/lib/python3.6/dist-packages/google/colab/files.py\u001b[0m in \u001b[0;36mdownload\u001b[0;34m(filename)\u001b[0m\n\u001b[1;32m    176\u001b[0m       \u001b[0;34m'port'\u001b[0m\u001b[0;34m:\u001b[0m \u001b[0mport\u001b[0m\u001b[0;34m,\u001b[0m\u001b[0;34m\u001b[0m\u001b[0;34m\u001b[0m\u001b[0m\n\u001b[1;32m    177\u001b[0m       \u001b[0;34m'path'\u001b[0m\u001b[0;34m:\u001b[0m \u001b[0m_os\u001b[0m\u001b[0;34m.\u001b[0m\u001b[0mpath\u001b[0m\u001b[0;34m.\u001b[0m\u001b[0mabspath\u001b[0m\u001b[0;34m(\u001b[0m\u001b[0mfilename\u001b[0m\u001b[0;34m)\u001b[0m\u001b[0;34m,\u001b[0m\u001b[0;34m\u001b[0m\u001b[0;34m\u001b[0m\u001b[0m\n\u001b[0;32m--> 178\u001b[0;31m       \u001b[0;34m'name'\u001b[0m\u001b[0;34m:\u001b[0m \u001b[0m_os\u001b[0m\u001b[0;34m.\u001b[0m\u001b[0mpath\u001b[0m\u001b[0;34m.\u001b[0m\u001b[0mbasename\u001b[0m\u001b[0;34m(\u001b[0m\u001b[0mfilename\u001b[0m\u001b[0;34m)\u001b[0m\u001b[0;34m,\u001b[0m\u001b[0;34m\u001b[0m\u001b[0;34m\u001b[0m\u001b[0m\n\u001b[0m\u001b[1;32m    179\u001b[0m   })\n",
            "\u001b[0;32m/usr/local/lib/python3.6/dist-packages/google/colab/output/_js.py\u001b[0m in \u001b[0;36meval_js\u001b[0;34m(script, ignore_result)\u001b[0m\n\u001b[1;32m     37\u001b[0m   \u001b[0;32mif\u001b[0m \u001b[0mignore_result\u001b[0m\u001b[0;34m:\u001b[0m\u001b[0;34m\u001b[0m\u001b[0;34m\u001b[0m\u001b[0m\n\u001b[1;32m     38\u001b[0m     \u001b[0;32mreturn\u001b[0m\u001b[0;34m\u001b[0m\u001b[0;34m\u001b[0m\u001b[0m\n\u001b[0;32m---> 39\u001b[0;31m   \u001b[0;32mreturn\u001b[0m \u001b[0m_message\u001b[0m\u001b[0;34m.\u001b[0m\u001b[0mread_reply_from_input\u001b[0m\u001b[0;34m(\u001b[0m\u001b[0mrequest_id\u001b[0m\u001b[0;34m)\u001b[0m\u001b[0;34m\u001b[0m\u001b[0;34m\u001b[0m\u001b[0m\n\u001b[0m\u001b[1;32m     40\u001b[0m \u001b[0;34m\u001b[0m\u001b[0m\n\u001b[1;32m     41\u001b[0m \u001b[0;34m\u001b[0m\u001b[0m\n",
            "\u001b[0;32m/usr/local/lib/python3.6/dist-packages/google/colab/_message.py\u001b[0m in \u001b[0;36mread_reply_from_input\u001b[0;34m(message_id, timeout_sec)\u001b[0m\n\u001b[1;32m     99\u001b[0m     \u001b[0mreply\u001b[0m \u001b[0;34m=\u001b[0m \u001b[0m_read_next_input_message\u001b[0m\u001b[0;34m(\u001b[0m\u001b[0;34m)\u001b[0m\u001b[0;34m\u001b[0m\u001b[0;34m\u001b[0m\u001b[0m\n\u001b[1;32m    100\u001b[0m     \u001b[0;32mif\u001b[0m \u001b[0mreply\u001b[0m \u001b[0;34m==\u001b[0m \u001b[0m_NOT_READY\u001b[0m \u001b[0;32mor\u001b[0m \u001b[0;32mnot\u001b[0m \u001b[0misinstance\u001b[0m\u001b[0;34m(\u001b[0m\u001b[0mreply\u001b[0m\u001b[0;34m,\u001b[0m \u001b[0mdict\u001b[0m\u001b[0;34m)\u001b[0m\u001b[0;34m:\u001b[0m\u001b[0;34m\u001b[0m\u001b[0;34m\u001b[0m\u001b[0m\n\u001b[0;32m--> 101\u001b[0;31m       \u001b[0mtime\u001b[0m\u001b[0;34m.\u001b[0m\u001b[0msleep\u001b[0m\u001b[0;34m(\u001b[0m\u001b[0;36m0.025\u001b[0m\u001b[0;34m)\u001b[0m\u001b[0;34m\u001b[0m\u001b[0;34m\u001b[0m\u001b[0m\n\u001b[0m\u001b[1;32m    102\u001b[0m       \u001b[0;32mcontinue\u001b[0m\u001b[0;34m\u001b[0m\u001b[0;34m\u001b[0m\u001b[0m\n\u001b[1;32m    103\u001b[0m     if (reply.get('type') == 'colab_reply' and\n",
            "\u001b[0;31mKeyboardInterrupt\u001b[0m: "
          ]
        }
      ]
    },
    {
      "metadata": {
        "id": "A6EStM7GcNR8",
        "colab_type": "code",
        "colab": {}
      },
      "cell_type": "code",
      "source": [
        "time_sig = np.asarray(ts_features)\n",
        "tempo = np.asarray(tempo_features)"
      ],
      "execution_count": 0,
      "outputs": []
    },
    {
      "metadata": {
        "id": "BFqMA-AXTFeC",
        "colab_type": "code",
        "outputId": "e29ed147-d93b-400e-c26a-ffaae3ab5d21",
        "colab": {
          "base_uri": "https://localhost:8080/",
          "height": 34
        }
      },
      "cell_type": "code",
      "source": [
        "loudness.shape"
      ],
      "execution_count": 0,
      "outputs": [
        {
          "output_type": "execute_result",
          "data": {
            "text/plain": [
              "(10008, 1200)"
            ]
          },
          "metadata": {
            "tags": []
          },
          "execution_count": 27
        }
      ]
    },
    {
      "metadata": {
        "id": "z6vnYk-Hch_o",
        "colab_type": "code",
        "outputId": "3a5eff17-2702-41fd-8365-106ff3923766",
        "colab": {
          "base_uri": "https://localhost:8080/",
          "height": 34
        }
      },
      "cell_type": "code",
      "source": [
        "time_sig.shape"
      ],
      "execution_count": 0,
      "outputs": [
        {
          "output_type": "execute_result",
          "data": {
            "text/plain": [
              "(10008,)"
            ]
          },
          "metadata": {
            "tags": []
          },
          "execution_count": 29
        }
      ]
    },
    {
      "metadata": {
        "id": "UVHWICgTcic9",
        "colab_type": "code",
        "outputId": "4a457083-0d97-4d5d-8001-7d72bc4c93f3",
        "colab": {
          "base_uri": "https://localhost:8080/",
          "height": 34
        }
      },
      "cell_type": "code",
      "source": [
        "tempo.shape"
      ],
      "execution_count": 0,
      "outputs": [
        {
          "output_type": "execute_result",
          "data": {
            "text/plain": [
              "(10008,)"
            ]
          },
          "metadata": {
            "tags": []
          },
          "execution_count": 30
        }
      ]
    },
    {
      "metadata": {
        "id": "AoHGLkyiTPq2",
        "colab_type": "code",
        "colab": {}
      },
      "cell_type": "code",
      "source": [
        "loudness_ = np.reshape(loudness, (loudness.shape[0], loudness.shape[1], 1))"
      ],
      "execution_count": 0,
      "outputs": []
    },
    {
      "metadata": {
        "id": "piuVbd_ScrXe",
        "colab_type": "code",
        "colab": {}
      },
      "cell_type": "code",
      "source": [
        "time_sig_ = np.reshape(time_sig, (time_sig.shape[0], 1, 1))\n",
        "tempo_ = np.reshape(tempo, (tempo.shape[0], 1, 1))"
      ],
      "execution_count": 0,
      "outputs": []
    },
    {
      "metadata": {
        "id": "DfIcOM7aTaww",
        "colab_type": "code",
        "outputId": "bbaf5fc6-923a-4d8c-c8c0-470a7d53e2bd",
        "colab": {
          "base_uri": "https://localhost:8080/",
          "height": 34
        }
      },
      "cell_type": "code",
      "source": [
        "loudness_.shape"
      ],
      "execution_count": 0,
      "outputs": [
        {
          "output_type": "execute_result",
          "data": {
            "text/plain": [
              "(10008, 1200, 1)"
            ]
          },
          "metadata": {
            "tags": []
          },
          "execution_count": 29
        }
      ]
    },
    {
      "metadata": {
        "id": "ijZHpZCDR-Xr",
        "colab_type": "code",
        "outputId": "fc16f02c-53aa-47ee-a64d-a45d5bd09361",
        "colab": {
          "base_uri": "https://localhost:8080/",
          "height": 34
        }
      },
      "cell_type": "code",
      "source": [
        "mfccs.shape"
      ],
      "execution_count": 0,
      "outputs": [
        {
          "output_type": "execute_result",
          "data": {
            "text/plain": [
              "(10008, 1200, 12)"
            ]
          },
          "metadata": {
            "tags": []
          },
          "execution_count": 30
        }
      ]
    },
    {
      "metadata": {
        "id": "dy6KW49RdDsy",
        "colab_type": "code",
        "outputId": "3da701e9-76cc-49a5-af19-58aae80b7e11",
        "colab": {
          "base_uri": "https://localhost:8080/",
          "height": 34
        }
      },
      "cell_type": "code",
      "source": [
        "time_sig_.shape"
      ],
      "execution_count": 0,
      "outputs": [
        {
          "output_type": "execute_result",
          "data": {
            "text/plain": [
              "(10008, 1, 1)"
            ]
          },
          "metadata": {
            "tags": []
          },
          "execution_count": 35
        }
      ]
    },
    {
      "metadata": {
        "id": "vSthX1YbdG3q",
        "colab_type": "code",
        "outputId": "704d03b6-6c88-4cdb-c720-8355d7582a10",
        "colab": {
          "base_uri": "https://localhost:8080/",
          "height": 34
        }
      },
      "cell_type": "code",
      "source": [
        "tempo_.shape"
      ],
      "execution_count": 0,
      "outputs": [
        {
          "output_type": "execute_result",
          "data": {
            "text/plain": [
              "(10008, 1, 1)"
            ]
          },
          "metadata": {
            "tags": []
          },
          "execution_count": 36
        }
      ]
    },
    {
      "metadata": {
        "id": "88M5WCJ7SwYP",
        "colab_type": "code",
        "colab": {}
      },
      "cell_type": "code",
      "source": [
        "features = np.append(mfccs, pitches, axis = 2)"
      ],
      "execution_count": 0,
      "outputs": []
    },
    {
      "metadata": {
        "id": "9dJnwPt7S6Xx",
        "colab_type": "code",
        "colab": {}
      },
      "cell_type": "code",
      "source": [
        "features_ = np.append(features, loudness_, axis = 2)"
      ],
      "execution_count": 0,
      "outputs": []
    },
    {
      "metadata": {
        "id": "x5nstMuUdQtU",
        "colab_type": "code",
        "outputId": "1835fef9-604a-49a4-ce79-13e9f8eefded",
        "colab": {
          "base_uri": "https://localhost:8080/",
          "height": 253
        }
      },
      "cell_type": "code",
      "source": [
        "features_ = np.append(features, time_sig, axis = 1)"
      ],
      "execution_count": 0,
      "outputs": [
        {
          "output_type": "error",
          "ename": "ValueError",
          "evalue": "ignored",
          "traceback": [
            "\u001b[0;31m---------------------------------------------------------------------------\u001b[0m",
            "\u001b[0;31mValueError\u001b[0m                                Traceback (most recent call last)",
            "\u001b[0;32m<ipython-input-92-dd292235c723>\u001b[0m in \u001b[0;36m<module>\u001b[0;34m()\u001b[0m\n\u001b[0;32m----> 1\u001b[0;31m \u001b[0mfeatures_\u001b[0m \u001b[0;34m=\u001b[0m \u001b[0mnp\u001b[0m\u001b[0;34m.\u001b[0m\u001b[0mappend\u001b[0m\u001b[0;34m(\u001b[0m\u001b[0mfeatures\u001b[0m\u001b[0;34m,\u001b[0m \u001b[0mtime_sig\u001b[0m\u001b[0;34m,\u001b[0m \u001b[0maxis\u001b[0m \u001b[0;34m=\u001b[0m \u001b[0;36m1\u001b[0m\u001b[0;34m)\u001b[0m\u001b[0;34m\u001b[0m\u001b[0;34m\u001b[0m\u001b[0m\n\u001b[0m",
            "\u001b[0;32m/usr/local/lib/python3.6/dist-packages/numpy/lib/function_base.py\u001b[0m in \u001b[0;36mappend\u001b[0;34m(arr, values, axis)\u001b[0m\n\u001b[1;32m   5164\u001b[0m         \u001b[0mvalues\u001b[0m \u001b[0;34m=\u001b[0m \u001b[0mravel\u001b[0m\u001b[0;34m(\u001b[0m\u001b[0mvalues\u001b[0m\u001b[0;34m)\u001b[0m\u001b[0;34m\u001b[0m\u001b[0;34m\u001b[0m\u001b[0m\n\u001b[1;32m   5165\u001b[0m         \u001b[0maxis\u001b[0m \u001b[0;34m=\u001b[0m \u001b[0marr\u001b[0m\u001b[0;34m.\u001b[0m\u001b[0mndim\u001b[0m\u001b[0;34m-\u001b[0m\u001b[0;36m1\u001b[0m\u001b[0;34m\u001b[0m\u001b[0;34m\u001b[0m\u001b[0m\n\u001b[0;32m-> 5166\u001b[0;31m     \u001b[0;32mreturn\u001b[0m \u001b[0mconcatenate\u001b[0m\u001b[0;34m(\u001b[0m\u001b[0;34m(\u001b[0m\u001b[0marr\u001b[0m\u001b[0;34m,\u001b[0m \u001b[0mvalues\u001b[0m\u001b[0;34m)\u001b[0m\u001b[0;34m,\u001b[0m \u001b[0maxis\u001b[0m\u001b[0;34m=\u001b[0m\u001b[0maxis\u001b[0m\u001b[0;34m)\u001b[0m\u001b[0;34m\u001b[0m\u001b[0;34m\u001b[0m\u001b[0m\n\u001b[0m",
            "\u001b[0;31mValueError\u001b[0m: all the input arrays must have same number of dimensions"
          ]
        }
      ]
    },
    {
      "metadata": {
        "id": "da1fPzE4c_K8",
        "colab_type": "code",
        "colab": {}
      },
      "cell_type": "code",
      "source": [
        "features_ = np.append(features, tempo_, axis = 1)"
      ],
      "execution_count": 0,
      "outputs": []
    },
    {
      "metadata": {
        "id": "43vwLWj7Tnqj",
        "colab_type": "code",
        "colab": {}
      },
      "cell_type": "code",
      "source": [
        "features_.shape"
      ],
      "execution_count": 0,
      "outputs": []
    },
    {
      "metadata": {
        "id": "O7sg_S6MUEJj",
        "colab_type": "code",
        "colab": {}
      },
      "cell_type": "code",
      "source": [
        "features_.dump('IR_data_full.dat')"
      ],
      "execution_count": 0,
      "outputs": []
    },
    {
      "metadata": {
        "id": "8wNbtJ7kWCsW",
        "colab_type": "code",
        "colab": {}
      },
      "cell_type": "code",
      "source": [
        "files.download('IR_data_full.dat')"
      ],
      "execution_count": 0,
      "outputs": []
    },
    {
      "metadata": {
        "id": "UZ5Al0ysWbe2",
        "colab_type": "code",
        "colab": {}
      },
      "cell_type": "code",
      "source": [
        ""
      ],
      "execution_count": 0,
      "outputs": []
    }
  ]
}